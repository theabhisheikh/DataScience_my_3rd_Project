{
 "cells": [
  {
   "cell_type": "markdown",
   "id": "1a409193",
   "metadata": {},
   "source": [
    "# 100 numpy exercises\n"
   ]
  },
  {
   "cell_type": "markdown",
   "id": "d4f8e89d",
   "metadata": {},
   "source": [
    "#### 1. Import the numpy package under the name `np` (★☆☆)"
   ]
  },
  {
   "cell_type": "code",
   "execution_count": 1,
   "id": "8e029697",
   "metadata": {},
   "outputs": [],
   "source": [
    "import numpy as np"
   ]
  },
  {
   "cell_type": "markdown",
   "id": "4ec99f5b",
   "metadata": {},
   "source": [
    "#### 2. Print the numpy version and the configuration (★☆☆)"
   ]
  },
  {
   "cell_type": "code",
   "execution_count": 2,
   "id": "93156ea7",
   "metadata": {},
   "outputs": [
    {
     "name": "stdout",
     "output_type": "stream",
     "text": [
      "1.24.3\n",
      "blas_armpl_info:\n",
      "  NOT AVAILABLE\n",
      "blas_mkl_info:\n",
      "    libraries = ['mkl_rt']\n",
      "    library_dirs = ['E:/Anaconda\\\\Library\\\\lib']\n",
      "    define_macros = [('SCIPY_MKL_H', None), ('HAVE_CBLAS', None)]\n",
      "    include_dirs = ['E:/Anaconda\\\\Library\\\\include']\n",
      "blas_opt_info:\n",
      "    libraries = ['mkl_rt']\n",
      "    library_dirs = ['E:/Anaconda\\\\Library\\\\lib']\n",
      "    define_macros = [('SCIPY_MKL_H', None), ('HAVE_CBLAS', None)]\n",
      "    include_dirs = ['E:/Anaconda\\\\Library\\\\include']\n",
      "lapack_armpl_info:\n",
      "  NOT AVAILABLE\n",
      "lapack_mkl_info:\n",
      "    libraries = ['mkl_rt']\n",
      "    library_dirs = ['E:/Anaconda\\\\Library\\\\lib']\n",
      "    define_macros = [('SCIPY_MKL_H', None), ('HAVE_CBLAS', None)]\n",
      "    include_dirs = ['E:/Anaconda\\\\Library\\\\include']\n",
      "lapack_opt_info:\n",
      "    libraries = ['mkl_rt']\n",
      "    library_dirs = ['E:/Anaconda\\\\Library\\\\lib']\n",
      "    define_macros = [('SCIPY_MKL_H', None), ('HAVE_CBLAS', None)]\n",
      "    include_dirs = ['E:/Anaconda\\\\Library\\\\include']\n",
      "Supported SIMD extensions in this NumPy install:\n",
      "    baseline = SSE,SSE2,SSE3\n",
      "    found = SSSE3,SSE41,POPCNT,SSE42,AVX,F16C,FMA3,AVX2\n",
      "    not found = AVX512F,AVX512CD,AVX512_SKX,AVX512_CLX,AVX512_CNL,AVX512_ICL\n",
      "None\n"
     ]
    }
   ],
   "source": [
    "print(np.__version__)\n",
    "print(np.show_config())"
   ]
  },
  {
   "cell_type": "markdown",
   "id": "1c6622d9",
   "metadata": {},
   "source": [
    "#### 3. Create a null vector of size 10 (★☆☆)"
   ]
  },
  {
   "cell_type": "code",
   "execution_count": 3,
   "id": "4760b5bf",
   "metadata": {},
   "outputs": [
    {
     "name": "stdout",
     "output_type": "stream",
     "text": [
      "[0. 0. 0. 0. 0. 0. 0. 0. 0. 0.]\n"
     ]
    }
   ],
   "source": [
    "null_vector = np.zeros(10)\n",
    "print(null_vector)"
   ]
  },
  {
   "cell_type": "markdown",
   "id": "e527ad21",
   "metadata": {},
   "source": [
    "#### 4. How to find the memory size of any array (★☆☆)"
   ]
  },
  {
   "cell_type": "code",
   "execution_count": 4,
   "id": "07d29189",
   "metadata": {},
   "outputs": [
    {
     "name": "stdout",
     "output_type": "stream",
     "text": [
      "800\n"
     ]
    }
   ],
   "source": [
    "array = np.zeros((10, 10))\n",
    "print(array.size * array.itemsize)"
   ]
  },
  {
   "cell_type": "markdown",
   "id": "af66fb46",
   "metadata": {},
   "source": [
    "#### 5. How to get the documentation of the numpy add function from the command line? (★☆☆)"
   ]
  },
  {
   "cell_type": "code",
   "execution_count": 5,
   "id": "b4a65105",
   "metadata": {},
   "outputs": [
    {
     "data": {
      "text/plain": [
       "0"
      ]
     },
     "execution_count": 5,
     "metadata": {},
     "output_type": "execute_result"
    }
   ],
   "source": [
    "import subprocess\n",
    "subprocess.call([\"python\", \"-c\", \"import numpy; numpy.info(numpy.add)\"])\n"
   ]
  },
  {
   "cell_type": "markdown",
   "id": "23ee5f99",
   "metadata": {},
   "source": [
    "#### 6. Create a null vector of size 10 but the fifth value which is 1 (★☆☆)"
   ]
  },
  {
   "cell_type": "code",
   "execution_count": 6,
   "id": "1a5ac2c3",
   "metadata": {},
   "outputs": [
    {
     "name": "stdout",
     "output_type": "stream",
     "text": [
      "[0. 0. 0. 0. 1. 0. 0. 0. 0. 0.]\n"
     ]
    }
   ],
   "source": [
    "null_vector = np.zeros(10)\n",
    "null_vector[4] = 1\n",
    "print(null_vector)"
   ]
  },
  {
   "cell_type": "markdown",
   "id": "430bb0b6",
   "metadata": {},
   "source": [
    "#### 7. Create a vector with values ranging from 10 to 49 (★☆☆)"
   ]
  },
  {
   "cell_type": "code",
   "execution_count": 7,
   "id": "07c7e96e",
   "metadata": {},
   "outputs": [
    {
     "name": "stdout",
     "output_type": "stream",
     "text": [
      "[10 11 12 13 14 15 16 17 18 19 20 21 22 23 24 25 26 27 28 29 30 31 32 33\n",
      " 34 35 36 37 38 39 40 41 42 43 44 45 46 47 48 49]\n"
     ]
    }
   ],
   "source": [
    "vector = np.arange(10, 50)\n",
    "print(vector)"
   ]
  },
  {
   "cell_type": "markdown",
   "id": "409e522b",
   "metadata": {},
   "source": [
    "#### 8. Reverse a vector (first element becomes last) (★☆☆)"
   ]
  },
  {
   "cell_type": "code",
   "execution_count": 8,
   "id": "c5babc63",
   "metadata": {},
   "outputs": [
    {
     "name": "stdout",
     "output_type": "stream",
     "text": [
      "[49 48 47 46 45 44 43 42 41 40 39 38 37 36 35 34 33 32 31 30 29 28 27 26\n",
      " 25 24 23 22 21 20 19 18 17 16 15 14 13 12 11 10]\n"
     ]
    }
   ],
   "source": [
    "reversed_vector = vector[::-1]\n",
    "print(reversed_vector)"
   ]
  },
  {
   "cell_type": "markdown",
   "id": "3218f115",
   "metadata": {},
   "source": [
    "#### 9. Create a 3x3 matrix with values ranging from 0 to 8 (★☆☆)"
   ]
  },
  {
   "cell_type": "code",
   "execution_count": 9,
   "id": "01d1a8a9",
   "metadata": {},
   "outputs": [
    {
     "name": "stdout",
     "output_type": "stream",
     "text": [
      "[[0 1 2]\n",
      " [3 4 5]\n",
      " [6 7 8]]\n"
     ]
    }
   ],
   "source": [
    "matrix = np.arange(9).reshape(3, 3)\n",
    "print(matrix)"
   ]
  },
  {
   "cell_type": "markdown",
   "id": "65b4860a",
   "metadata": {},
   "source": [
    "#### 10. Find indices of non-zero elements from [1,2,0,0,4,0] (★☆☆)"
   ]
  },
  {
   "cell_type": "code",
   "execution_count": 10,
   "id": "43ac089a",
   "metadata": {},
   "outputs": [
    {
     "name": "stdout",
     "output_type": "stream",
     "text": [
      "(array([0, 1, 4], dtype=int64),)\n"
     ]
    }
   ],
   "source": [
    "array = np.array([1, 2, 0, 0, 4, 0])\n",
    "non_zero_indices = np.nonzero(array)\n",
    "print(non_zero_indices)"
   ]
  },
  {
   "cell_type": "markdown",
   "id": "81308018",
   "metadata": {},
   "source": [
    "#### 11. Create a 3x3 identity matrix (★☆☆)"
   ]
  },
  {
   "cell_type": "code",
   "execution_count": 11,
   "id": "b3d900ac",
   "metadata": {},
   "outputs": [
    {
     "name": "stdout",
     "output_type": "stream",
     "text": [
      "[[1. 0. 0.]\n",
      " [0. 1. 0.]\n",
      " [0. 0. 1.]]\n"
     ]
    }
   ],
   "source": [
    "identity_matrix = np.eye(3)\n",
    "print(identity_matrix)"
   ]
  },
  {
   "cell_type": "markdown",
   "id": "fc31ac75",
   "metadata": {},
   "source": [
    "#### 12. Create a 3x3x3 array with random values (★☆☆)"
   ]
  },
  {
   "cell_type": "code",
   "execution_count": 12,
   "id": "d88f6f46",
   "metadata": {},
   "outputs": [
    {
     "name": "stdout",
     "output_type": "stream",
     "text": [
      "[[[0.43216881 0.48882898 0.20405063]\n",
      "  [0.87709256 0.12762538 0.0536112 ]\n",
      "  [0.66325052 0.77753337 0.91709116]]\n",
      "\n",
      " [[0.19818974 0.64459309 0.90364428]\n",
      "  [0.29935724 0.95414228 0.98767719]\n",
      "  [0.0701259  0.47765507 0.14941888]]\n",
      "\n",
      " [[0.7624115  0.80716584 0.20717226]\n",
      "  [0.77268298 0.32664249 0.29788513]\n",
      "  [0.75878812 0.46879179 0.74945298]]]\n"
     ]
    }
   ],
   "source": [
    "random_array = np.random.random((3, 3, 3))\n",
    "print(random_array)"
   ]
  },
  {
   "cell_type": "markdown",
   "id": "3baa6829",
   "metadata": {},
   "source": [
    "#### 13. Create a 10x10 array with random values and find the minimum and maximum values (★☆☆)"
   ]
  },
  {
   "cell_type": "code",
   "execution_count": 13,
   "id": "d0514a1b",
   "metadata": {},
   "outputs": [
    {
     "name": "stdout",
     "output_type": "stream",
     "text": [
      "Minimum: 0.002197336925522042\n",
      "Maximum: 0.9986350995140637\n"
     ]
    }
   ],
   "source": [
    "array = np.random.random((10, 10))\n",
    "min_value = np.min(array)\n",
    "max_value = np.max(array)\n",
    "print(\"Minimum:\", min_value)\n",
    "print(\"Maximum:\", max_value)"
   ]
  },
  {
   "cell_type": "markdown",
   "id": "fa9efe59",
   "metadata": {},
   "source": [
    "#### 14. Create a random vector of size 30 and find the mean value (★☆☆)"
   ]
  },
  {
   "cell_type": "code",
   "execution_count": 14,
   "id": "5cd2b57a",
   "metadata": {},
   "outputs": [
    {
     "name": "stdout",
     "output_type": "stream",
     "text": [
      "Mean: 0.6207761408342836\n"
     ]
    }
   ],
   "source": [
    "random_vector = np.random.random(30)\n",
    "mean_value = np.mean(random_vector)\n",
    "print(\"Mean:\", mean_value)"
   ]
  },
  {
   "cell_type": "markdown",
   "id": "2417db81",
   "metadata": {},
   "source": [
    "#### 15. Create a 2d array with 1 on the border and 0 inside (★☆☆)"
   ]
  },
  {
   "cell_type": "code",
   "execution_count": 15,
   "id": "9969b567",
   "metadata": {},
   "outputs": [
    {
     "name": "stdout",
     "output_type": "stream",
     "text": [
      "[[1. 1. 1. 1. 1.]\n",
      " [1. 0. 0. 0. 1.]\n",
      " [1. 0. 0. 0. 1.]\n",
      " [1. 0. 0. 0. 1.]\n",
      " [1. 1. 1. 1. 1.]]\n"
     ]
    }
   ],
   "source": [
    "array = np.ones((5, 5))\n",
    "array[1:-1, 1:-1] = 0\n",
    "print(array)"
   ]
  },
  {
   "cell_type": "markdown",
   "id": "04ab0916",
   "metadata": {},
   "source": [
    "#### 16. How to add a border (filled with 0's) around an existing array? (★☆☆)"
   ]
  },
  {
   "cell_type": "code",
   "execution_count": 16,
   "id": "164e6600",
   "metadata": {},
   "outputs": [
    {
     "name": "stdout",
     "output_type": "stream",
     "text": [
      "[[0. 0. 0. 0. 0.]\n",
      " [0. 1. 1. 1. 0.]\n",
      " [0. 1. 1. 1. 0.]\n",
      " [0. 1. 1. 1. 0.]\n",
      " [0. 0. 0. 0. 0.]]\n"
     ]
    }
   ],
   "source": [
    "existing_array = np.ones((3, 3))\n",
    "bordered_array = np.pad(existing_array, pad_width=1, mode='constant', constant_values=0)\n",
    "print(bordered_array)"
   ]
  },
  {
   "cell_type": "markdown",
   "id": "c205fed2",
   "metadata": {},
   "source": [
    "#### 17. What is the result of the following expression? (★☆☆)\n",
    "```python\n",
    "0 * np.nan\n",
    "np.nan == np.nan\n",
    "np.inf > np.nan\n",
    "np.nan - np.nan\n",
    "np.nan in set([np.nan])\n",
    "0.3 == 3 * 0.1\n",
    "```"
   ]
  },
  {
   "cell_type": "code",
   "execution_count": 17,
   "id": "8f4fae4e",
   "metadata": {},
   "outputs": [
    {
     "name": "stdout",
     "output_type": "stream",
     "text": [
      "nan\n",
      "False\n",
      "False\n",
      "nan\n",
      "True\n",
      "False\n"
     ]
    }
   ],
   "source": [
    "print(0 * np.nan)           # nan\n",
    "print(np.nan == np.nan)     # False\n",
    "print(np.inf > np.nan)      # False\n",
    "print(np.nan - np.nan)      # nan\n",
    "print(np.nan in set([np.nan]))  # True\n",
    "print(0.3 == 3 * 0.1)       # False"
   ]
  },
  {
   "cell_type": "markdown",
   "id": "9baa9d0a",
   "metadata": {},
   "source": [
    "#### 18. Create a 5x5 matrix with values 1,2,3,4 just below the diagonal (★☆☆)"
   ]
  },
  {
   "cell_type": "code",
   "execution_count": 18,
   "id": "7f4d3275",
   "metadata": {},
   "outputs": [
    {
     "name": "stdout",
     "output_type": "stream",
     "text": [
      "[[0 0 0 0 0]\n",
      " [1 0 0 0 0]\n",
      " [0 2 0 0 0]\n",
      " [0 0 3 0 0]\n",
      " [0 0 0 4 0]]\n"
     ]
    }
   ],
   "source": [
    "matrix = np.diag(1 + np.arange(4), k=-1)\n",
    "print(matrix)"
   ]
  },
  {
   "cell_type": "markdown",
   "id": "094aa771",
   "metadata": {},
   "source": [
    "#### 19. Create a 8x8 matrix and fill it with a checkerboard pattern (★☆☆)"
   ]
  },
  {
   "cell_type": "code",
   "execution_count": 19,
   "id": "353c872e",
   "metadata": {},
   "outputs": [
    {
     "name": "stdout",
     "output_type": "stream",
     "text": [
      "[[0 1 0 1 0 1 0 1]\n",
      " [1 0 1 0 1 0 1 0]\n",
      " [0 1 0 1 0 1 0 1]\n",
      " [1 0 1 0 1 0 1 0]\n",
      " [0 1 0 1 0 1 0 1]\n",
      " [1 0 1 0 1 0 1 0]\n",
      " [0 1 0 1 0 1 0 1]\n",
      " [1 0 1 0 1 0 1 0]]\n"
     ]
    }
   ],
   "source": [
    "checkerboard = np.zeros((8, 8), dtype=int)\n",
    "checkerboard[1::2, ::2] = 1\n",
    "checkerboard[::2, 1::2] = 1\n",
    "print(checkerboard)"
   ]
  },
  {
   "cell_type": "markdown",
   "id": "d34d5e5c",
   "metadata": {},
   "source": [
    "#### 20. Consider a (6,7,8) shape array, what is the index (x,y,z) of the 100th element? (★☆☆)"
   ]
  },
  {
   "cell_type": "code",
   "execution_count": 20,
   "id": "a58e6dde",
   "metadata": {},
   "outputs": [
    {
     "name": "stdout",
     "output_type": "stream",
     "text": [
      "(1, 5, 4)\n"
     ]
    }
   ],
   "source": [
    "shape = (6, 7, 8)\n",
    "index = np.unravel_index(100, shape)\n",
    "print(index)"
   ]
  },
  {
   "cell_type": "markdown",
   "id": "134a9a39",
   "metadata": {},
   "source": [
    "#### 21. Create a checkerboard 8x8 matrix using the tile function (★☆☆)"
   ]
  },
  {
   "cell_type": "code",
   "execution_count": 21,
   "id": "d0d07a54",
   "metadata": {},
   "outputs": [
    {
     "name": "stdout",
     "output_type": "stream",
     "text": [
      "[[0 1 0 1 0 1 0 1]\n",
      " [1 0 1 0 1 0 1 0]\n",
      " [0 1 0 1 0 1 0 1]\n",
      " [1 0 1 0 1 0 1 0]\n",
      " [0 1 0 1 0 1 0 1]\n",
      " [1 0 1 0 1 0 1 0]\n",
      " [0 1 0 1 0 1 0 1]\n",
      " [1 0 1 0 1 0 1 0]]\n"
     ]
    }
   ],
   "source": [
    "checkerboard = np.tile(np.array([[0, 1], [1, 0]]), (4, 4))\n",
    "print(checkerboard)"
   ]
  },
  {
   "cell_type": "markdown",
   "id": "34c9801f",
   "metadata": {},
   "source": [
    "#### 22. Normalize a 5x5 random matrix (★☆☆)"
   ]
  },
  {
   "cell_type": "code",
   "execution_count": 22,
   "id": "d188d310",
   "metadata": {},
   "outputs": [
    {
     "name": "stdout",
     "output_type": "stream",
     "text": [
      "[[0.06183097 1.         0.09338898 0.31339287 0.35206024]\n",
      " [0.54755713 0.09294738 0.12751293 0.49563142 0.38908531]\n",
      " [0.17358367 0.16059816 0.61160611 0.63603329 0.8019299 ]\n",
      " [0.99039633 0.32301388 0.37376891 0.07686936 0.76481046]\n",
      " [0.17701914 0.         0.73497696 0.52723737 0.27844529]]\n"
     ]
    }
   ],
   "source": [
    "random_matrix = np.random.random((5, 5))\n",
    "normalized_matrix = (random_matrix - random_matrix.min()) / (random_matrix.max() - random_matrix.min())\n",
    "print(normalized_matrix)"
   ]
  },
  {
   "cell_type": "markdown",
   "id": "c4453795",
   "metadata": {},
   "source": [
    "#### 23. Create a custom dtype that describes a color as four unsigned bytes (RGBA) (★☆☆)"
   ]
  },
  {
   "cell_type": "code",
   "execution_count": 23,
   "id": "dcd23389",
   "metadata": {},
   "outputs": [
    {
     "name": "stdout",
     "output_type": "stream",
     "text": [
      "[('R', 'u1'), ('G', 'u1'), ('B', 'u1'), ('A', 'u1')]\n"
     ]
    }
   ],
   "source": [
    "color_dtype = np.dtype([('R', np.uint8), ('G', np.uint8), ('B', np.uint8), ('A', np.uint8)])\n",
    "print(color_dtype)"
   ]
  },
  {
   "cell_type": "markdown",
   "id": "d45e27d5",
   "metadata": {},
   "source": [
    "#### 24. Multiply a 5x3 matrix by a 3x2 matrix (real matrix product) (★☆☆)"
   ]
  },
  {
   "cell_type": "code",
   "execution_count": 24,
   "id": "9e50aeb6",
   "metadata": {},
   "outputs": [
    {
     "name": "stdout",
     "output_type": "stream",
     "text": [
      "[[0.83673465 0.23557097]\n",
      " [1.20559004 0.61414992]\n",
      " [0.62759461 0.31548753]\n",
      " [0.68012636 0.58497079]\n",
      " [1.42418984 0.60574894]]\n"
     ]
    }
   ],
   "source": [
    "matrix1 = np.random.random((5, 3))\n",
    "matrix2 = np.random.random((3, 2))\n",
    "result = np.dot(matrix1, matrix2)\n",
    "print(result)"
   ]
  },
  {
   "cell_type": "markdown",
   "id": "0f025508",
   "metadata": {},
   "source": [
    "#### 25. Given a 1D array, negate all elements which are between 3 and 8, in place. (★☆☆)"
   ]
  },
  {
   "cell_type": "code",
   "execution_count": 25,
   "id": "f8830df6",
   "metadata": {},
   "outputs": [
    {
     "name": "stdout",
     "output_type": "stream",
     "text": [
      "[ 1  2  3 -4 -5 -6 -7  8  9 10]\n"
     ]
    }
   ],
   "source": [
    "array = np.array([1, 2, 3, 4, 5, 6, 7, 8, 9, 10])\n",
    "array[(array > 3) & (array < 8)] *= -1\n",
    "print(array)"
   ]
  },
  {
   "cell_type": "markdown",
   "id": "6c5a40a1",
   "metadata": {},
   "source": [
    "#### 26. What is the output of the following script? (★☆☆)\n",
    "```python\n",
    "\n",
    "print(sum(range(5),-1))\n",
    "from numpy import *\n",
    "print(sum(range(5),-1))\n",
    "```"
   ]
  },
  {
   "cell_type": "code",
   "execution_count": 30,
   "id": "fe71f176",
   "metadata": {},
   "outputs": [
    {
     "name": "stdout",
     "output_type": "stream",
     "text": [
      "10\n",
      "10\n"
     ]
    }
   ],
   "source": [
    "print(sum(range(5), -1))  # Output: 10\n",
    "from numpy import *\n",
    "print(sum(range(5), -1))  # Output: 10"
   ]
  },
  {
   "cell_type": "markdown",
   "id": "fa5b03be",
   "metadata": {},
   "source": [
    "#### 27. Consider an integer vector Z, which of these expressions are legal? (★☆☆)\n",
    "```python\n",
    "Z**Z\n",
    "2 << Z >> 2\n",
    "Z <- Z\n",
    "1j*Z\n",
    "Z/1/1\n",
    "Z<Z>Z\n",
    "```"
   ]
  },
  {
   "cell_type": "code",
   "execution_count": 31,
   "id": "f23fecef",
   "metadata": {},
   "outputs": [
    {
     "name": "stdout",
     "output_type": "stream",
     "text": [
      "[ 1  4 27]\n",
      "[1 2 4]\n",
      "[False False False]\n",
      "[0.+1.j 0.+2.j 0.+3.j]\n",
      "[1. 2. 3.]\n"
     ]
    }
   ],
   "source": [
    "Z = np.array([1, 2, 3])\n",
    "print(Z**Z)  # Legal\n",
    "print(2 << Z >> 2)  # Legal\n",
    "print(Z < -Z)  # Legal\n",
    "print(1j * Z)  # Legal\n",
    "print(Z / 1 / 1)  # Legal\n",
    "# print(Z < Z > Z)  # Illegal (ambiguous)"
   ]
  },
  {
   "cell_type": "markdown",
   "id": "e2083b0a",
   "metadata": {},
   "source": [
    "#### 28. What are the result of the following expressions? (★☆☆)\n",
    "```python\n",
    "np.array(0) / np.array(0)\n",
    "np.array(0) // np.array(0)\n",
    "np.array([np.nan]).astype(int).astype(float)\n",
    "```"
   ]
  },
  {
   "cell_type": "code",
   "execution_count": 32,
   "id": "08a4a98f",
   "metadata": {},
   "outputs": [
    {
     "name": "stdout",
     "output_type": "stream",
     "text": [
      "nan\n",
      "0\n",
      "[-2.14748365e+09]\n"
     ]
    },
    {
     "name": "stderr",
     "output_type": "stream",
     "text": [
      "C:\\Users\\Lenovo\\AppData\\Local\\Temp\\ipykernel_18472\\509868088.py:1: RuntimeWarning: invalid value encountered in divide\n",
      "  print(np.array(0) / np.array(0))  # Output: nan\n",
      "C:\\Users\\Lenovo\\AppData\\Local\\Temp\\ipykernel_18472\\509868088.py:2: RuntimeWarning: divide by zero encountered in floor_divide\n",
      "  print(np.array(0) // np.array(0))  # Output: 0 (floored division)\n",
      "C:\\Users\\Lenovo\\AppData\\Local\\Temp\\ipykernel_18472\\509868088.py:3: RuntimeWarning: invalid value encountered in cast\n",
      "  print(np.array([np.nan]).astype(int).astype(float))\n"
     ]
    }
   ],
   "source": [
    "print(np.array(0) / np.array(0))  # Output: nan\n",
    "print(np.array(0) // np.array(0))  # Output: 0 (floored division)\n",
    "print(np.array([np.nan]).astype(int).astype(float))"
   ]
  },
  {
   "cell_type": "markdown",
   "id": "d7bf6dce",
   "metadata": {},
   "source": [
    "#### 29. How to round away from zero a float array ? (★☆☆)"
   ]
  },
  {
   "cell_type": "code",
   "execution_count": 33,
   "id": "f5e5661a",
   "metadata": {},
   "outputs": [
    {
     "name": "stdout",
     "output_type": "stream",
     "text": [
      "[-1.  5. -1. -4.  1. -5. -1.  5.  1. -5.]\n"
     ]
    }
   ],
   "source": [
    "float_array = np.random.uniform(-5, 5, 10)\n",
    "rounded_array = np.where(float_array < 0, np.floor(float_array), np.ceil(float_array))\n",
    "print(rounded_array)"
   ]
  },
  {
   "cell_type": "markdown",
   "id": "d903be49",
   "metadata": {},
   "source": [
    "#### 30. How to find common values between two arrays? (★☆☆)"
   ]
  },
  {
   "cell_type": "code",
   "execution_count": 34,
   "id": "75afb9aa",
   "metadata": {},
   "outputs": [
    {
     "name": "stdout",
     "output_type": "stream",
     "text": [
      "[3 4 5]\n"
     ]
    }
   ],
   "source": [
    "array1 = np.array([1, 2, 3, 4, 5])\n",
    "array2 = np.array([3, 4, 5, 6, 7])\n",
    "common_values = np.intersect1d(array1, array2)\n",
    "print(common_values)"
   ]
  },
  {
   "cell_type": "markdown",
   "id": "3c0f2607",
   "metadata": {},
   "source": [
    "#### 31. How to ignore all numpy warnings (not recommended)? (★☆☆)"
   ]
  },
  {
   "cell_type": "code",
   "execution_count": 35,
   "id": "0840aff8",
   "metadata": {},
   "outputs": [
    {
     "data": {
      "text/plain": [
       "{'divide': 'ignore', 'over': 'ignore', 'under': 'ignore', 'invalid': 'ignore'}"
      ]
     },
     "execution_count": 35,
     "metadata": {},
     "output_type": "execute_result"
    }
   ],
   "source": [
    "np.seterr(all='ignore')\n",
    "# Your code here\n",
    "np.seterr(all='warn')  # Reset warnings to default behavior"
   ]
  },
  {
   "cell_type": "markdown",
   "id": "9df0d29e",
   "metadata": {},
   "source": [
    "#### 32. Is the following expressions true? (★☆☆)\n",
    "```python\n",
    "np.sqrt(-1) == np.emath.sqrt(-1)\n",
    "```"
   ]
  },
  {
   "cell_type": "code",
   "execution_count": 39,
   "id": "afabad65",
   "metadata": {},
   "outputs": [
    {
     "name": "stdout",
     "output_type": "stream",
     "text": [
      "False\n"
     ]
    },
    {
     "name": "stderr",
     "output_type": "stream",
     "text": [
      "C:\\Users\\Lenovo\\AppData\\Local\\Temp\\ipykernel_18472\\1010175222.py:1: RuntimeWarning: invalid value encountered in sqrt\n",
      "  result = np.sqrt(-1) == np.emath.sqrt(-1)\n"
     ]
    }
   ],
   "source": [
    "result = np.sqrt(-1) == np.emath.sqrt(-1)\n",
    "print(result) # no,False"
   ]
  },
  {
   "cell_type": "markdown",
   "id": "27be8adf",
   "metadata": {},
   "source": [
    "#### 33. How to get the dates of yesterday, today and tomorrow? (★☆☆)"
   ]
  },
  {
   "cell_type": "code",
   "execution_count": 40,
   "id": "071ea376",
   "metadata": {},
   "outputs": [
    {
     "name": "stdout",
     "output_type": "stream",
     "text": [
      "Yesterday: 2023-09-04\n",
      "Today: 2023-09-05\n",
      "Tomorrow: 2023-09-06\n"
     ]
    }
   ],
   "source": [
    "today = np.datetime64('today')\n",
    "yesterday = today - np.timedelta64(1, 'D')\n",
    "tomorrow = today + np.timedelta64(1, 'D')\n",
    "print(\"Yesterday:\", yesterday)\n",
    "print(\"Today:\", today)\n",
    "print(\"Tomorrow:\", tomorrow)"
   ]
  },
  {
   "cell_type": "markdown",
   "id": "99841d90",
   "metadata": {},
   "source": [
    "#### 34. How to get all the dates corresponding to the month of July 2016? (★★☆)"
   ]
  },
  {
   "cell_type": "code",
   "execution_count": 41,
   "id": "6857c589",
   "metadata": {},
   "outputs": [
    {
     "name": "stdout",
     "output_type": "stream",
     "text": [
      "['2016-07-01' '2016-07-02' '2016-07-03' '2016-07-04' '2016-07-05'\n",
      " '2016-07-06' '2016-07-07' '2016-07-08' '2016-07-09' '2016-07-10'\n",
      " '2016-07-11' '2016-07-12' '2016-07-13' '2016-07-14' '2016-07-15'\n",
      " '2016-07-16' '2016-07-17' '2016-07-18' '2016-07-19' '2016-07-20'\n",
      " '2016-07-21' '2016-07-22' '2016-07-23' '2016-07-24' '2016-07-25'\n",
      " '2016-07-26' '2016-07-27' '2016-07-28' '2016-07-29' '2016-07-30'\n",
      " '2016-07-31']\n"
     ]
    }
   ],
   "source": [
    "dates = np.arange('2016-07', '2016-08', dtype='datetime64[D]')\n",
    "print(dates)"
   ]
  },
  {
   "cell_type": "markdown",
   "id": "20413c1c",
   "metadata": {},
   "source": [
    "#### 35. How to compute ((A+B)*(-A/2)) in place (without copy)? (★★☆)"
   ]
  },
  {
   "cell_type": "code",
   "execution_count": 42,
   "id": "77cb1cda",
   "metadata": {},
   "outputs": [
    {
     "name": "stdout",
     "output_type": "stream",
     "text": [
      "[-3. -3. -3.]\n"
     ]
    }
   ],
   "source": [
    "A = np.ones(3) * 1\n",
    "B = np.ones(3) * 2\n",
    "result = np.add(A, B, out=B)\n",
    "result = np.negative(A, out=A)\n",
    "result = np.multiply(A, B, out=A)\n",
    "print(result)"
   ]
  },
  {
   "cell_type": "markdown",
   "id": "5f844011",
   "metadata": {},
   "source": [
    "#### 36. Extract the integer part of a random array of positive numbers using 4 different methods (★★☆)"
   ]
  },
  {
   "cell_type": "code",
   "execution_count": 43,
   "id": "c043ce08",
   "metadata": {},
   "outputs": [
    {
     "name": "stdout",
     "output_type": "stream",
     "text": [
      "Method 1: [3 6 4 0 6 2 2 9 9 4]\n",
      "Method 2: [3. 6. 4. 0. 6. 2. 2. 9. 9. 4.]\n",
      "Method 3: [ 4.  7.  5.  1.  7.  3.  3. 10. 10.  5.]\n",
      "Method 4: [3. 6. 4. 0. 6. 2. 2. 9. 9. 4.]\n"
     ]
    }
   ],
   "source": [
    "random_array = np.random.uniform(0, 10, 10)\n",
    "integer_part_method1 = random_array.astype(int)\n",
    "integer_part_method2 = np.floor(random_array)\n",
    "integer_part_method3 = np.ceil(random_array)\n",
    "integer_part_method4 = np.trunc(random_array)\n",
    "print(\"Method 1:\", integer_part_method1)\n",
    "print(\"Method 2:\", integer_part_method2)\n",
    "print(\"Method 3:\", integer_part_method3)\n",
    "print(\"Method 4:\", integer_part_method4)"
   ]
  },
  {
   "cell_type": "markdown",
   "id": "907e2f57",
   "metadata": {},
   "source": [
    "#### 37. Create a 5x5 matrix with row values ranging from 0 to 4 (★★☆)"
   ]
  },
  {
   "cell_type": "code",
   "execution_count": 44,
   "id": "431bb01f",
   "metadata": {},
   "outputs": [
    {
     "name": "stdout",
     "output_type": "stream",
     "text": [
      "[[0. 1. 2. 3. 4.]\n",
      " [0. 1. 2. 3. 4.]\n",
      " [0. 1. 2. 3. 4.]\n",
      " [0. 1. 2. 3. 4.]\n",
      " [0. 1. 2. 3. 4.]]\n"
     ]
    }
   ],
   "source": [
    "matrix = np.zeros((5, 5)) + np.arange(5)\n",
    "print(matrix)"
   ]
  },
  {
   "cell_type": "markdown",
   "id": "d6181363",
   "metadata": {},
   "source": [
    "#### 38. Consider a generator function that generates 10 integers and use it to build an array (★☆☆)"
   ]
  },
  {
   "cell_type": "code",
   "execution_count": 45,
   "id": "bc5f7236",
   "metadata": {},
   "outputs": [
    {
     "name": "stdout",
     "output_type": "stream",
     "text": [
      "[0 1 2 3 4 5 6 7 8 9]\n"
     ]
    }
   ],
   "source": [
    "def generator_function():\n",
    "    for i in range(10):\n",
    "        yield i\n",
    "\n",
    "array = np.fromiter(generator_function(), dtype=int)\n",
    "print(array)"
   ]
  },
  {
   "cell_type": "markdown",
   "id": "e5f4ea79",
   "metadata": {},
   "source": [
    "#### 39. Create a vector of size 10 with values ranging from 0 to 1, both excluded (★★☆)"
   ]
  },
  {
   "cell_type": "code",
   "execution_count": 46,
   "id": "861184df",
   "metadata": {},
   "outputs": [
    {
     "name": "stdout",
     "output_type": "stream",
     "text": [
      "[0.08333333 0.16666667 0.25       0.33333333 0.41666667 0.5\n",
      " 0.58333333 0.66666667 0.75       0.83333333]\n"
     ]
    }
   ],
   "source": [
    "vector = np.linspace(0, 1, 12, endpoint=False)[1:-1]\n",
    "print(vector)"
   ]
  },
  {
   "cell_type": "markdown",
   "id": "a230c636",
   "metadata": {},
   "source": [
    "#### 40. Create a random vector of size 10 and sort it (★★☆)"
   ]
  },
  {
   "cell_type": "code",
   "execution_count": 47,
   "id": "0efd2c6b",
   "metadata": {},
   "outputs": [
    {
     "name": "stdout",
     "output_type": "stream",
     "text": [
      "[0.13930066 0.14776109 0.31058965 0.35545918 0.64527315 0.6743905\n",
      " 0.74776212 0.77761907 0.81528901 0.83496385]\n"
     ]
    }
   ],
   "source": [
    "random_vector = np.random.random(10)\n",
    "sorted_vector = np.sort(random_vector)\n",
    "print(sorted_vector)"
   ]
  },
  {
   "cell_type": "markdown",
   "id": "fd3b44c3",
   "metadata": {},
   "source": [
    "#### 41. How to sum a small array faster than np.sum? (★★☆)"
   ]
  },
  {
   "cell_type": "code",
   "execution_count": 48,
   "id": "40bc2bac",
   "metadata": {},
   "outputs": [
    {
     "name": "stdout",
     "output_type": "stream",
     "text": [
      "45\n"
     ]
    }
   ],
   "source": [
    "small_array = np.arange(10)\n",
    "sum_result = np.add.reduce(small_array)\n",
    "print(sum_result)\n"
   ]
  },
  {
   "cell_type": "markdown",
   "id": "0c6b20ef",
   "metadata": {},
   "source": [
    "#### 42. Consider two random array A and B, check if they are equal (★★☆)"
   ]
  },
  {
   "cell_type": "code",
   "execution_count": 49,
   "id": "db2990cb",
   "metadata": {},
   "outputs": [
    {
     "name": "stdout",
     "output_type": "stream",
     "text": [
      "False\n"
     ]
    }
   ],
   "source": [
    "A = np.random.random(5)\n",
    "B = np.random.random(5)\n",
    "equal = np.array_equal(A, B)\n",
    "print(equal)"
   ]
  },
  {
   "cell_type": "markdown",
   "id": "779b0f00",
   "metadata": {},
   "source": [
    "#### 43. Make an array immutable (read-only) (★★☆)"
   ]
  },
  {
   "cell_type": "code",
   "execution_count": 135,
   "id": "d76e7758",
   "metadata": {},
   "outputs": [],
   "source": [
    "immutable_array = np.arange(10)\n",
    "immutable_array.flags.writeable = False\n",
    "# Attempting to modify the array will raise an error\n",
    "# immutable_array[0] = 1"
   ]
  },
  {
   "cell_type": "markdown",
   "id": "eb91b8eb",
   "metadata": {},
   "source": [
    "#### 44. Consider a random 10x2 matrix representing cartesian coordinates, convert them to polar coordinates (★★☆)"
   ]
  },
  {
   "cell_type": "code",
   "execution_count": 51,
   "id": "59afd9b3",
   "metadata": {},
   "outputs": [
    {
     "name": "stdout",
     "output_type": "stream",
     "text": [
      "Polar Coordinates (r, theta):\n",
      "r = [1.28597012 1.26500865 0.89940937 1.0182372  0.34778733 0.90668895\n",
      " 0.77145122 0.96083757 0.40784519 0.59654301]\n",
      "theta = [0.79907509 0.86043997 0.87934606 0.7568156  0.03946823 1.37188039\n",
      " 1.31242546 0.88653071 0.18960641 0.77793839]\n"
     ]
    }
   ],
   "source": [
    "cartesian_coordinates = np.random.random((10, 2))\n",
    "x, y = cartesian_coordinates[:, 0], cartesian_coordinates[:, 1]\n",
    "r = np.sqrt(x**2 + y**2)\n",
    "theta = np.arctan2(y, x)\n",
    "print(\"Polar Coordinates (r, theta):\")\n",
    "print(\"r =\", r)\n",
    "print(\"theta =\", theta)"
   ]
  },
  {
   "cell_type": "markdown",
   "id": "010861a8",
   "metadata": {},
   "source": [
    "#### 45. Create random vector of size 10 and replace the maximum value by 0 (★★☆)"
   ]
  },
  {
   "cell_type": "code",
   "execution_count": 52,
   "id": "9f70d43c",
   "metadata": {},
   "outputs": [
    {
     "name": "stdout",
     "output_type": "stream",
     "text": [
      "[0.54379988 0.01196068 0.71289694 0.         0.40594046 0.83813772\n",
      " 0.04242998 0.23119628 0.08841804 0.37168989]\n"
     ]
    }
   ],
   "source": [
    "random_vector = np.random.random(10)\n",
    "random_vector[random_vector.argmax()] = 0\n",
    "print(random_vector)"
   ]
  },
  {
   "cell_type": "markdown",
   "id": "fbe7960d",
   "metadata": {},
   "source": [
    "#### 46. Create a structured array with `x` and `y` coordinates covering the [0,1]x[0,1] area (★★☆)"
   ]
  },
  {
   "cell_type": "code",
   "execution_count": 53,
   "id": "2efff5f6",
   "metadata": {},
   "outputs": [
    {
     "name": "stdout",
     "output_type": "stream",
     "text": [
      "[[(0.  , 0.  ) (0.25, 0.  ) (0.5 , 0.  ) (0.75, 0.  ) (1.  , 0.  )]\n",
      " [(0.  , 0.25) (0.25, 0.25) (0.5 , 0.25) (0.75, 0.25) (1.  , 0.25)]\n",
      " [(0.  , 0.5 ) (0.25, 0.5 ) (0.5 , 0.5 ) (0.75, 0.5 ) (1.  , 0.5 )]\n",
      " [(0.  , 0.75) (0.25, 0.75) (0.5 , 0.75) (0.75, 0.75) (1.  , 0.75)]\n",
      " [(0.  , 1.  ) (0.25, 1.  ) (0.5 , 1.  ) (0.75, 1.  ) (1.  , 1.  )]]\n"
     ]
    }
   ],
   "source": [
    "x = np.linspace(0, 1, 5)\n",
    "y = np.linspace(0, 1, 5)\n",
    "xx, yy = np.meshgrid(x, y)\n",
    "structured_array = np.zeros((5, 5), [('x', float), ('y', float)])\n",
    "structured_array['x'], structured_array['y'] = xx, yy\n",
    "print(structured_array)"
   ]
  },
  {
   "cell_type": "markdown",
   "id": "fe25f337",
   "metadata": {},
   "source": [
    "#### 47. Given two arrays, X and Y, construct the Cauchy matrix C (Cij =1/(xi - yj)) (★★☆)"
   ]
  },
  {
   "cell_type": "code",
   "execution_count": 54,
   "id": "6ef52af1",
   "metadata": {},
   "outputs": [
    {
     "name": "stdout",
     "output_type": "stream",
     "text": [
      "[[-2.         -0.66666667 -0.4        -0.28571429 -0.22222222 -0.18181818\n",
      "  -0.15384615 -0.13333333]\n",
      " [ 2.         -2.         -0.66666667 -0.4        -0.28571429 -0.22222222\n",
      "  -0.18181818 -0.15384615]\n",
      " [ 0.66666667  2.         -2.         -0.66666667 -0.4        -0.28571429\n",
      "  -0.22222222 -0.18181818]\n",
      " [ 0.4         0.66666667  2.         -2.         -0.66666667 -0.4\n",
      "  -0.28571429 -0.22222222]\n",
      " [ 0.28571429  0.4         0.66666667  2.         -2.         -0.66666667\n",
      "  -0.4        -0.28571429]\n",
      " [ 0.22222222  0.28571429  0.4         0.66666667  2.         -2.\n",
      "  -0.66666667 -0.4       ]\n",
      " [ 0.18181818  0.22222222  0.28571429  0.4         0.66666667  2.\n",
      "  -2.         -0.66666667]\n",
      " [ 0.15384615  0.18181818  0.22222222  0.28571429  0.4         0.66666667\n",
      "   2.         -2.        ]]\n"
     ]
    }
   ],
   "source": [
    "X = np.arange(8)\n",
    "Y = X + 0.5\n",
    "C = 1.0 / np.subtract.outer(X, Y)\n",
    "print(C)"
   ]
  },
  {
   "cell_type": "markdown",
   "id": "ef2c175c",
   "metadata": {},
   "source": [
    "#### 48. Print the minimum and maximum representable value for each numpy scalar type (★★☆)"
   ]
  },
  {
   "cell_type": "code",
   "execution_count": 55,
   "id": "e78227da",
   "metadata": {},
   "outputs": [
    {
     "name": "stdout",
     "output_type": "stream",
     "text": [
      "Minimum for <class 'numpy.int8'>: -128\n",
      "Maximum for <class 'numpy.int8'>: 127\n",
      "Minimum for <class 'numpy.int32'>: -2147483648\n",
      "Maximum for <class 'numpy.int32'>: 2147483647\n",
      "Minimum for <class 'numpy.int64'>: -9223372036854775808\n",
      "Maximum for <class 'numpy.int64'>: 9223372036854775807\n",
      "Minimum for <class 'numpy.float32'>: -3.4028234663852886e+38\n",
      "Maximum for <class 'numpy.float32'>: 3.4028234663852886e+38\n",
      "Minimum for <class 'numpy.float64'>: -1.7976931348623157e+308\n",
      "Maximum for <class 'numpy.float64'>: 1.7976931348623157e+308\n"
     ]
    }
   ],
   "source": [
    "for dtype in [np.int8, np.int32, np.int64]:\n",
    "    print(\"Minimum for {}: {}\".format(dtype, np.iinfo(dtype).min))\n",
    "    print(\"Maximum for {}: {}\".format(dtype, np.iinfo(dtype).max))\n",
    "for dtype in [np.float32, np.float64]:\n",
    "    print(\"Minimum for {}: {}\".format(dtype, np.finfo(dtype).min))\n",
    "    print(\"Maximum for {}: {}\".format(dtype, np.finfo(dtype).max))"
   ]
  },
  {
   "cell_type": "markdown",
   "id": "d6e10d06",
   "metadata": {},
   "source": [
    "#### 49. How to print all the values of an array? (★★☆)"
   ]
  },
  {
   "cell_type": "code",
   "execution_count": 56,
   "id": "f3b71a1c",
   "metadata": {},
   "outputs": [
    {
     "name": "stdout",
     "output_type": "stream",
     "text": [
      "[ 0  1  2  3  4  5  6  7  8  9 10 11 12 13 14 15 16 17 18 19 20 21 22 23\n",
      " 24 25 26 27 28 29 30 31 32 33 34 35 36 37 38 39 40 41 42 43 44 45 46 47\n",
      " 48 49 50 51 52 53 54 55 56 57 58 59 60 61 62 63 64 65 66 67 68 69 70 71\n",
      " 72 73 74 75 76 77 78 79 80 81 82 83 84 85 86 87 88 89 90 91 92 93 94 95\n",
      " 96 97 98 99]\n"
     ]
    }
   ],
   "source": [
    "np.set_printoptions(threshold=np.inf)  # Print all values\n",
    "array = np.arange(100)\n",
    "print(array)"
   ]
  },
  {
   "cell_type": "markdown",
   "id": "c57f3609",
   "metadata": {},
   "source": [
    "#### 50. How to find the closest value (to a given scalar) in a vector? (★★☆)"
   ]
  },
  {
   "cell_type": "code",
   "execution_count": 57,
   "id": "deae4366",
   "metadata": {},
   "outputs": [
    {
     "name": "stdout",
     "output_type": "stream",
     "text": [
      "Closest value to 42 is 42\n"
     ]
    }
   ],
   "source": [
    "vector = np.arange(100)\n",
    "scalar = 42\n",
    "closest_value = vector[(np.abs(vector - scalar)).argmin()]\n",
    "print(\"Closest value to {} is {}\".format(scalar, closest_value))"
   ]
  },
  {
   "cell_type": "markdown",
   "id": "4ddec916",
   "metadata": {},
   "source": [
    "#### 51. Create a structured array representing a position (x,y) and a color (r,g,b) (★★☆)"
   ]
  },
  {
   "cell_type": "code",
   "execution_count": 58,
   "id": "19276913",
   "metadata": {},
   "outputs": [
    {
     "name": "stdout",
     "output_type": "stream",
     "text": [
      "[((0., 0.), (0, 0, 0))]\n"
     ]
    }
   ],
   "source": [
    "dtype = [('position', [('x', float), ('y', float)]), ('color', [('r', int), ('g', int), ('b', int)])]\n",
    "structured_array = np.zeros(1, dtype=dtype)\n",
    "print(structured_array)"
   ]
  },
  {
   "cell_type": "markdown",
   "id": "6518b79e",
   "metadata": {},
   "source": [
    "#### 52. Consider a random vector with shape (100,2) representing coordinates, find point by point distances (★★☆)"
   ]
  },
  {
   "cell_type": "code",
   "execution_count": 2,
   "id": "4c541298",
   "metadata": {},
   "outputs": [
    {
     "name": "stdout",
     "output_type": "stream",
     "text": [
      "[[0.         0.06130142 0.54782015 ... 0.23273456 0.06764255 0.61572406]\n",
      " [0.06130142 0.         0.53638437 ... 0.2122168  0.06737706 0.57731735]\n",
      " [0.54782015 0.53638437 0.         ... 0.73985961 0.48224406 0.2808172 ]\n",
      " ...\n",
      " [0.23273456 0.2122168  0.73985961 ... 0.         0.27787684 0.73559124]\n",
      " [0.06764255 0.06737706 0.48224406 ... 0.27787684 0.         0.55028036]\n",
      " [0.61572406 0.57731735 0.2808172  ... 0.73559124 0.55028036 0.        ]]\n"
     ]
    }
   ],
   "source": [
    "random_vector = np.random.rand(100, 2)\n",
    "distances = np.zeros((100, 100))\n",
    "for i in range(100):\n",
    "    for j in range(100):\n",
    "        distance = np.linalg.norm(random_vector[i] - random_vector[j])\n",
    "        distances[i, j] = distance\n",
    "print(distances)\n"
   ]
  },
  {
   "cell_type": "markdown",
   "id": "7e82aad2",
   "metadata": {},
   "source": [
    "#### 53. How to convert a float (32 bits) array into an integer (32 bits) in place?"
   ]
  },
  {
   "cell_type": "code",
   "execution_count": 60,
   "id": "8a8e6517",
   "metadata": {},
   "outputs": [
    {
     "name": "stdout",
     "output_type": "stream",
     "text": [
      "[1073789320 1087001630 1074664304 1084808016 1068964263 1092228402\n",
      " 1091213811 1091989979 1091057460 1091265874]\n"
     ]
    }
   ],
   "source": [
    "float_array = np.random.uniform(0, 10, 10).astype(np.float32)\n",
    "int_array = float_array.view(np.int32)\n",
    "print(int_array)"
   ]
  },
  {
   "cell_type": "markdown",
   "id": "c5e248cc",
   "metadata": {},
   "source": [
    "#### 54. How to read the following file? (★★☆)\n",
    "```\n",
    "1, 2, 3, 4, 5\n",
    "6,  ,  , 7, 8\n",
    " ,  , 9,10,11\n",
    "```"
   ]
  },
  {
   "cell_type": "code",
   "execution_count": 134,
   "id": "4ce81de8",
   "metadata": {},
   "outputs": [
    {
     "name": "stdout",
     "output_type": "stream",
     "text": [
      "[[ 1  2  3  4  5]\n",
      " [ 6  0  0  7  8]\n",
      " [ 0  0  9 10 11]]\n"
     ]
    }
   ],
   "source": [
    "from io import StringIO\n",
    "\n",
    "file_content = '''1, 2, 3, 4, 5\n",
    "6,  ,  , 7, 8\n",
    " ,  , 9,10,11\n",
    "'''\n",
    "\n",
    "string = StringIO(file_content)\n",
    "A = np.genfromtxt(string, delimiter=\",\", dtype=int, missing_values='', filling_values=0)\n",
    "\n",
    "print(A)\n"
   ]
  },
  {
   "cell_type": "markdown",
   "id": "83680d35",
   "metadata": {},
   "source": [
    "#### 55. What is the equivalent of enumerate for numpy arrays? (★★☆)"
   ]
  },
  {
   "cell_type": "code",
   "execution_count": 69,
   "id": "b4be9161",
   "metadata": {},
   "outputs": [
    {
     "name": "stdout",
     "output_type": "stream",
     "text": [
      "(0,) 11\n",
      "(1,) 22\n",
      "(2,) 33\n",
      "(3,) 44\n",
      "(4,) 55\n"
     ]
    }
   ],
   "source": [
    "array = np.array([11, 22, 33, 44, 55])\n",
    "for index, value in np.ndenumerate(array):\n",
    "    print(index, value)"
   ]
  },
  {
   "cell_type": "markdown",
   "id": "2f62421f",
   "metadata": {},
   "source": [
    "#### 56. Generate a generic 2D Gaussian-like array (★★☆)"
   ]
  },
  {
   "cell_type": "code",
   "execution_count": 70,
   "id": "8e520148",
   "metadata": {},
   "outputs": [
    {
     "name": "stdout",
     "output_type": "stream",
     "text": [
      "[[0.36787944 0.44822088 0.51979489 0.57375342 0.60279818 0.60279818\n",
      "  0.57375342 0.51979489 0.44822088 0.36787944]\n",
      " [0.44822088 0.54610814 0.63331324 0.69905581 0.73444367 0.73444367\n",
      "  0.69905581 0.63331324 0.54610814 0.44822088]\n",
      " [0.51979489 0.63331324 0.73444367 0.81068432 0.85172308 0.85172308\n",
      "  0.81068432 0.73444367 0.63331324 0.51979489]\n",
      " [0.57375342 0.69905581 0.81068432 0.89483932 0.9401382  0.9401382\n",
      "  0.89483932 0.81068432 0.69905581 0.57375342]\n",
      " [0.60279818 0.73444367 0.85172308 0.9401382  0.98773022 0.98773022\n",
      "  0.9401382  0.85172308 0.73444367 0.60279818]\n",
      " [0.60279818 0.73444367 0.85172308 0.9401382  0.98773022 0.98773022\n",
      "  0.9401382  0.85172308 0.73444367 0.60279818]\n",
      " [0.57375342 0.69905581 0.81068432 0.89483932 0.9401382  0.9401382\n",
      "  0.89483932 0.81068432 0.69905581 0.57375342]\n",
      " [0.51979489 0.63331324 0.73444367 0.81068432 0.85172308 0.85172308\n",
      "  0.81068432 0.73444367 0.63331324 0.51979489]\n",
      " [0.44822088 0.54610814 0.63331324 0.69905581 0.73444367 0.73444367\n",
      "  0.69905581 0.63331324 0.54610814 0.44822088]\n",
      " [0.36787944 0.44822088 0.51979489 0.57375342 0.60279818 0.60279818\n",
      "  0.57375342 0.51979489 0.44822088 0.36787944]]\n"
     ]
    }
   ],
   "source": [
    "x, y = np.meshgrid(np.linspace(-1, 1, 10), np.linspace(-1, 1, 10))\n",
    "d = np.sqrt(x*x + y*y)\n",
    "sigma, mu = 1.0, 0.0\n",
    "gaussian_array = np.exp(-( (d-mu)**2 / ( 2.0 * sigma**2 ) ) )\n",
    "print(gaussian_array)"
   ]
  },
  {
   "cell_type": "markdown",
   "id": "dc93c68c",
   "metadata": {},
   "source": [
    "#### 57. How to randomly place p elements in a 2D array? (★★☆)"
   ]
  },
  {
   "cell_type": "code",
   "execution_count": 71,
   "id": "f8cc8a9b",
   "metadata": {},
   "outputs": [
    {
     "name": "stdout",
     "output_type": "stream",
     "text": [
      "[[0. 0. 0. 1. 0.]\n",
      " [0. 0. 0. 0. 0.]\n",
      " [1. 0. 0. 0. 0.]\n",
      " [0. 0. 0. 0. 0.]\n",
      " [0. 0. 0. 1. 0.]]\n"
     ]
    }
   ],
   "source": [
    "p = 3\n",
    "array = np.zeros((5, 5))\n",
    "np.put(array, np.random.choice(range(5*5), p, replace=False), 1)\n",
    "print(array)"
   ]
  },
  {
   "cell_type": "markdown",
   "id": "b14763aa",
   "metadata": {},
   "source": [
    "#### 58. Subtract the mean of each row of a matrix (★★☆)"
   ]
  },
  {
   "cell_type": "code",
   "execution_count": 63,
   "id": "c7f2db70",
   "metadata": {},
   "outputs": [
    {
     "name": "stdout",
     "output_type": "stream",
     "text": [
      "[[ 0.48141957 -0.18704536 -0.43670404  0.33018976 -0.18785993]\n",
      " [ 0.0330013  -0.17880982  0.47739274 -0.09386813 -0.23771609]\n",
      " [ 0.42904374 -0.04463975 -0.456504    0.1466457  -0.07454569]\n",
      " [-0.23229302 -0.16453958 -0.17148139  0.30250422  0.26580978]\n",
      " [-0.01948509 -0.29316729 -0.00703371  0.54299091 -0.22330482]]\n"
     ]
    }
   ],
   "source": [
    "matrix = np.random.rand(5, 5)\n",
    "mean_of_rows = matrix.mean(axis=1, keepdims=True)\n",
    "result = matrix - mean_of_rows\n",
    "print(result)"
   ]
  },
  {
   "cell_type": "markdown",
   "id": "35ec0df2",
   "metadata": {},
   "source": [
    "#### 59. How to sort an array by the nth column? (★★☆)"
   ]
  },
  {
   "cell_type": "code",
   "execution_count": 62,
   "id": "bdad9135",
   "metadata": {},
   "outputs": [
    {
     "name": "stdout",
     "output_type": "stream",
     "text": [
      "[[2 3 0 0 3]\n",
      " [7 4 1 2 1]\n",
      " [1 5 2 1 6]\n",
      " [2 0 6 7 8]\n",
      " [2 0 7 1 9]]\n"
     ]
    }
   ],
   "source": [
    "matrix = np.random.randint(0, 10, (5, 5))\n",
    "n = 2  # Sort by the third column\n",
    "sorted_matrix = matrix[matrix[:, n].argsort()]\n",
    "print(sorted_matrix)"
   ]
  },
  {
   "cell_type": "markdown",
   "id": "87d19d08",
   "metadata": {},
   "source": [
    "#### 60. How to tell if a given 2D array has null columns? (★★☆)"
   ]
  },
  {
   "cell_type": "code",
   "execution_count": 72,
   "id": "34a85d52",
   "metadata": {},
   "outputs": [
    {
     "name": "stdout",
     "output_type": "stream",
     "text": [
      "False\n"
     ]
    }
   ],
   "source": [
    "matrix = np.random.randint(0, 2, (5, 5))\n",
    "has_null_columns = not np.any(matrix.sum(axis=0))\n",
    "print(has_null_columns)"
   ]
  },
  {
   "cell_type": "markdown",
   "id": "98d3a488",
   "metadata": {},
   "source": [
    "#### 61. Find the nearest value from a given value in an array (★★☆)"
   ]
  },
  {
   "cell_type": "code",
   "execution_count": 73,
   "id": "195a0c0d",
   "metadata": {},
   "outputs": [
    {
     "name": "stdout",
     "output_type": "stream",
     "text": [
      "0.4090477164433257\n"
     ]
    }
   ],
   "source": [
    "array = np.random.uniform(0, 1, 10)\n",
    "given_value = 0.5\n",
    "nearest_value = array[np.abs(array - given_value).argmin()]\n",
    "print(nearest_value)"
   ]
  },
  {
   "cell_type": "markdown",
   "id": "f89026ee",
   "metadata": {},
   "source": [
    "#### 62. Considering two arrays with shape (1,3) and (3,1), how to compute their sum using an iterator? (★★☆)"
   ]
  },
  {
   "cell_type": "code",
   "execution_count": 74,
   "id": "4fe68d0e",
   "metadata": {},
   "outputs": [
    {
     "name": "stdout",
     "output_type": "stream",
     "text": [
      "[[0 1 2]\n",
      " [1 2 3]\n",
      " [2 3 4]]\n"
     ]
    }
   ],
   "source": [
    "A = np.arange(3).reshape(1, 3)\n",
    "B = np.arange(3).reshape(3, 1)\n",
    "iterator = np.nditer([A, B, None])\n",
    "for x, y, z in iterator:\n",
    "    z[...] = x + y\n",
    "print(iterator.operands[2])"
   ]
  },
  {
   "cell_type": "markdown",
   "id": "8dfcc131",
   "metadata": {},
   "source": [
    "#### 63. Create an array class that has a name attribute (★★☆)"
   ]
  },
  {
   "cell_type": "code",
   "execution_count": 75,
   "id": "9e3d10ca",
   "metadata": {},
   "outputs": [
    {
     "name": "stdout",
     "output_type": "stream",
     "text": [
      "My Array\n"
     ]
    }
   ],
   "source": [
    "class NamedArray(np.ndarray):\n",
    "    def __new__(cls, array, name=\"No Name\"):\n",
    "        obj = np.asarray(array).view(cls)\n",
    "        obj.name = name\n",
    "        return obj\n",
    "\n",
    "    def __array_finalize__(self, obj):\n",
    "        if obj is None:\n",
    "            return\n",
    "        self.name = getattr(obj, 'name', 'No Name')\n",
    "\n",
    "array = NamedArray(np.arange(10), \"My Array\")\n",
    "print(array.name)"
   ]
  },
  {
   "cell_type": "markdown",
   "id": "d5716ee9",
   "metadata": {},
   "source": [
    "#### 64. Consider a given vector, how to add 1 to each element indexed by a second vector (be careful with repeated indices)? (★★★)"
   ]
  },
  {
   "cell_type": "code",
   "execution_count": 76,
   "id": "f260f9e7",
   "metadata": {},
   "outputs": [
    {
     "name": "stdout",
     "output_type": "stream",
     "text": [
      "[6. 3. 4. 4. 4. 1. 4. 1. 1. 2.]\n"
     ]
    }
   ],
   "source": [
    "vector = np.ones(10)\n",
    "indices = np.random.randint(0, len(vector), 20)\n",
    "np.add.at(vector, indices, 1)\n",
    "print(vector)"
   ]
  },
  {
   "cell_type": "markdown",
   "id": "b786dda3",
   "metadata": {},
   "source": [
    "#### 65. How to accumulate elements of a vector (X) to an array (F) based on an index list (I)? (★★★)"
   ]
  },
  {
   "cell_type": "code",
   "execution_count": 77,
   "id": "633a999d",
   "metadata": {},
   "outputs": [
    {
     "name": "stdout",
     "output_type": "stream",
     "text": [
      "[0. 7. 0. 6. 5. 0. 0. 0. 0. 3.]\n"
     ]
    }
   ],
   "source": [
    "X = np.array([1, 2, 3, 4, 5, 6])\n",
    "I = np.array([1, 3, 9, 3, 4, 1])\n",
    "F = np.bincount(I, X)\n",
    "print(F)"
   ]
  },
  {
   "cell_type": "markdown",
   "id": "ac48589b",
   "metadata": {},
   "source": [
    "#### 66. Considering a (w,h,3) image of (dtype=ubyte), compute the number of unique colors (★★☆)"
   ]
  },
  {
   "cell_type": "code",
   "execution_count": 78,
   "id": "674b1ad0",
   "metadata": {},
   "outputs": [
    {
     "name": "stdout",
     "output_type": "stream",
     "text": [
      "256\n"
     ]
    }
   ],
   "source": [
    "w, h = 16, 16\n",
    "image = np.random.randint(0, 256, (w, h, 3), dtype=np.uint8)\n",
    "unique_colors = len(np.unique(image.reshape(-1, 3), axis=0))\n",
    "print(unique_colors)"
   ]
  },
  {
   "cell_type": "markdown",
   "id": "97a0706a",
   "metadata": {},
   "source": [
    "#### 67. Considering a four dimensions array, how to get sum over the last two axis at once? (★★★)"
   ]
  },
  {
   "cell_type": "code",
   "execution_count": 79,
   "id": "90fd5208",
   "metadata": {},
   "outputs": [
    {
     "name": "stdout",
     "output_type": "stream",
     "text": [
      "[[16 12 29 28]\n",
      " [22 20 28 13]\n",
      " [17 19 25 27]]\n"
     ]
    }
   ],
   "source": [
    "array = np.random.randint(0, 10, (3, 4, 2, 2))\n",
    "sum_last_two_axes = array.sum(axis=(-2, -1))\n",
    "print(sum_last_two_axes)"
   ]
  },
  {
   "cell_type": "markdown",
   "id": "5a6390a7",
   "metadata": {},
   "source": [
    "#### 68. Considering a one-dimensional vector D, how to compute means of subsets of D using a vector S of same size describing subset  indices? (★★★)"
   ]
  },
  {
   "cell_type": "code",
   "execution_count": 80,
   "id": "8b09c0cf",
   "metadata": {},
   "outputs": [
    {
     "name": "stdout",
     "output_type": "stream",
     "text": [
      "[1.5 3.5 5.5 7.5]\n"
     ]
    }
   ],
   "source": [
    "D = np.array([1, 2, 3, 4, 5, 6, 7, 8])\n",
    "S = np.array([0, 0, 1, 1, 2, 2, 3, 3])\n",
    "means = np.bincount(S, weights=D) / np.bincount(S)\n",
    "print(means)"
   ]
  },
  {
   "cell_type": "markdown",
   "id": "0e62603a",
   "metadata": {},
   "source": [
    "#### 69. How to get the diagonal of a dot product? (★★★)"
   ]
  },
  {
   "cell_type": "code",
   "execution_count": 81,
   "id": "f8aa1fd7",
   "metadata": {},
   "outputs": [
    {
     "name": "stdout",
     "output_type": "stream",
     "text": [
      "[108  60  54]\n"
     ]
    }
   ],
   "source": [
    "A = np.random.randint(0, 10, (3, 3))\n",
    "B = np.random.randint(0, 10, (3, 3))\n",
    "dot_product = np.dot(A, B)\n",
    "diagonal = np.diag(dot_product)\n",
    "print(diagonal)"
   ]
  },
  {
   "cell_type": "markdown",
   "id": "9e6172bc",
   "metadata": {},
   "source": [
    "#### 70. Consider the vector [1, 2, 3, 4, 5], how to build a new vector with 3 consecutive zeros interleaved between each value? (★★★)"
   ]
  },
  {
   "cell_type": "code",
   "execution_count": 82,
   "id": "f62cf127",
   "metadata": {},
   "outputs": [
    {
     "name": "stdout",
     "output_type": "stream",
     "text": [
      "[1. 0. 0. 0. 2. 0. 0. 0. 3. 0. 0. 0. 4. 0. 0. 0. 5.]\n"
     ]
    }
   ],
   "source": [
    "vector = np.array([1, 2, 3, 4, 5])\n",
    "new_vector = np.zeros(len(vector) + (len(vector) - 1) * 3)\n",
    "new_vector[::4] = vector\n",
    "print(new_vector)"
   ]
  },
  {
   "cell_type": "markdown",
   "id": "bf18a209",
   "metadata": {},
   "source": [
    "#### 71. Consider an array of dimension (5,5,3), how to mulitply it by an array with dimensions (5,5)? (★★★)"
   ]
  },
  {
   "cell_type": "code",
   "execution_count": 83,
   "id": "2136455a",
   "metadata": {},
   "outputs": [
    {
     "name": "stdout",
     "output_type": "stream",
     "text": [
      "[[[4.66827044e-01 1.55993525e-01 1.94667971e-01]\n",
      "  [2.42212597e-03 3.37297197e-01 3.02609413e-01]\n",
      "  [8.55116314e-02 1.13265813e-01 1.68477135e-01]\n",
      "  [5.20349027e-01 6.81561213e-01 1.20981907e-01]\n",
      "  [8.76032638e-02 1.33932409e-02 1.00012674e-01]]\n",
      "\n",
      " [[5.30491228e-02 1.97049944e-02 4.23196477e-03]\n",
      "  [6.08523887e-01 4.44635788e-01 4.63243244e-01]\n",
      "  [6.47572408e-01 4.86221589e-01 2.19993608e-01]\n",
      "  [3.07715680e-03 7.45567548e-04 2.83510713e-03]\n",
      "  [1.32824017e-01 1.53546594e-01 8.72172345e-02]]\n",
      "\n",
      " [[2.84454558e-04 3.44563939e-02 3.54098210e-03]\n",
      "  [2.82114641e-02 6.27464193e-01 3.24764560e-01]\n",
      "  [1.44557562e-01 1.20589334e-01 4.19182248e-01]\n",
      "  [1.03066716e-01 7.60331412e-02 1.24555227e-01]\n",
      "  [1.16700557e-01 5.18534567e-03 1.27272321e-01]]\n",
      "\n",
      " [[1.94604598e-01 1.95900908e-01 4.32519706e-01]\n",
      "  [6.37326775e-02 6.31111267e-02 1.30094087e-01]\n",
      "  [1.56244586e-02 4.79950957e-03 5.56277432e-02]\n",
      "  [7.25326808e-01 3.22433070e-01 7.00624473e-01]\n",
      "  [4.67689612e-02 1.40763024e-02 9.91588078e-03]]\n",
      "\n",
      " [[1.66807544e-01 3.11381460e-01 1.02536666e-01]\n",
      "  [6.28971893e-01 2.61857393e-02 2.42383679e-01]\n",
      "  [6.44299690e-01 1.24949816e-01 6.10818304e-01]\n",
      "  [7.08486586e-02 6.64131588e-01 3.25921324e-01]\n",
      "  [3.10013000e-02 7.91093199e-02 4.87964711e-01]]]\n"
     ]
    }
   ],
   "source": [
    "array1 = np.random.random((5, 5, 3))\n",
    "array2 = np.random.random((5, 5))\n",
    "result = array1 * array2[:, :, np.newaxis]\n",
    "print(result)"
   ]
  },
  {
   "cell_type": "markdown",
   "id": "406ce5bd",
   "metadata": {},
   "source": [
    "#### 72. How to swap two rows of an array? (★★★)"
   ]
  },
  {
   "cell_type": "code",
   "execution_count": 84,
   "id": "e5f1a9b3",
   "metadata": {},
   "outputs": [
    {
     "name": "stdout",
     "output_type": "stream",
     "text": [
      "[[1 5 2 3 6]\n",
      " [6 4 3 3 9]\n",
      " [9 9 4 1 3]\n",
      " [4 4 3 0 9]\n",
      " [9 1 9 1 6]]\n"
     ]
    }
   ],
   "source": [
    "matrix = np.random.randint(0, 10, (5, 5))\n",
    "matrix[[0, 1]] = matrix[[1, 0]]\n",
    "print(matrix)"
   ]
  },
  {
   "cell_type": "markdown",
   "id": "95a7c25c",
   "metadata": {},
   "source": [
    "#### 73. Consider a set of 10 triplets describing 10 triangles (with shared vertices), find the set of unique line segments composing all the  triangles (★★★)"
   ]
  },
  {
   "cell_type": "code",
   "execution_count": 85,
   "id": "b1f9743c",
   "metadata": {},
   "outputs": [
    {
     "name": "stdout",
     "output_type": "stream",
     "text": [
      "[[0 2]\n",
      " [0 3]\n",
      " [0 4]\n",
      " [1 2]\n",
      " [1 3]\n",
      " [1 5]\n",
      " [1 6]\n",
      " [1 8]\n",
      " [1 9]\n",
      " [2 3]\n",
      " [2 4]\n",
      " [2 5]\n",
      " [2 6]\n",
      " [2 8]\n",
      " [3 4]\n",
      " [3 6]\n",
      " [3 8]\n",
      " [4 8]\n",
      " [5 8]\n",
      " [5 9]\n",
      " [6 8]\n",
      " [8 9]]\n"
     ]
    }
   ],
   "source": [
    "triangles = np.random.randint(0, 10, (10, 3))\n",
    "edges = np.roll(triangles.repeat(2, axis=1), -1, axis=1)\n",
    "edges = edges.reshape(len(edges) * 3, 2)\n",
    "sorted_edges = np.sort(edges, axis=1)\n",
    "unique_edges = np.unique(sorted_edges, axis=0)\n",
    "print(unique_edges)\n"
   ]
  },
  {
   "cell_type": "markdown",
   "id": "66efbe2a",
   "metadata": {},
   "source": [
    "#### 74. Given a sorted array C that corresponds to a bincount, how to produce an array A such that np.bincount(A) == C? (★★★)"
   ]
  },
  {
   "cell_type": "code",
   "execution_count": 86,
   "id": "ee44e38a",
   "metadata": {},
   "outputs": [
    {
     "name": "stdout",
     "output_type": "stream",
     "text": [
      "[1 1 2 3 4 4 6]\n"
     ]
    }
   ],
   "source": [
    "C = np.bincount([1, 1, 2, 3, 4, 4, 6])\n",
    "A = np.repeat(np.arange(len(C)), C)\n",
    "print(A)"
   ]
  },
  {
   "cell_type": "markdown",
   "id": "35beae72",
   "metadata": {},
   "source": [
    "#### 75. How to compute averages using a sliding window over an array? (★★★)"
   ]
  },
  {
   "cell_type": "code",
   "execution_count": 87,
   "id": "4763807d",
   "metadata": {},
   "outputs": [
    {
     "name": "stdout",
     "output_type": "stream",
     "text": [
      "[ 1.5  2.5  3.5  4.5  5.5  6.5  7.5  8.5  9.5 10.5 11.5 12.5 13.5 14.5\n",
      " 15.5 16.5 17.5]\n"
     ]
    }
   ],
   "source": [
    "def moving_average(arr, window):\n",
    "    return np.convolve(arr, np.ones(window), mode='valid') / window\n",
    "\n",
    "array = np.arange(20)\n",
    "window = 4\n",
    "averages = moving_average(array, window)\n",
    "print(averages)"
   ]
  },
  {
   "cell_type": "markdown",
   "id": "c410bb6f",
   "metadata": {},
   "source": [
    "#### 76. Consider a one-dimensional array Z, build a two-dimensional array whose first row is (Z[0],Z[1],Z[2]) and each subsequent row is  shifted by 1 (last row should be (Z[-3],Z[-2],Z[-1]) (★★★)"
   ]
  },
  {
   "cell_type": "code",
   "execution_count": 89,
   "id": "8ac3c1e6",
   "metadata": {},
   "outputs": [
    {
     "name": "stdout",
     "output_type": "stream",
     "text": [
      "[[0 1 2]\n",
      " [1 2 3]\n",
      " [2 3 4]\n",
      " [3 4 5]\n",
      " [4 5 6]\n",
      " [5 6 7]\n",
      " [6 7 8]\n",
      " [7 8 9]]\n"
     ]
    }
   ],
   "source": [
    "Z = np.arange(10)\n",
    "stride = 3\n",
    "result = []\n",
    "\n",
    "for i in range(len(Z) - stride + 1):\n",
    "    result.append(Z[i:i+stride])\n",
    "\n",
    "strided_array = np.array(result)\n",
    "print(strided_array)"
   ]
  },
  {
   "cell_type": "markdown",
   "id": "0018e0a8",
   "metadata": {},
   "source": [
    "#### 77. How to negate a boolean, or to change the sign of a float inplace? (★★★)"
   ]
  },
  {
   "cell_type": "code",
   "execution_count": 90,
   "id": "21144dd1",
   "metadata": {},
   "outputs": [
    {
     "name": "stdout",
     "output_type": "stream",
     "text": [
      "[False  True False]\n",
      "[ 1.5 -2.   3.5]\n"
     ]
    }
   ],
   "source": [
    "boolean_array = np.array([True, False, True])\n",
    "negated_boolean_array = np.logical_not(boolean_array)\n",
    "print(negated_boolean_array)\n",
    "\n",
    "float_array = np.array([-1.5, 2.0, -3.5])\n",
    "np.negative(float_array, out=float_array)\n",
    "print(float_array)"
   ]
  },
  {
   "cell_type": "markdown",
   "id": "5daf3c84",
   "metadata": {},
   "source": [
    "#### 78. Consider 2 sets of points P0,P1 describing lines (2d) and a point p, how to compute distance from p to each line i (P0[i],P1[i])? (★★★)"
   ]
  },
  {
   "cell_type": "code",
   "execution_count": 91,
   "id": "6ce89ee2",
   "metadata": {},
   "outputs": [
    {
     "name": "stdout",
     "output_type": "stream",
     "text": [
      "[0.12063175 0.44586687 0.19971671 0.22093434 0.30031015]\n"
     ]
    }
   ],
   "source": [
    "P0 = np.random.random((5, 2))\n",
    "P1 = np.random.random((5, 2))\n",
    "p = np.random.random(2)\n",
    "\n",
    "def distance_to_line(P0, P1, p):\n",
    "    return np.abs(np.cross(P1 - P0, p - P0) / np.linalg.norm(P1 - P0))\n",
    "\n",
    "distances = distance_to_line(P0, P1, p)\n",
    "print(distances)"
   ]
  },
  {
   "cell_type": "markdown",
   "id": "fb343907",
   "metadata": {},
   "source": [
    "#### 79. Consider 2 sets of points P0,P1 describing lines (2d) and a set of points P, how to compute distance from each point j (P[j]) to each line i (P0[i],P1[i])? (★★★)"
   ]
  },
  {
   "cell_type": "code",
   "execution_count": 93,
   "id": "88437571",
   "metadata": {},
   "outputs": [
    {
     "name": "stdout",
     "output_type": "stream",
     "text": [
      "[[0.2590594  0.382097   0.00926625 0.19870821 0.45085572 0.57784825\n",
      "  0.47534374 0.60800425 0.1846944  0.30423706]\n",
      " [0.08946716 0.4072326  0.42842571 0.04126055 0.09225342 0.1200352\n",
      "  0.04723616 0.25674788 0.21648949 0.40903067]\n",
      " [0.26793516 0.29142244 0.09199655 0.15870358 0.45189769 0.54757103\n",
      "  0.42702993 0.61752402 0.06809525 0.37039932]\n",
      " [0.42335263 0.73405366 0.48447414 0.07917285 0.55509397 0.12091889\n",
      "  0.10368865 0.0434549  0.09585408 0.27104791]\n",
      " [0.29713531 0.08598872 0.13776067 0.09875587 0.39535968 0.1685401\n",
      "  0.05158866 0.3029824  0.32974563 0.27571354]]\n"
     ]
    }
   ],
   "source": [
    "\n",
    "\n",
    "P0 = np.random.random((5, 2))\n",
    "P1 = np.random.random((5, 2))\n",
    "P = np.random.random((10, 2))\n",
    "\n",
    "def distance_to_lines(P0, P1, P):\n",
    "    num_lines = len(P0)\n",
    "    num_points = len(P)\n",
    "    distances = np.zeros((num_lines, num_points))\n",
    "    \n",
    "    for i in range(num_lines):\n",
    "        line_start = P0[i]\n",
    "        line_end = P1[i]\n",
    "        \n",
    "        for j in range(num_points):\n",
    "            point = P[j]\n",
    "            \n",
    "            numerator = np.abs(np.cross(line_end - line_start, point - line_start))\n",
    "            denominator = np.linalg.norm(line_end - line_start)\n",
    "            \n",
    "            distances[i, j] = numerator / denominator\n",
    "    \n",
    "    return distances\n",
    "\n",
    "distances = distance_to_lines(P0, P1, P)\n",
    "print(distances)\n"
   ]
  },
  {
   "cell_type": "markdown",
   "id": "db4b5dfd",
   "metadata": {},
   "source": [
    "#### 80. Consider an arbitrary array, write a function that extract a subpart with a fixed shape and centered on a given element (pad with a `fill` value when necessary) (★★★)"
   ]
  },
  {
   "cell_type": "code",
   "execution_count": 96,
   "id": "d47f765d",
   "metadata": {},
   "outputs": [
    {
     "name": "stdout",
     "output_type": "stream",
     "text": [
      "[[0.3377822  0.94849785 0.7268433 ]\n",
      " [0.09533329 0.13912996 0.38738404]\n",
      " [0.60593407 0.66546898 0.392864  ]]\n"
     ]
    }
   ],
   "source": [
    "def extract_subpart(array, shape, center):\n",
    "    pad_x, pad_y = [(s - 1) // 2 for s in shape]\n",
    "    x, y = center\n",
    "    subpart = array[x - pad_x : x + pad_x + 1, y - pad_y : y + pad_y + 1]\n",
    "    return subpart\n",
    "\n",
    "array = np.random.random((8, 8))\n",
    "shape = (3, 3)\n",
    "center = (4, 4)\n",
    "subpart = extract_subpart(array, shape, center)\n",
    "print(subpart)"
   ]
  },
  {
   "cell_type": "markdown",
   "id": "c1167c24",
   "metadata": {},
   "source": [
    "#### 81. Consider an array Z = [1,2,3,4,5,6,7,8,9,10,11,12,13,14], how to generate an array R = [[1,2,3,4], [2,3,4,5], [3,4,5,6], ..., [11,12,13,14]]? (★★★)"
   ]
  },
  {
   "cell_type": "code",
   "execution_count": 97,
   "id": "e9683d7c",
   "metadata": {},
   "outputs": [
    {
     "name": "stdout",
     "output_type": "stream",
     "text": [
      "[[ 1  2  3  4]\n",
      " [ 2  3  4  5]\n",
      " [ 3  4  5  6]\n",
      " [ 4  5  6  7]\n",
      " [ 5  6  7  8]\n",
      " [ 6  7  8  9]\n",
      " [ 7  8  9 10]\n",
      " [ 8  9 10 11]\n",
      " [ 9 10 11 12]\n",
      " [10 11 12 13]\n",
      " [11 12 13 14]]\n"
     ]
    }
   ],
   "source": [
    "Z = np.arange(1, 15)\n",
    "window = 4\n",
    "R = np.lib.stride_tricks.sliding_window_view(Z, window)\n",
    "print(R)"
   ]
  },
  {
   "cell_type": "markdown",
   "id": "aec56eee",
   "metadata": {},
   "source": [
    "#### 82. Compute a matrix rank (★★★)"
   ]
  },
  {
   "cell_type": "code",
   "execution_count": 98,
   "id": "070e7603",
   "metadata": {},
   "outputs": [
    {
     "name": "stdout",
     "output_type": "stream",
     "text": [
      "3\n"
     ]
    }
   ],
   "source": [
    "matrix = np.random.randint(0, 2, (4, 4))\n",
    "rank = np.linalg.matrix_rank(matrix)\n",
    "print(rank)"
   ]
  },
  {
   "cell_type": "markdown",
   "id": "c7e611bf",
   "metadata": {},
   "source": [
    "#### 83. How to find the most frequent value in an array?"
   ]
  },
  {
   "cell_type": "code",
   "execution_count": 99,
   "id": "07a248d8",
   "metadata": {},
   "outputs": [
    {
     "name": "stdout",
     "output_type": "stream",
     "text": [
      "4\n"
     ]
    }
   ],
   "source": [
    "array = np.array([1, 2, 2, 3, 3, 3, 4, 4, 4, 4])\n",
    "most_frequent_value = np.bincount(array).argmax()\n",
    "print(most_frequent_value)"
   ]
  },
  {
   "cell_type": "markdown",
   "id": "af6f64df",
   "metadata": {},
   "source": [
    "#### 84. Extract all the contiguous 3x3 blocks from a random 10x10 matrix (★★★)"
   ]
  },
  {
   "cell_type": "code",
   "execution_count": 100,
   "id": "bcba4c31",
   "metadata": {},
   "outputs": [
    {
     "name": "stdout",
     "output_type": "stream",
     "text": [
      "[[[[6 0 8]\n",
      "   [4 5 5]\n",
      "   [2 0 8]]\n",
      "\n",
      "  [[0 8 2]\n",
      "   [5 5 1]\n",
      "   [0 8 7]]\n",
      "\n",
      "  [[8 2 1]\n",
      "   [5 1 7]\n",
      "   [8 7 9]]\n",
      "\n",
      "  [[2 1 7]\n",
      "   [1 7 7]\n",
      "   [7 9 0]]\n",
      "\n",
      "  [[1 7 1]\n",
      "   [7 7 1]\n",
      "   [9 0 9]]\n",
      "\n",
      "  [[7 1 5]\n",
      "   [7 1 8]\n",
      "   [0 9 9]]\n",
      "\n",
      "  [[1 5 4]\n",
      "   [1 8 5]\n",
      "   [9 9 6]]\n",
      "\n",
      "  [[5 4 2]\n",
      "   [8 5 8]\n",
      "   [9 6 2]]]\n",
      "\n",
      "\n",
      " [[[4 5 5]\n",
      "   [2 0 8]\n",
      "   [5 9 4]]\n",
      "\n",
      "  [[5 5 1]\n",
      "   [0 8 7]\n",
      "   [9 4 6]]\n",
      "\n",
      "  [[5 1 7]\n",
      "   [8 7 9]\n",
      "   [4 6 1]]\n",
      "\n",
      "  [[1 7 7]\n",
      "   [7 9 0]\n",
      "   [6 1 4]]\n",
      "\n",
      "  [[7 7 1]\n",
      "   [9 0 9]\n",
      "   [1 4 0]]\n",
      "\n",
      "  [[7 1 8]\n",
      "   [0 9 9]\n",
      "   [4 0 3]]\n",
      "\n",
      "  [[1 8 5]\n",
      "   [9 9 6]\n",
      "   [0 3 6]]\n",
      "\n",
      "  [[8 5 8]\n",
      "   [9 6 2]\n",
      "   [3 6 4]]]\n",
      "\n",
      "\n",
      " [[[2 0 8]\n",
      "   [5 9 4]\n",
      "   [5 0 3]]\n",
      "\n",
      "  [[0 8 7]\n",
      "   [9 4 6]\n",
      "   [0 3 4]]\n",
      "\n",
      "  [[8 7 9]\n",
      "   [4 6 1]\n",
      "   [3 4 2]]\n",
      "\n",
      "  [[7 9 0]\n",
      "   [6 1 4]\n",
      "   [4 2 2]]\n",
      "\n",
      "  [[9 0 9]\n",
      "   [1 4 0]\n",
      "   [2 2 3]]\n",
      "\n",
      "  [[0 9 9]\n",
      "   [4 0 3]\n",
      "   [2 3 0]]\n",
      "\n",
      "  [[9 9 6]\n",
      "   [0 3 6]\n",
      "   [3 0 5]]\n",
      "\n",
      "  [[9 6 2]\n",
      "   [3 6 4]\n",
      "   [0 5 4]]]\n",
      "\n",
      "\n",
      " [[[5 9 4]\n",
      "   [5 0 3]\n",
      "   [0 8 2]]\n",
      "\n",
      "  [[9 4 6]\n",
      "   [0 3 4]\n",
      "   [8 2 9]]\n",
      "\n",
      "  [[4 6 1]\n",
      "   [3 4 2]\n",
      "   [2 9 7]]\n",
      "\n",
      "  [[6 1 4]\n",
      "   [4 2 2]\n",
      "   [9 7 5]]\n",
      "\n",
      "  [[1 4 0]\n",
      "   [2 2 3]\n",
      "   [7 5 3]]\n",
      "\n",
      "  [[4 0 3]\n",
      "   [2 3 0]\n",
      "   [5 3 2]]\n",
      "\n",
      "  [[0 3 6]\n",
      "   [3 0 5]\n",
      "   [3 2 0]]\n",
      "\n",
      "  [[3 6 4]\n",
      "   [0 5 4]\n",
      "   [2 0 2]]]\n",
      "\n",
      "\n",
      " [[[5 0 3]\n",
      "   [0 8 2]\n",
      "   [4 1 2]]\n",
      "\n",
      "  [[0 3 4]\n",
      "   [8 2 9]\n",
      "   [1 2 7]]\n",
      "\n",
      "  [[3 4 2]\n",
      "   [2 9 7]\n",
      "   [2 7 7]]\n",
      "\n",
      "  [[4 2 2]\n",
      "   [9 7 5]\n",
      "   [7 7 7]]\n",
      "\n",
      "  [[2 2 3]\n",
      "   [7 5 3]\n",
      "   [7 7 6]]\n",
      "\n",
      "  [[2 3 0]\n",
      "   [5 3 2]\n",
      "   [7 6 8]]\n",
      "\n",
      "  [[3 0 5]\n",
      "   [3 2 0]\n",
      "   [6 8 7]]\n",
      "\n",
      "  [[0 5 4]\n",
      "   [2 0 2]\n",
      "   [8 7 0]]]\n",
      "\n",
      "\n",
      " [[[0 8 2]\n",
      "   [4 1 2]\n",
      "   [2 6 2]]\n",
      "\n",
      "  [[8 2 9]\n",
      "   [1 2 7]\n",
      "   [6 2 6]]\n",
      "\n",
      "  [[2 9 7]\n",
      "   [2 7 7]\n",
      "   [2 6 1]]\n",
      "\n",
      "  [[9 7 5]\n",
      "   [7 7 7]\n",
      "   [6 1 8]]\n",
      "\n",
      "  [[7 5 3]\n",
      "   [7 7 6]\n",
      "   [1 8 5]]\n",
      "\n",
      "  [[5 3 2]\n",
      "   [7 6 8]\n",
      "   [8 5 0]]\n",
      "\n",
      "  [[3 2 0]\n",
      "   [6 8 7]\n",
      "   [5 0 2]]\n",
      "\n",
      "  [[2 0 2]\n",
      "   [8 7 0]\n",
      "   [0 2 3]]]\n",
      "\n",
      "\n",
      " [[[4 1 2]\n",
      "   [2 6 2]\n",
      "   [4 8 6]]\n",
      "\n",
      "  [[1 2 7]\n",
      "   [6 2 6]\n",
      "   [8 6 3]]\n",
      "\n",
      "  [[2 7 7]\n",
      "   [2 6 1]\n",
      "   [6 3 7]]\n",
      "\n",
      "  [[7 7 7]\n",
      "   [6 1 8]\n",
      "   [3 7 5]]\n",
      "\n",
      "  [[7 7 6]\n",
      "   [1 8 5]\n",
      "   [7 5 2]]\n",
      "\n",
      "  [[7 6 8]\n",
      "   [8 5 0]\n",
      "   [5 2 3]]\n",
      "\n",
      "  [[6 8 7]\n",
      "   [5 0 2]\n",
      "   [2 3 8]]\n",
      "\n",
      "  [[8 7 0]\n",
      "   [0 2 3]\n",
      "   [3 8 6]]]\n",
      "\n",
      "\n",
      " [[[2 6 2]\n",
      "   [4 8 6]\n",
      "   [4 7 0]]\n",
      "\n",
      "  [[6 2 6]\n",
      "   [8 6 3]\n",
      "   [7 0 8]]\n",
      "\n",
      "  [[2 6 1]\n",
      "   [6 3 7]\n",
      "   [0 8 4]]\n",
      "\n",
      "  [[6 1 8]\n",
      "   [3 7 5]\n",
      "   [8 4 6]]\n",
      "\n",
      "  [[1 8 5]\n",
      "   [7 5 2]\n",
      "   [4 6 7]]\n",
      "\n",
      "  [[8 5 0]\n",
      "   [5 2 3]\n",
      "   [6 7 8]]\n",
      "\n",
      "  [[5 0 2]\n",
      "   [2 3 8]\n",
      "   [7 8 8]]\n",
      "\n",
      "  [[0 2 3]\n",
      "   [3 8 6]\n",
      "   [8 8 0]]]]\n"
     ]
    }
   ],
   "source": [
    "matrix = np.random.randint(0, 10, (10, 10))\n",
    "block_size = 3\n",
    "blocks = np.lib.stride_tricks.sliding_window_view(matrix, (block_size, block_size))\n",
    "print(blocks)"
   ]
  },
  {
   "cell_type": "markdown",
   "id": "017aeda1",
   "metadata": {},
   "source": [
    "#### 85. Create a 2D array subclass such that Z[i,j] == Z[j,i] (★★★)"
   ]
  },
  {
   "cell_type": "code",
   "execution_count": 101,
   "id": "14c85e42",
   "metadata": {},
   "outputs": [
    {
     "name": "stdout",
     "output_type": "stream",
     "text": [
      "[[ 0.  0.  0.  0.]\n",
      " [ 0.  0. 42.  0.]\n",
      " [ 0. 42.  0.  0.]\n",
      " [ 0.  0.  0.  0.]]\n",
      "42.0\n"
     ]
    }
   ],
   "source": [
    "class SymmetricArray(np.ndarray):\n",
    "    def __setitem__(self, key, value):\n",
    "        i, j = key\n",
    "        super(SymmetricArray, self).__setitem__((i, j), value)\n",
    "        super(SymmetricArray, self).__setitem__((j, i), value)\n",
    "\n",
    "shape = (4, 4)\n",
    "symmetric_array = np.zeros(shape).view(SymmetricArray)\n",
    "symmetric_array[1, 2] = 42\n",
    "print(symmetric_array)\n",
    "print(symmetric_array[2, 1])"
   ]
  },
  {
   "cell_type": "markdown",
   "id": "c811c4d4",
   "metadata": {},
   "source": [
    "#### 86. Consider a set of p matrices wich shape (n,n) and a set of p vectors with shape (n,1). How to compute the sum of of the p matrix products at once? (result has shape (n,1)) (★★★)"
   ]
  },
  {
   "cell_type": "code",
   "execution_count": 102,
   "id": "7906b957",
   "metadata": {},
   "outputs": [
    {
     "name": "stdout",
     "output_type": "stream",
     "text": [
      "[[3.87782766]\n",
      " [4.40422662]\n",
      " [5.07178281]]\n"
     ]
    }
   ],
   "source": [
    "p = 5\n",
    "n = 3\n",
    "matrices = np.random.random((p, n, n))\n",
    "vectors = np.random.random((p, n, 1))\n",
    "result = np.sum(matrices @ vectors, axis=0)\n",
    "print(result)"
   ]
  },
  {
   "cell_type": "markdown",
   "id": "6d2e3bb3",
   "metadata": {},
   "source": [
    "#### 87. Consider a 16x16 array, how to get the block-sum (block size is 4x4)? (★★★)"
   ]
  },
  {
   "cell_type": "code",
   "execution_count": 103,
   "id": "53729a59",
   "metadata": {},
   "outputs": [
    {
     "name": "stdout",
     "output_type": "stream",
     "text": [
      "[[89 72 79 58]\n",
      " [63 74 72 62]\n",
      " [85 77 74 69]\n",
      " [70 80 68 80]]\n"
     ]
    }
   ],
   "source": [
    "array = np.random.randint(0, 10, (16, 16))\n",
    "block_size = (4, 4)\n",
    "block_sum = np.add.reduceat(np.add.reduceat(array, np.arange(0, array.shape[0], block_size[0]), axis=0), np.arange(0, array.shape[1], block_size[1]), axis=1)\n",
    "print(block_sum)"
   ]
  },
  {
   "cell_type": "markdown",
   "id": "53c37605",
   "metadata": {},
   "source": [
    "#### 88. How to implement the Game of Life using numpy arrays? (★★★)"
   ]
  },
  {
   "cell_type": "code",
   "execution_count": 104,
   "id": "15c356df",
   "metadata": {},
   "outputs": [
    {
     "name": "stdout",
     "output_type": "stream",
     "text": [
      "[[0 1 0 0 0 0 1 1 1 0]\n",
      " [1 0 0 0 1 1 0 1 0 1]\n",
      " [0 0 0 0 1 1 0 0 0 1]\n",
      " [1 0 0 0 1 1 1 0 0 1]\n",
      " [0 1 0 0 0 0 0 0 0 1]\n",
      " [1 0 1 0 0 0 0 0 0 1]\n",
      " [0 0 1 1 1 0 0 0 0 0]\n",
      " [0 0 1 1 0 0 0 0 0 0]\n",
      " [0 0 1 0 0 0 0 0 1 0]\n",
      " [1 0 0 1 1 0 0 0 0 1]]\n"
     ]
    }
   ],
   "source": [
    "def game_of_life(grid, iterations):\n",
    "    def count_neighbors(arr, i, j):\n",
    "        neighbors = arr[i-1:i+2, j-1:j+2]\n",
    "        neighbors_sum = np.sum(neighbors) - arr[i, j]\n",
    "        return neighbors_sum\n",
    "\n",
    "    for _ in range(iterations):\n",
    "        new_grid = grid.copy()\n",
    "        for i in range(1, grid.shape[0]-1):\n",
    "            for j in range(1, grid.shape[1]-1):\n",
    "                neighbors_count = count_neighbors(grid, i, j)\n",
    "                if grid[i, j] == 1:\n",
    "                    if neighbors_count < 2 or neighbors_count > 3:\n",
    "                        new_grid[i, j] = 0\n",
    "                else:\n",
    "                    if neighbors_count == 3:\n",
    "                        new_grid[i, j] = 1\n",
    "        grid = new_grid\n",
    "    return grid\n",
    "\n",
    "initial_state = np.random.choice([0, 1], size=(10, 10))\n",
    "final_state = game_of_life(initial_state, iterations=5)\n",
    "print(final_state)"
   ]
  },
  {
   "cell_type": "markdown",
   "id": "9a9e6012",
   "metadata": {},
   "source": [
    "#### 89. How to get the n largest values of an array (★★★)"
   ]
  },
  {
   "cell_type": "code",
   "execution_count": 105,
   "id": "81db0da4",
   "metadata": {},
   "outputs": [
    {
     "name": "stdout",
     "output_type": "stream",
     "text": [
      "[7 8 9]\n"
     ]
    }
   ],
   "source": [
    "array = np.array([1, 3, 5, 7, 9, 2, 4, 6, 8])\n",
    "n_largest = array[np.argsort(array)[-3:]]\n",
    "print(n_largest)\n"
   ]
  },
  {
   "cell_type": "markdown",
   "id": "cc919c21",
   "metadata": {},
   "source": [
    "#### 90. Given an arbitrary number of vectors, build the cartesian product (every combinations of every item) (★★★)"
   ]
  },
  {
   "cell_type": "code",
   "execution_count": 106,
   "id": "988a3bb5",
   "metadata": {},
   "outputs": [
    {
     "name": "stdout",
     "output_type": "stream",
     "text": [
      "[[1 4 6]\n",
      " [1 5 6]\n",
      " [2 4 6]\n",
      " [2 5 6]\n",
      " [3 4 6]\n",
      " [3 5 6]\n",
      " [1 4 7]\n",
      " [1 5 7]\n",
      " [2 4 7]\n",
      " [2 5 7]\n",
      " [3 4 7]\n",
      " [3 5 7]]\n"
     ]
    }
   ],
   "source": [
    "vectors = [np.array([1, 2, 3]), np.array([4, 5]), np.array([6, 7])]\n",
    "cartesian_product = np.array(np.meshgrid(*vectors)).T.reshape(-1, len(vectors))\n",
    "print(cartesian_product)"
   ]
  },
  {
   "cell_type": "markdown",
   "id": "00d71f11",
   "metadata": {},
   "source": [
    "#### 91. How to create a record array from a regular array? (★★★)"
   ]
  },
  {
   "cell_type": "code",
   "execution_count": 107,
   "id": "f12bb1c9",
   "metadata": {},
   "outputs": [
    {
     "name": "stdout",
     "output_type": "stream",
     "text": [
      "[('Alice', 25, 1.75) ('Bob', 30, 1.8 ) ('Charlie', 35, 1.9 )]\n"
     ]
    }
   ],
   "source": [
    "array = np.array([(\"Alice\", 25, 1.75), (\"Bob\", 30, 1.80), (\"Charlie\", 35, 1.90)], dtype=[(\"name\", 'U10'), (\"age\", int), (\"height\", float)])\n",
    "record_array = np.rec.array(array)\n",
    "print(record_array)"
   ]
  },
  {
   "cell_type": "markdown",
   "id": "64ebf4fd",
   "metadata": {},
   "source": [
    "#### 92. Consider a large vector Z, compute Z to the power of 3 using 3 different methods (★★★)"
   ]
  },
  {
   "cell_type": "code",
   "execution_count": 111,
   "id": "b5cd89d8",
   "metadata": {},
   "outputs": [
    {
     "name": "stdout",
     "output_type": "stream",
     "text": [
      "True\n",
      "True\n"
     ]
    }
   ],
   "source": [
    "Z = np.random.random(1000000)\n",
    "method1 = Z * Z * Z\n",
    "method2 = np.power(Z, 3)\n",
    "method3 = np.einsum('i,i,i->i', Z, Z, Z)\n",
    "print(np.allclose(method1, method2))\n",
    "print(np.allclose(method1, method3))"
   ]
  },
  {
   "cell_type": "markdown",
   "id": "38136543",
   "metadata": {},
   "source": [
    "#### 93. Consider two arrays A and B of shape (8,3) and (2,2). How to find rows of A that contain elements of each row of B regardless of the order of the elements in B? (★★★)"
   ]
  },
  {
   "cell_type": "code",
   "execution_count": 123,
   "id": "1b3340ef",
   "metadata": {},
   "outputs": [
    {
     "name": "stdout",
     "output_type": "stream",
     "text": [
      "[[1 2 3]\n",
      " [2 3 4]\n",
      " [4 5 6]\n",
      " [5 6 7]]\n"
     ]
    }
   ],
   "source": [
    "\n",
    "A = np.array([[1, 2, 3],\n",
    "              [2, 3, 4],\n",
    "              [3, 4, 5],\n",
    "              [4, 5, 6],\n",
    "              [5, 6, 7],\n",
    "              [6, 7, 8],\n",
    "              [7, 8, 9],\n",
    "              [8, 9, 10]])\n",
    "\n",
    "B = np.array([[3, 2],\n",
    "              [5, 6]])\n",
    "\n",
    "sorted_unique_B = np.vstack([tuple(sorted(row)) for row in B])\n",
    "\n",
    "mask = np.zeros(A.shape[0], dtype=bool)\n",
    "\n",
    "\n",
    "for i, row in enumerate(A):\n",
    "    for b_row in sorted_unique_B:\n",
    "        if set(b_row).issubset(row):\n",
    "            mask[i] = True\n",
    "            break  \n",
    "result = A[mask]\n",
    "\n",
    "print(result)\n"
   ]
  },
  {
   "cell_type": "markdown",
   "id": "b4921d06",
   "metadata": {},
   "source": [
    "#### 94. Considering a 10x3 matrix, extract rows with unequal values (e.g. [2,2,3]) (★★★)"
   ]
  },
  {
   "cell_type": "code",
   "execution_count": 114,
   "id": "0bfff857",
   "metadata": {},
   "outputs": [
    {
     "name": "stdout",
     "output_type": "stream",
     "text": [
      "[[3 0 3]\n",
      " [0 1 3]\n",
      " [4 0 1]\n",
      " [4 4 0]\n",
      " [0 4 1]\n",
      " [1 3 0]\n",
      " [3 0 2]\n",
      " [0 0 2]\n",
      " [4 1 4]\n",
      " [3 0 0]]\n"
     ]
    }
   ],
   "source": [
    "matrix = np.random.randint(0, 5, (10, 3))\n",
    "unequal_rows = matrix[~np.all(matrix[:, 1:] == matrix[:, :-1], axis=1)]\n",
    "print(unequal_rows)"
   ]
  },
  {
   "cell_type": "markdown",
   "id": "ec7f96ae",
   "metadata": {},
   "source": [
    "#### 95. Convert a vector of ints into a matrix binary representation (★★★)"
   ]
  },
  {
   "cell_type": "code",
   "execution_count": 115,
   "id": "a6b67da4",
   "metadata": {},
   "outputs": [
    {
     "name": "stdout",
     "output_type": "stream",
     "text": [
      "[[0 0 0 0 0 0 0 0]\n",
      " [0 0 0 0 0 0 0 1]\n",
      " [0 0 0 0 0 0 1 0]\n",
      " [0 0 0 0 0 0 1 1]\n",
      " [0 0 0 0 0 1 0 0]\n",
      " [0 0 0 0 0 1 0 1]\n",
      " [0 0 0 0 0 1 1 0]\n",
      " [0 0 0 0 0 1 1 1]\n",
      " [0 0 0 0 1 0 0 0]\n",
      " [0 0 0 0 1 0 0 1]]\n"
     ]
    }
   ],
   "source": [
    "vector = np.array([0, 1, 2, 3, 4, 5, 6, 7, 8, 9], dtype=np.uint8)\n",
    "matrix = np.unpackbits(vector[:, np.newaxis], axis=1)\n",
    "print(matrix)"
   ]
  },
  {
   "cell_type": "markdown",
   "id": "36372a4c",
   "metadata": {},
   "source": [
    "#### 96. Given a two dimensional array, how to extract unique rows? (★★★)"
   ]
  },
  {
   "cell_type": "code",
   "execution_count": 116,
   "id": "ce55a93c",
   "metadata": {},
   "outputs": [
    {
     "name": "stdout",
     "output_type": "stream",
     "text": [
      "[[1 2 3]\n",
      " [4 5 6]\n",
      " [7 8 9]]\n"
     ]
    }
   ],
   "source": [
    "array = np.array([[1, 2, 3], [4, 5, 6], [1, 2, 3], [7, 8, 9], [4, 5, 6]])\n",
    "unique_rows = np.unique(array, axis=0)\n",
    "print(unique_rows)"
   ]
  },
  {
   "cell_type": "markdown",
   "id": "60f005c4",
   "metadata": {},
   "source": [
    "#### 97. Considering 2 vectors A & B, write the einsum equivalent of inner, outer, sum, and mul function (★★★)"
   ]
  },
  {
   "cell_type": "code",
   "execution_count": 117,
   "id": "8d803978",
   "metadata": {},
   "outputs": [
    {
     "name": "stdout",
     "output_type": "stream",
     "text": [
      "Inner Product: 32\n",
      "Outer Product:\n",
      " [[ 4  5  6]\n",
      " [ 8 10 12]\n",
      " [12 15 18]]\n",
      "Sum: 6\n",
      "Elementwise Product: [ 4 10 18]\n"
     ]
    }
   ],
   "source": [
    "A = np.array([1, 2, 3])\n",
    "B = np.array([4, 5, 6])\n",
    "inner_product = np.einsum(\"i,i->\", A, B)\n",
    "outer_product = np.einsum(\"i,j->ij\", A, B)\n",
    "sum_product = np.einsum(\"i->\", A)\n",
    "elementwise_product = np.einsum(\"i,i->i\", A, B)\n",
    "print(\"Inner Product:\", inner_product)\n",
    "print(\"Outer Product:\\n\", outer_product)\n",
    "print(\"Sum:\", sum_product)\n",
    "print(\"Elementwise Product:\", elementwise_product)"
   ]
  },
  {
   "cell_type": "markdown",
   "id": "462c0886",
   "metadata": {},
   "source": [
    "#### 98. Considering a path described by two vectors (X,Y), how to sample it using equidistant samples (★★★)?"
   ]
  },
  {
   "cell_type": "code",
   "execution_count": 118,
   "id": "e147e53d",
   "metadata": {},
   "outputs": [
    {
     "name": "stdout",
     "output_type": "stream",
     "text": [
      "(array([1, 1, 1, 2, 2, 3, 3, 4, 4, 5]), array([ 2,  2,  2,  3,  3,  5,  5,  7,  7, 11]))\n"
     ]
    }
   ],
   "source": [
    "X = np.array([1, 2, 3, 4, 5])\n",
    "Y = np.array([2, 3, 5, 7, 11])\n",
    "num_samples = 10\n",
    "sampled_indices = np.linspace(0, len(X) - 1, num_samples, dtype=int)\n",
    "sampled_path = (X[sampled_indices], Y[sampled_indices])\n",
    "print(sampled_path)"
   ]
  },
  {
   "cell_type": "markdown",
   "id": "04521d50",
   "metadata": {},
   "source": [
    "#### 99. Given an integer n and a 2D array X, select from X the rows which can be interpreted as draws from a multinomial distribution with n degrees, i.e., the rows which only contain integers and which sum to n. (★★★)"
   ]
  },
  {
   "cell_type": "code",
   "execution_count": 131,
   "id": "c0449f4f",
   "metadata": {},
   "outputs": [
    {
     "name": "stdout",
     "output_type": "stream",
     "text": [
      "[[1 2 3]\n",
      " [4 1 1]\n",
      " [2 2 2]\n",
      " [0 3 3]\n",
      " [6 0 0]]\n"
     ]
    }
   ],
   "source": [
    "\n",
    "n = 6\n",
    "X = np.array([[1, 2, 3], [4, 1, 1], [2, 2, 2], [0, 3, 3], [6, 0, 0]])\n",
    "\n",
    "rows_meeting_criteria = X[(np.all(X % 1 == 0, axis=1)) & (np.sum(X, axis=1) == n)]\n",
    "\n",
    "print(rows_meeting_criteria)\n"
   ]
  },
  {
   "cell_type": "markdown",
   "id": "ca425314",
   "metadata": {},
   "source": [
    "#### 100. Compute bootstrapped 95% confidence intervals for the mean of a 1D array X (i.e., resample the elements of an array with replacement N times, compute the mean of each sample, and then compute percentiles over the means). (★★★)"
   ]
  },
  {
   "cell_type": "code",
   "execution_count": 120,
   "id": "02d99973",
   "metadata": {},
   "outputs": [
    {
     "name": "stdout",
     "output_type": "stream",
     "text": [
      "95% Confidence Interval for Mean: [-0.07555291  0.05241579]\n"
     ]
    }
   ],
   "source": [
    "X = np.random.randn(1000)  # Example data\n",
    "N = 10000  \n",
    "bootstrap_samples = np.random.choice(X, (N, len(X)), replace=True)\n",
    "bootstrap_means = bootstrap_samples.mean(axis=1)\n",
    "confidence_interval = np.percentile(bootstrap_means, [2.5, 97.5])\n",
    "print(\"95% Confidence Interval for Mean:\", confidence_interval)"
   ]
  },
  {
   "cell_type": "code",
   "execution_count": null,
   "id": "6fba333e",
   "metadata": {},
   "outputs": [],
   "source": []
  }
 ],
 "metadata": {
  "kernelspec": {
   "display_name": "Python 3 (ipykernel)",
   "language": "python",
   "name": "python3"
  },
  "language_info": {
   "codemirror_mode": {
    "name": "ipython",
    "version": 3
   },
   "file_extension": ".py",
   "mimetype": "text/x-python",
   "name": "python",
   "nbconvert_exporter": "python",
   "pygments_lexer": "ipython3",
   "version": "3.11.4"
  }
 },
 "nbformat": 4,
 "nbformat_minor": 5
}
