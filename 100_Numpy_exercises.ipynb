{
 "cells": [
  {
   "cell_type": "markdown",
   "id": "1a409193",
   "metadata": {},
   "source": [
    "# 100 numpy exercises\n"
   ]
  },
  {
   "cell_type": "markdown",
   "id": "d4f8e89d",
   "metadata": {},
   "source": [
    "#### 1. Import the numpy package under the name `np` (★☆☆)"
   ]
  },
  {
   "cell_type": "code",
   "execution_count": 1,
   "id": "8e029697",
   "metadata": {},
   "outputs": [],
   "source": [
    "import numpy as np"
   ]
  },
  {
   "cell_type": "markdown",
   "id": "4ec99f5b",
   "metadata": {},
   "source": [
    "#### 2. Print the numpy version and the configuration (★☆☆)"
   ]
  },
  {
   "cell_type": "code",
   "execution_count": 2,
   "id": "93156ea7",
   "metadata": {},
   "outputs": [
    {
     "name": "stdout",
     "output_type": "stream",
     "text": [
      "1.24.3\n",
      "blas_armpl_info:\n",
      "  NOT AVAILABLE\n",
      "blas_mkl_info:\n",
      "    libraries = ['mkl_rt']\n",
      "    library_dirs = ['E:/Anaconda\\\\Library\\\\lib']\n",
      "    define_macros = [('SCIPY_MKL_H', None), ('HAVE_CBLAS', None)]\n",
      "    include_dirs = ['E:/Anaconda\\\\Library\\\\include']\n",
      "blas_opt_info:\n",
      "    libraries = ['mkl_rt']\n",
      "    library_dirs = ['E:/Anaconda\\\\Library\\\\lib']\n",
      "    define_macros = [('SCIPY_MKL_H', None), ('HAVE_CBLAS', None)]\n",
      "    include_dirs = ['E:/Anaconda\\\\Library\\\\include']\n",
      "lapack_armpl_info:\n",
      "  NOT AVAILABLE\n",
      "lapack_mkl_info:\n",
      "    libraries = ['mkl_rt']\n",
      "    library_dirs = ['E:/Anaconda\\\\Library\\\\lib']\n",
      "    define_macros = [('SCIPY_MKL_H', None), ('HAVE_CBLAS', None)]\n",
      "    include_dirs = ['E:/Anaconda\\\\Library\\\\include']\n",
      "lapack_opt_info:\n",
      "    libraries = ['mkl_rt']\n",
      "    library_dirs = ['E:/Anaconda\\\\Library\\\\lib']\n",
      "    define_macros = [('SCIPY_MKL_H', None), ('HAVE_CBLAS', None)]\n",
      "    include_dirs = ['E:/Anaconda\\\\Library\\\\include']\n",
      "Supported SIMD extensions in this NumPy install:\n",
      "    baseline = SSE,SSE2,SSE3\n",
      "    found = SSSE3,SSE41,POPCNT,SSE42,AVX,F16C,FMA3,AVX2\n",
      "    not found = AVX512F,AVX512CD,AVX512_SKX,AVX512_CLX,AVX512_CNL,AVX512_ICL\n",
      "None\n"
     ]
    }
   ],
   "source": [
    "print(np.__version__)\n",
    "print(np.show_config())"
   ]
  },
  {
   "cell_type": "markdown",
   "id": "1c6622d9",
   "metadata": {},
   "source": [
    "#### 3. Create a null vector of size 10 (★☆☆)"
   ]
  },
  {
   "cell_type": "code",
   "execution_count": 3,
   "id": "4760b5bf",
   "metadata": {},
   "outputs": [
    {
     "name": "stdout",
     "output_type": "stream",
     "text": [
      "[0. 0. 0. 0. 0. 0. 0. 0. 0. 0.]\n"
     ]
    }
   ],
   "source": [
    "null_vector = np.zeros(10)\n",
    "print(null_vector)"
   ]
  },
  {
   "cell_type": "markdown",
   "id": "e527ad21",
   "metadata": {},
   "source": [
    "#### 4. How to find the memory size of any array (★☆☆)"
   ]
  },
  {
   "cell_type": "code",
   "execution_count": 4,
   "id": "07d29189",
   "metadata": {},
   "outputs": [
    {
     "name": "stdout",
     "output_type": "stream",
     "text": [
      "800\n"
     ]
    }
   ],
   "source": [
    "array = np.zeros((10, 10))\n",
    "print(array.size * array.itemsize)"
   ]
  },
  {
   "cell_type": "markdown",
   "id": "af66fb46",
   "metadata": {},
   "source": [
    "#### 5. How to get the documentation of the numpy add function from the command line? (★☆☆)"
   ]
  },
  {
   "cell_type": "code",
   "execution_count": 5,
   "id": "b4a65105",
   "metadata": {},
   "outputs": [
    {
     "data": {
      "text/plain": [
       "0"
      ]
     },
     "execution_count": 5,
     "metadata": {},
     "output_type": "execute_result"
    }
   ],
   "source": [
    "import subprocess\n",
    "subprocess.call([\"python\", \"-c\", \"import numpy; numpy.info(numpy.add)\"])\n"
   ]
  },
  {
   "cell_type": "markdown",
   "id": "23ee5f99",
   "metadata": {},
   "source": [
    "#### 6. Create a null vector of size 10 but the fifth value which is 1 (★☆☆)"
   ]
  },
  {
   "cell_type": "code",
   "execution_count": 6,
   "id": "1a5ac2c3",
   "metadata": {},
   "outputs": [
    {
     "name": "stdout",
     "output_type": "stream",
     "text": [
      "[0. 0. 0. 0. 1. 0. 0. 0. 0. 0.]\n"
     ]
    }
   ],
   "source": [
    "null_vector = np.zeros(10)\n",
    "null_vector[4] = 1\n",
    "print(null_vector)"
   ]
  },
  {
   "cell_type": "markdown",
   "id": "430bb0b6",
   "metadata": {},
   "source": [
    "#### 7. Create a vector with values ranging from 10 to 49 (★☆☆)"
   ]
  },
  {
   "cell_type": "code",
   "execution_count": 7,
   "id": "07c7e96e",
   "metadata": {},
   "outputs": [
    {
     "name": "stdout",
     "output_type": "stream",
     "text": [
      "[10 11 12 13 14 15 16 17 18 19 20 21 22 23 24 25 26 27 28 29 30 31 32 33\n",
      " 34 35 36 37 38 39 40 41 42 43 44 45 46 47 48 49]\n"
     ]
    }
   ],
   "source": [
    "vector = np.arange(10, 50)\n",
    "print(vector)"
   ]
  },
  {
   "cell_type": "markdown",
   "id": "409e522b",
   "metadata": {},
   "source": [
    "#### 8. Reverse a vector (first element becomes last) (★☆☆)"
   ]
  },
  {
   "cell_type": "code",
   "execution_count": 8,
   "id": "c5babc63",
   "metadata": {},
   "outputs": [
    {
     "name": "stdout",
     "output_type": "stream",
     "text": [
      "[49 48 47 46 45 44 43 42 41 40 39 38 37 36 35 34 33 32 31 30 29 28 27 26\n",
      " 25 24 23 22 21 20 19 18 17 16 15 14 13 12 11 10]\n"
     ]
    }
   ],
   "source": [
    "reversed_vector = vector[::-1]\n",
    "print(reversed_vector)"
   ]
  },
  {
   "cell_type": "markdown",
   "id": "3218f115",
   "metadata": {},
   "source": [
    "#### 9. Create a 3x3 matrix with values ranging from 0 to 8 (★☆☆)"
   ]
  },
  {
   "cell_type": "code",
   "execution_count": 9,
   "id": "01d1a8a9",
   "metadata": {},
   "outputs": [
    {
     "name": "stdout",
     "output_type": "stream",
     "text": [
      "[[0 1 2]\n",
      " [3 4 5]\n",
      " [6 7 8]]\n"
     ]
    }
   ],
   "source": [
    "matrix = np.arange(9).reshape(3, 3)\n",
    "print(matrix)"
   ]
  },
  {
   "cell_type": "markdown",
   "id": "65b4860a",
   "metadata": {},
   "source": [
    "#### 10. Find indices of non-zero elements from [1,2,0,0,4,0] (★☆☆)"
   ]
  },
  {
   "cell_type": "code",
   "execution_count": 10,
   "id": "43ac089a",
   "metadata": {},
   "outputs": [
    {
     "name": "stdout",
     "output_type": "stream",
     "text": [
      "(array([0, 1, 4], dtype=int64),)\n"
     ]
    }
   ],
   "source": [
    "array = np.array([1, 2, 0, 0, 4, 0])\n",
    "non_zero_indices = np.nonzero(array)\n",
    "print(non_zero_indices)"
   ]
  },
  {
   "cell_type": "markdown",
   "id": "81308018",
   "metadata": {},
   "source": [
    "#### 11. Create a 3x3 identity matrix (★☆☆)"
   ]
  },
  {
   "cell_type": "code",
   "execution_count": 11,
   "id": "b3d900ac",
   "metadata": {},
   "outputs": [
    {
     "name": "stdout",
     "output_type": "stream",
     "text": [
      "[[1. 0. 0.]\n",
      " [0. 1. 0.]\n",
      " [0. 0. 1.]]\n"
     ]
    }
   ],
   "source": [
    "identity_matrix = np.eye(3)\n",
    "print(identity_matrix)"
   ]
  },
  {
   "cell_type": "markdown",
   "id": "fc31ac75",
   "metadata": {},
   "source": [
    "#### 12. Create a 3x3x3 array with random values (★☆☆)"
   ]
  },
  {
   "cell_type": "code",
   "execution_count": 12,
   "id": "d88f6f46",
   "metadata": {},
   "outputs": [
    {
     "name": "stdout",
     "output_type": "stream",
     "text": [
      "[[[0.43216881 0.48882898 0.20405063]\n",
      "  [0.87709256 0.12762538 0.0536112 ]\n",
      "  [0.66325052 0.77753337 0.91709116]]\n",
      "\n",
      " [[0.19818974 0.64459309 0.90364428]\n",
      "  [0.29935724 0.95414228 0.98767719]\n",
      "  [0.0701259  0.47765507 0.14941888]]\n",
      "\n",
      " [[0.7624115  0.80716584 0.20717226]\n",
      "  [0.77268298 0.32664249 0.29788513]\n",
      "  [0.75878812 0.46879179 0.74945298]]]\n"
     ]
    }
   ],
   "source": [
    "random_array = np.random.random((3, 3, 3))\n",
    "print(random_array)"
   ]
  },
  {
   "cell_type": "markdown",
   "id": "3baa6829",
   "metadata": {},
   "source": [
    "#### 13. Create a 10x10 array with random values and find the minimum and maximum values (★☆☆)"
   ]
  },
  {
   "cell_type": "code",
   "execution_count": 13,
   "id": "d0514a1b",
   "metadata": {},
   "outputs": [
    {
     "name": "stdout",
     "output_type": "stream",
     "text": [
      "Minimum: 0.002197336925522042\n",
      "Maximum: 0.9986350995140637\n"
     ]
    }
   ],
   "source": [
    "array = np.random.random((10, 10))\n",
    "min_value = np.min(array)\n",
    "max_value = np.max(array)\n",
    "print(\"Minimum:\", min_value)\n",
    "print(\"Maximum:\", max_value)"
   ]
  },
  {
   "cell_type": "markdown",
   "id": "fa9efe59",
   "metadata": {},
   "source": [
    "#### 14. Create a random vector of size 30 and find the mean value (★☆☆)"
   ]
  },
  {
   "cell_type": "code",
   "execution_count": 14,
   "id": "5cd2b57a",
   "metadata": {},
   "outputs": [
    {
     "name": "stdout",
     "output_type": "stream",
     "text": [
      "Mean: 0.6207761408342836\n"
     ]
    }
   ],
   "source": [
    "random_vector = np.random.random(30)\n",
    "mean_value = np.mean(random_vector)\n",
    "print(\"Mean:\", mean_value)"
   ]
  },
  {
   "cell_type": "markdown",
   "id": "2417db81",
   "metadata": {},
   "source": [
    "#### 15. Create a 2d array with 1 on the border and 0 inside (★☆☆)"
   ]
  },
  {
   "cell_type": "code",
   "execution_count": 15,
   "id": "9969b567",
   "metadata": {},
   "outputs": [
    {
     "name": "stdout",
     "output_type": "stream",
     "text": [
      "[[1. 1. 1. 1. 1.]\n",
      " [1. 0. 0. 0. 1.]\n",
      " [1. 0. 0. 0. 1.]\n",
      " [1. 0. 0. 0. 1.]\n",
      " [1. 1. 1. 1. 1.]]\n"
     ]
    }
   ],
   "source": [
    "array = np.ones((5, 5))\n",
    "array[1:-1, 1:-1] = 0\n",
    "print(array)"
   ]
  },
  {
   "cell_type": "markdown",
   "id": "04ab0916",
   "metadata": {},
   "source": [
    "#### 16. How to add a border (filled with 0's) around an existing array? (★☆☆)"
   ]
  },
  {
   "cell_type": "code",
   "execution_count": 16,
   "id": "164e6600",
   "metadata": {},
   "outputs": [
    {
     "name": "stdout",
     "output_type": "stream",
     "text": [
      "[[0. 0. 0. 0. 0.]\n",
      " [0. 1. 1. 1. 0.]\n",
      " [0. 1. 1. 1. 0.]\n",
      " [0. 1. 1. 1. 0.]\n",
      " [0. 0. 0. 0. 0.]]\n"
     ]
    }
   ],
   "source": [
    "existing_array = np.ones((3, 3))\n",
    "bordered_array = np.pad(existing_array, pad_width=1, mode='constant', constant_values=0)\n",
    "print(bordered_array)"
   ]
  },
  {
   "cell_type": "markdown",
   "id": "c205fed2",
   "metadata": {},
   "source": [
    "#### 17. What is the result of the following expression? (★☆☆)\n",
    "```python\n",
    "0 * np.nan\n",
    "np.nan == np.nan\n",
    "np.inf > np.nan\n",
    "np.nan - np.nan\n",
    "np.nan in set([np.nan])\n",
    "0.3 == 3 * 0.1\n",
    "```"
   ]
  },
  {
   "cell_type": "code",
   "execution_count": 17,
   "id": "8f4fae4e",
   "metadata": {},
   "outputs": [
    {
     "name": "stdout",
     "output_type": "stream",
     "text": [
      "nan\n",
      "False\n",
      "False\n",
      "nan\n",
      "True\n",
      "False\n"
     ]
    }
   ],
   "source": [
    "print(0 * np.nan)           # nan\n",
    "print(np.nan == np.nan)     # False\n",
    "print(np.inf > np.nan)      # False\n",
    "print(np.nan - np.nan)      # nan\n",
    "print(np.nan in set([np.nan]))  # True\n",
    "print(0.3 == 3 * 0.1)       # False"
   ]
  },
  {
   "cell_type": "markdown",
   "id": "9baa9d0a",
   "metadata": {},
   "source": [
    "#### 18. Create a 5x5 matrix with values 1,2,3,4 just below the diagonal (★☆☆)"
   ]
  },
  {
   "cell_type": "code",
   "execution_count": 18,
   "id": "7f4d3275",
   "metadata": {},
   "outputs": [
    {
     "name": "stdout",
     "output_type": "stream",
     "text": [
      "[[0 0 0 0 0]\n",
      " [1 0 0 0 0]\n",
      " [0 2 0 0 0]\n",
      " [0 0 3 0 0]\n",
      " [0 0 0 4 0]]\n"
     ]
    }
   ],
   "source": [
    "matrix = np.diag(1 + np.arange(4), k=-1)\n",
    "print(matrix)"
   ]
  },
  {
   "cell_type": "markdown",
   "id": "094aa771",
   "metadata": {},
   "source": [
    "#### 19. Create a 8x8 matrix and fill it with a checkerboard pattern (★☆☆)"
   ]
  },
  {
   "cell_type": "code",
   "execution_count": 19,
   "id": "353c872e",
   "metadata": {},
   "outputs": [
    {
     "name": "stdout",
     "output_type": "stream",
     "text": [
      "[[0 1 0 1 0 1 0 1]\n",
      " [1 0 1 0 1 0 1 0]\n",
      " [0 1 0 1 0 1 0 1]\n",
      " [1 0 1 0 1 0 1 0]\n",
      " [0 1 0 1 0 1 0 1]\n",
      " [1 0 1 0 1 0 1 0]\n",
      " [0 1 0 1 0 1 0 1]\n",
      " [1 0 1 0 1 0 1 0]]\n"
     ]
    }
   ],
   "source": [
    "checkerboard = np.zeros((8, 8), dtype=int)\n",
    "checkerboard[1::2, ::2] = 1\n",
    "checkerboard[::2, 1::2] = 1\n",
    "print(checkerboard)"
   ]
  },
  {
   "cell_type": "markdown",
   "id": "d34d5e5c",
   "metadata": {},
   "source": [
    "#### 20. Consider a (6,7,8) shape array, what is the index (x,y,z) of the 100th element? (★☆☆)"
   ]
  },
  {
   "cell_type": "code",
   "execution_count": 20,
   "id": "a58e6dde",
   "metadata": {},
   "outputs": [
    {
     "name": "stdout",
     "output_type": "stream",
     "text": [
      "(1, 5, 4)\n"
     ]
    }
   ],
   "source": [
    "shape = (6, 7, 8)\n",
    "index = np.unravel_index(100, shape)\n",
    "print(index)"
   ]
  },
  {
   "cell_type": "markdown",
   "id": "134a9a39",
   "metadata": {},
   "source": [
    "#### 21. Create a checkerboard 8x8 matrix using the tile function (★☆☆)"
   ]
  },
  {
   "cell_type": "code",
   "execution_count": 21,
   "id": "d0d07a54",
   "metadata": {},
   "outputs": [
    {
     "name": "stdout",
     "output_type": "stream",
     "text": [
      "[[0 1 0 1 0 1 0 1]\n",
      " [1 0 1 0 1 0 1 0]\n",
      " [0 1 0 1 0 1 0 1]\n",
      " [1 0 1 0 1 0 1 0]\n",
      " [0 1 0 1 0 1 0 1]\n",
      " [1 0 1 0 1 0 1 0]\n",
      " [0 1 0 1 0 1 0 1]\n",
      " [1 0 1 0 1 0 1 0]]\n"
     ]
    }
   ],
   "source": [
    "checkerboard = np.tile(np.array([[0, 1], [1, 0]]), (4, 4))\n",
    "print(checkerboard)"
   ]
  },
  {
   "cell_type": "markdown",
   "id": "34c9801f",
   "metadata": {},
   "source": [
    "#### 22. Normalize a 5x5 random matrix (★☆☆)"
   ]
  },
  {
   "cell_type": "code",
   "execution_count": 22,
   "id": "d188d310",
   "metadata": {},
   "outputs": [
    {
     "name": "stdout",
     "output_type": "stream",
     "text": [
      "[[0.06183097 1.         0.09338898 0.31339287 0.35206024]\n",
      " [0.54755713 0.09294738 0.12751293 0.49563142 0.38908531]\n",
      " [0.17358367 0.16059816 0.61160611 0.63603329 0.8019299 ]\n",
      " [0.99039633 0.32301388 0.37376891 0.07686936 0.76481046]\n",
      " [0.17701914 0.         0.73497696 0.52723737 0.27844529]]\n"
     ]
    }
   ],
   "source": [
    "random_matrix = np.random.random((5, 5))\n",
    "normalized_matrix = (random_matrix - random_matrix.min()) / (random_matrix.max() - random_matrix.min())\n",
    "print(normalized_matrix)"
   ]
  },
  {
   "cell_type": "markdown",
   "id": "c4453795",
   "metadata": {},
   "source": [
    "#### 23. Create a custom dtype that describes a color as four unsigned bytes (RGBA) (★☆☆)"
   ]
  },
  {
   "cell_type": "code",
   "execution_count": 23,
   "id": "dcd23389",
   "metadata": {},
   "outputs": [
    {
     "name": "stdout",
     "output_type": "stream",
     "text": [
      "[('R', 'u1'), ('G', 'u1'), ('B', 'u1'), ('A', 'u1')]\n"
     ]
    }
   ],
   "source": [
    "color_dtype = np.dtype([('R', np.uint8), ('G', np.uint8), ('B', np.uint8), ('A', np.uint8)])\n",
    "print(color_dtype)"
   ]
  },
  {
   "cell_type": "markdown",
   "id": "d45e27d5",
   "metadata": {},
   "source": [
    "#### 24. Multiply a 5x3 matrix by a 3x2 matrix (real matrix product) (★☆☆)"
   ]
  },
  {
   "cell_type": "code",
   "execution_count": 24,
   "id": "9e50aeb6",
   "metadata": {},
   "outputs": [
    {
     "name": "stdout",
     "output_type": "stream",
     "text": [
      "[[0.83673465 0.23557097]\n",
      " [1.20559004 0.61414992]\n",
      " [0.62759461 0.31548753]\n",
      " [0.68012636 0.58497079]\n",
      " [1.42418984 0.60574894]]\n"
     ]
    }
   ],
   "source": [
    "matrix1 = np.random.random((5, 3))\n",
    "matrix2 = np.random.random((3, 2))\n",
    "result = np.dot(matrix1, matrix2)\n",
    "print(result)"
   ]
  },
  {
   "cell_type": "markdown",
   "id": "0f025508",
   "metadata": {},
   "source": [
    "#### 25. Given a 1D array, negate all elements which are between 3 and 8, in place. (★☆☆)"
   ]
  },
  {
   "cell_type": "code",
   "execution_count": 25,
   "id": "f8830df6",
   "metadata": {},
   "outputs": [
    {
     "name": "stdout",
     "output_type": "stream",
     "text": [
      "[ 1  2  3 -4 -5 -6 -7  8  9 10]\n"
     ]
    }
   ],
   "source": [
    "array = np.array([1, 2, 3, 4, 5, 6, 7, 8, 9, 10])\n",
    "array[(array > 3) & (array < 8)] *= -1\n",
    "print(array)"
   ]
  },
  {
   "cell_type": "markdown",
   "id": "6c5a40a1",
   "metadata": {},
   "source": [
    "#### 26. What is the output of the following script? (★☆☆)\n",
    "```python\n",
    "\n",
    "print(sum(range(5),-1))\n",
    "from numpy import *\n",
    "print(sum(range(5),-1))\n",
    "```"
   ]
  },
  {
   "cell_type": "code",
   "execution_count": 30,
   "id": "fe71f176",
   "metadata": {},
   "outputs": [
    {
     "name": "stdout",
     "output_type": "stream",
     "text": [
      "10\n",
      "10\n"
     ]
    }
   ],
   "source": [
    "print(sum(range(5), -1))  # Output: 10\n",
    "from numpy import *\n",
    "print(sum(range(5), -1))  # Output: 10"
   ]
  },
  {
   "cell_type": "markdown",
   "id": "fa5b03be",
   "metadata": {},
   "source": [
    "#### 27. Consider an integer vector Z, which of these expressions are legal? (★☆☆)\n",
    "```python\n",
    "Z**Z\n",
    "2 << Z >> 2\n",
    "Z <- Z\n",
    "1j*Z\n",
    "Z/1/1\n",
    "Z<Z>Z\n",
    "```"
   ]
  },
  {
   "cell_type": "code",
   "execution_count": 31,
   "id": "f23fecef",
   "metadata": {},
   "outputs": [
    {
     "name": "stdout",
     "output_type": "stream",
     "text": [
      "[ 1  4 27]\n",
      "[1 2 4]\n",
      "[False False False]\n",
      "[0.+1.j 0.+2.j 0.+3.j]\n",
      "[1. 2. 3.]\n"
     ]
    }
   ],
   "source": [
    "Z = np.array([1, 2, 3])\n",
    "print(Z**Z)  # Legal\n",
    "print(2 << Z >> 2)  # Legal\n",
    "print(Z < -Z)  # Legal\n",
    "print(1j * Z)  # Legal\n",
    "print(Z / 1 / 1)  # Legal\n",
    "# print(Z < Z > Z)  # Illegal (ambiguous)"
   ]
  },
  {
   "cell_type": "markdown",
   "id": "e2083b0a",
   "metadata": {},
   "source": [
    "#### 28. What are the result of the following expressions? (★☆☆)\n",
    "```python\n",
    "np.array(0) / np.array(0)\n",
    "np.array(0) // np.array(0)\n",
    "np.array([np.nan]).astype(int).astype(float)\n",
    "```"
   ]
  },
  {
   "cell_type": "code",
   "execution_count": 32,
   "id": "08a4a98f",
   "metadata": {},
   "outputs": [
    {
     "name": "stdout",
     "output_type": "stream",
     "text": [
      "nan\n",
      "0\n",
      "[-2.14748365e+09]\n"
     ]
    },
    {
     "name": "stderr",
     "output_type": "stream",
     "text": [
      "C:\\Users\\Lenovo\\AppData\\Local\\Temp\\ipykernel_18472\\509868088.py:1: RuntimeWarning: invalid value encountered in divide\n",
      "  print(np.array(0) / np.array(0))  # Output: nan\n",
      "C:\\Users\\Lenovo\\AppData\\Local\\Temp\\ipykernel_18472\\509868088.py:2: RuntimeWarning: divide by zero encountered in floor_divide\n",
      "  print(np.array(0) // np.array(0))  # Output: 0 (floored division)\n",
      "C:\\Users\\Lenovo\\AppData\\Local\\Temp\\ipykernel_18472\\509868088.py:3: RuntimeWarning: invalid value encountered in cast\n",
      "  print(np.array([np.nan]).astype(int).astype(float))\n"
     ]
    }
   ],
   "source": [
    "print(np.array(0) / np.array(0))  # Output: nan\n",
    "print(np.array(0) // np.array(0))  # Output: 0 (floored division)\n",
    "print(np.array([np.nan]).astype(int).astype(float))"
   ]
  },
  {
   "cell_type": "markdown",
   "id": "d7bf6dce",
   "metadata": {},
   "source": [
    "#### 29. How to round away from zero a float array ? (★☆☆)"
   ]
  },
  {
   "cell_type": "code",
   "execution_count": 33,
   "id": "f5e5661a",
   "metadata": {},
   "outputs": [
    {
     "name": "stdout",
     "output_type": "stream",
     "text": [
      "[-1.  5. -1. -4.  1. -5. -1.  5.  1. -5.]\n"
     ]
    }
   ],
   "source": [
    "float_array = np.random.uniform(-5, 5, 10)\n",
    "rounded_array = np.where(float_array < 0, np.floor(float_array), np.ceil(float_array))\n",
    "print(rounded_array)"
   ]
  },
  {
   "cell_type": "markdown",
   "id": "d903be49",
   "metadata": {},
   "source": [
    "#### 30. How to find common values between two arrays? (★☆☆)"
   ]
  },
  {
   "cell_type": "code",
   "execution_count": 34,
   "id": "75afb9aa",
   "metadata": {},
   "outputs": [
    {
     "name": "stdout",
     "output_type": "stream",
     "text": [
      "[3 4 5]\n"
     ]
    }
   ],
   "source": [
    "array1 = np.array([1, 2, 3, 4, 5])\n",
    "array2 = np.array([3, 4, 5, 6, 7])\n",
    "common_values = np.intersect1d(array1, array2)\n",
    "print(common_values)"
   ]
  },
  {
   "cell_type": "markdown",
   "id": "3c0f2607",
   "metadata": {},
   "source": [
    "#### 31. How to ignore all numpy warnings (not recommended)? (★☆☆)"
   ]
  },
  {
   "cell_type": "code",
   "execution_count": 35,
   "id": "0840aff8",
   "metadata": {},
   "outputs": [
    {
     "data": {
      "text/plain": [
       "{'divide': 'ignore', 'over': 'ignore', 'under': 'ignore', 'invalid': 'ignore'}"
      ]
     },
     "execution_count": 35,
     "metadata": {},
     "output_type": "execute_result"
    }
   ],
   "source": [
    "np.seterr(all='ignore')\n",
    "# Your code here\n",
    "np.seterr(all='warn')  # Reset warnings to default behavior"
   ]
  },
  {
   "cell_type": "markdown",
   "id": "9df0d29e",
   "metadata": {},
   "source": [
    "#### 32. Is the following expressions true? (★☆☆)\n",
    "```python\n",
    "np.sqrt(-1) == np.emath.sqrt(-1)\n",
    "```"
   ]
  },
  {
   "cell_type": "code",
   "execution_count": 39,
   "id": "afabad65",
   "metadata": {},
   "outputs": [
    {
     "name": "stdout",
     "output_type": "stream",
     "text": [
      "False\n"
     ]
    },
    {
     "name": "stderr",
     "output_type": "stream",
     "text": [
      "C:\\Users\\Lenovo\\AppData\\Local\\Temp\\ipykernel_18472\\1010175222.py:1: RuntimeWarning: invalid value encountered in sqrt\n",
      "  result = np.sqrt(-1) == np.emath.sqrt(-1)\n"
     ]
    }
   ],
   "source": [
    "result = np.sqrt(-1) == np.emath.sqrt(-1)\n",
    "print(result) # no,False"
   ]
  },
  {
   "cell_type": "markdown",
   "id": "27be8adf",
   "metadata": {},
   "source": [
    "#### 33. How to get the dates of yesterday, today and tomorrow? (★☆☆)"
   ]
  },
  {
   "cell_type": "code",
   "execution_count": 40,
   "id": "071ea376",
   "metadata": {},
   "outputs": [
    {
     "name": "stdout",
     "output_type": "stream",
     "text": [
      "Yesterday: 2023-09-04\n",
      "Today: 2023-09-05\n",
      "Tomorrow: 2023-09-06\n"
     ]
    }
   ],
   "source": [
    "today = np.datetime64('today')\n",
    "yesterday = today - np.timedelta64(1, 'D')\n",
    "tomorrow = today + np.timedelta64(1, 'D')\n",
    "print(\"Yesterday:\", yesterday)\n",
    "print(\"Today:\", today)\n",
    "print(\"Tomorrow:\", tomorrow)"
   ]
  },
  {
   "cell_type": "markdown",
   "id": "99841d90",
   "metadata": {},
   "source": [
    "#### 34. How to get all the dates corresponding to the month of July 2016? (★★☆)"
   ]
  },
  {
   "cell_type": "code",
   "execution_count": 41,
   "id": "6857c589",
   "metadata": {},
   "outputs": [
    {
     "name": "stdout",
     "output_type": "stream",
     "text": [
      "['2016-07-01' '2016-07-02' '2016-07-03' '2016-07-04' '2016-07-05'\n",
      " '2016-07-06' '2016-07-07' '2016-07-08' '2016-07-09' '2016-07-10'\n",
      " '2016-07-11' '2016-07-12' '2016-07-13' '2016-07-14' '2016-07-15'\n",
      " '2016-07-16' '2016-07-17' '2016-07-18' '2016-07-19' '2016-07-20'\n",
      " '2016-07-21' '2016-07-22' '2016-07-23' '2016-07-24' '2016-07-25'\n",
      " '2016-07-26' '2016-07-27' '2016-07-28' '2016-07-29' '2016-07-30'\n",
      " '2016-07-31']\n"
     ]
    }
   ],
   "source": [
    "dates = np.arange('2016-07', '2016-08', dtype='datetime64[D]')\n",
    "print(dates)"
   ]
  },
  {
   "cell_type": "markdown",
   "id": "20413c1c",
   "metadata": {},
   "source": [
    "#### 35. How to compute ((A+B)*(-A/2)) in place (without copy)? (★★☆)"
   ]
  },
  {
   "cell_type": "code",
   "execution_count": 42,
   "id": "77cb1cda",
   "metadata": {},
   "outputs": [
    {
     "name": "stdout",
     "output_type": "stream",
     "text": [
      "[-3. -3. -3.]\n"
     ]
    }
   ],
   "source": [
    "A = np.ones(3) * 1\n",
    "B = np.ones(3) * 2\n",
    "result = np.add(A, B, out=B)\n",
    "result = np.negative(A, out=A)\n",
    "result = np.multiply(A, B, out=A)\n",
    "print(result)"
   ]
  },
  {
   "cell_type": "markdown",
   "id": "5f844011",
   "metadata": {},
   "source": [
    "#### 36. Extract the integer part of a random array of positive numbers using 4 different methods (★★☆)"
   ]
  },
  {
   "cell_type": "code",
   "execution_count": 43,
   "id": "c043ce08",
   "metadata": {},
   "outputs": [
    {
     "name": "stdout",
     "output_type": "stream",
     "text": [
      "Method 1: [3 6 4 0 6 2 2 9 9 4]\n",
      "Method 2: [3. 6. 4. 0. 6. 2. 2. 9. 9. 4.]\n",
      "Method 3: [ 4.  7.  5.  1.  7.  3.  3. 10. 10.  5.]\n",
      "Method 4: [3. 6. 4. 0. 6. 2. 2. 9. 9. 4.]\n"
     ]
    }
   ],
   "source": [
    "random_array = np.random.uniform(0, 10, 10)\n",
    "integer_part_method1 = random_array.astype(int)\n",
    "integer_part_method2 = np.floor(random_array)\n",
    "integer_part_method3 = np.ceil(random_array)\n",
    "integer_part_method4 = np.trunc(random_array)\n",
    "print(\"Method 1:\", integer_part_method1)\n",
    "print(\"Method 2:\", integer_part_method2)\n",
    "print(\"Method 3:\", integer_part_method3)\n",
    "print(\"Method 4:\", integer_part_method4)"
   ]
  },
  {
   "cell_type": "markdown",
   "id": "907e2f57",
   "metadata": {},
   "source": [
    "#### 37. Create a 5x5 matrix with row values ranging from 0 to 4 (★★☆)"
   ]
  },
  {
   "cell_type": "code",
   "execution_count": 44,
   "id": "431bb01f",
   "metadata": {},
   "outputs": [
    {
     "name": "stdout",
     "output_type": "stream",
     "text": [
      "[[0. 1. 2. 3. 4.]\n",
      " [0. 1. 2. 3. 4.]\n",
      " [0. 1. 2. 3. 4.]\n",
      " [0. 1. 2. 3. 4.]\n",
      " [0. 1. 2. 3. 4.]]\n"
     ]
    }
   ],
   "source": [
    "matrix = np.zeros((5, 5)) + np.arange(5)\n",
    "print(matrix)"
   ]
  },
  {
   "cell_type": "markdown",
   "id": "d6181363",
   "metadata": {},
   "source": [
    "#### 38. Consider a generator function that generates 10 integers and use it to build an array (★☆☆)"
   ]
  },
  {
   "cell_type": "code",
   "execution_count": 45,
   "id": "bc5f7236",
   "metadata": {},
   "outputs": [
    {
     "name": "stdout",
     "output_type": "stream",
     "text": [
      "[0 1 2 3 4 5 6 7 8 9]\n"
     ]
    }
   ],
   "source": [
    "def generator_function():\n",
    "    for i in range(10):\n",
    "        yield i\n",
    "\n",
    "array = np.fromiter(generator_function(), dtype=int)\n",
    "print(array)"
   ]
  },
  {
   "cell_type": "markdown",
   "id": "e5f4ea79",
   "metadata": {},
   "source": [
    "#### 39. Create a vector of size 10 with values ranging from 0 to 1, both excluded (★★☆)"
   ]
  },
  {
   "cell_type": "code",
   "execution_count": 46,
   "id": "861184df",
   "metadata": {},
   "outputs": [
    {
     "name": "stdout",
     "output_type": "stream",
     "text": [
      "[0.08333333 0.16666667 0.25       0.33333333 0.41666667 0.5\n",
      " 0.58333333 0.66666667 0.75       0.83333333]\n"
     ]
    }
   ],
   "source": [
    "vector = np.linspace(0, 1, 12, endpoint=False)[1:-1]\n",
    "print(vector)"
   ]
  },
  {
   "cell_type": "markdown",
   "id": "a230c636",
   "metadata": {},
   "source": [
    "#### 40. Create a random vector of size 10 and sort it (★★☆)"
   ]
  },
  {
   "cell_type": "code",
   "execution_count": 47,
   "id": "0efd2c6b",
   "metadata": {},
   "outputs": [
    {
     "name": "stdout",
     "output_type": "stream",
     "text": [
      "[0.13930066 0.14776109 0.31058965 0.35545918 0.64527315 0.6743905\n",
      " 0.74776212 0.77761907 0.81528901 0.83496385]\n"
     ]
    }
   ],
   "source": [
    "random_vector = np.random.random(10)\n",
    "sorted_vector = np.sort(random_vector)\n",
    "print(sorted_vector)"
   ]
  },
  {
   "cell_type": "markdown",
   "id": "fd3b44c3",
   "metadata": {},
   "source": [
    "#### 41. How to sum a small array faster than np.sum? (★★☆)"
   ]
  },
  {
   "cell_type": "code",
   "execution_count": 48,
   "id": "40bc2bac",
   "metadata": {},
   "outputs": [
    {
     "name": "stdout",
     "output_type": "stream",
     "text": [
      "45\n"
     ]
    }
   ],
   "source": [
    "small_array = np.arange(10)\n",
    "sum_result = np.add.reduce(small_array)\n",
    "print(sum_result)\n"
   ]
  },
  {
   "cell_type": "markdown",
   "id": "0c6b20ef",
   "metadata": {},
   "source": [
    "#### 42. Consider two random array A and B, check if they are equal (★★☆)"
   ]
  },
  {
   "cell_type": "code",
   "execution_count": 49,
   "id": "db2990cb",
   "metadata": {},
   "outputs": [
    {
     "name": "stdout",
     "output_type": "stream",
     "text": [
      "False\n"
     ]
    }
   ],
   "source": [
    "A = np.random.random(5)\n",
    "B = np.random.random(5)\n",
    "equal = np.array_equal(A, B)\n",
    "print(equal)"
   ]
  },
  {
   "cell_type": "markdown",
   "id": "779b0f00",
   "metadata": {},
   "source": [
    "#### 43. Make an array immutable (read-only) (★★☆)"
   ]
  },
  {
   "cell_type": "code",
   "execution_count": 135,
   "id": "d76e7758",
   "metadata": {},
   "outputs": [],
   "source": [
    "immutable_array = np.arange(10)\n",
    "immutable_array.flags.writeable = False\n",
    "# Attempting to modify the array will raise an error\n",
    "# immutable_array[0] = 1"
   ]
  },
  {
   "cell_type": "markdown",
   "id": "eb91b8eb",
   "metadata": {},
   "source": [
    "#### 44. Consider a random 10x2 matrix representing cartesian coordinates, convert them to polar coordinates (★★☆)"
   ]
  },
  {
   "cell_type": "code",
   "execution_count": 51,
   "id": "59afd9b3",
   "metadata": {},
   "outputs": [
    {
     "name": "stdout",
     "output_type": "stream",
     "text": [
      "Polar Coordinates (r, theta):\n",
      "r = [1.28597012 1.26500865 0.89940937 1.0182372  0.34778733 0.90668895\n",
      " 0.77145122 0.96083757 0.40784519 0.59654301]\n",
      "theta = [0.79907509 0.86043997 0.87934606 0.7568156  0.03946823 1.37188039\n",
      " 1.31242546 0.88653071 0.18960641 0.77793839]\n"
     ]
    }
   ],
   "source": [
    "cartesian_coordinates = np.random.random((10, 2))\n",
    "x, y = cartesian_coordinates[:, 0], cartesian_coordinates[:, 1]\n",
    "r = np.sqrt(x**2 + y**2)\n",
    "theta = np.arctan2(y, x)\n",
    "print(\"Polar Coordinates (r, theta):\")\n",
    "print(\"r =\", r)\n",
    "print(\"theta =\", theta)"
   ]
  },
  {
   "cell_type": "markdown",
   "id": "010861a8",
   "metadata": {},
   "source": [
    "#### 45. Create random vector of size 10 and replace the maximum value by 0 (★★☆)"
   ]
  },
  {
   "cell_type": "code",
   "execution_count": 52,
   "id": "9f70d43c",
   "metadata": {},
   "outputs": [
    {
     "name": "stdout",
     "output_type": "stream",
     "text": [
      "[0.54379988 0.01196068 0.71289694 0.         0.40594046 0.83813772\n",
      " 0.04242998 0.23119628 0.08841804 0.37168989]\n"
     ]
    }
   ],
   "source": [
    "random_vector = np.random.random(10)\n",
    "random_vector[random_vector.argmax()] = 0\n",
    "print(random_vector)"
   ]
  },
  {
   "cell_type": "markdown",
   "id": "fbe7960d",
   "metadata": {},
   "source": [
    "#### 46. Create a structured array with `x` and `y` coordinates covering the [0,1]x[0,1] area (★★☆)"
   ]
  },
  {
   "cell_type": "code",
   "execution_count": 53,
   "id": "2efff5f6",
   "metadata": {},
   "outputs": [
    {
     "name": "stdout",
     "output_type": "stream",
     "text": [
      "[[(0.  , 0.  ) (0.25, 0.  ) (0.5 , 0.  ) (0.75, 0.  ) (1.  , 0.  )]\n",
      " [(0.  , 0.25) (0.25, 0.25) (0.5 , 0.25) (0.75, 0.25) (1.  , 0.25)]\n",
      " [(0.  , 0.5 ) (0.25, 0.5 ) (0.5 , 0.5 ) (0.75, 0.5 ) (1.  , 0.5 )]\n",
      " [(0.  , 0.75) (0.25, 0.75) (0.5 , 0.75) (0.75, 0.75) (1.  , 0.75)]\n",
      " [(0.  , 1.  ) (0.25, 1.  ) (0.5 , 1.  ) (0.75, 1.  ) (1.  , 1.  )]]\n"
     ]
    }
   ],
   "source": [
    "x = np.linspace(0, 1, 5)\n",
    "y = np.linspace(0, 1, 5)\n",
    "xx, yy = np.meshgrid(x, y)\n",
    "structured_array = np.zeros((5, 5), [('x', float), ('y', float)])\n",
    "structured_array['x'], structured_array['y'] = xx, yy\n",
    "print(structured_array)"
   ]
  },
  {
   "cell_type": "markdown",
   "id": "fe25f337",
   "metadata": {},
   "source": [
    "#### 47. Given two arrays, X and Y, construct the Cauchy matrix C (Cij =1/(xi - yj)) (★★☆)"
   ]
  },
  {
   "cell_type": "code",
   "execution_count": 54,
   "id": "6ef52af1",
   "metadata": {},
   "outputs": [
    {
     "name": "stdout",
     "output_type": "stream",
     "text": [
      "[[-2.         -0.66666667 -0.4        -0.28571429 -0.22222222 -0.18181818\n",
      "  -0.15384615 -0.13333333]\n",
      " [ 2.         -2.         -0.66666667 -0.4        -0.28571429 -0.22222222\n",
      "  -0.18181818 -0.15384615]\n",
      " [ 0.66666667  2.         -2.         -0.66666667 -0.4        -0.28571429\n",
      "  -0.22222222 -0.18181818]\n",
      " [ 0.4         0.66666667  2.         -2.         -0.66666667 -0.4\n",
      "  -0.28571429 -0.22222222]\n",
      " [ 0.28571429  0.4         0.66666667  2.         -2.         -0.66666667\n",
      "  -0.4        -0.28571429]\n",
      " [ 0.22222222  0.28571429  0.4         0.66666667  2.         -2.\n",
      "  -0.66666667 -0.4       ]\n",
      " [ 0.18181818  0.22222222  0.28571429  0.4         0.66666667  2.\n",
      "  -2.         -0.66666667]\n",
      " [ 0.15384615  0.18181818  0.22222222  0.28571429  0.4         0.66666667\n",
      "   2.         -2.        ]]\n"
     ]
    }
   ],
   "source": [
    "X = np.arange(8)\n",
    "Y = X + 0.5\n",
    "C = 1.0 / np.subtract.outer(X, Y)\n",
    "print(C)"
   ]
  },
  {
   "cell_type": "markdown",
   "id": "ef2c175c",
   "metadata": {},
   "source": [
    "#### 48. Print the minimum and maximum representable value for each numpy scalar type (★★☆)"
   ]
  },
  {
   "cell_type": "code",
   "execution_count": 55,
   "id": "e78227da",
   "metadata": {},
   "outputs": [
    {
     "name": "stdout",
     "output_type": "stream",
     "text": [
      "Minimum for <class 'numpy.int8'>: -128\n",
      "Maximum for <class 'numpy.int8'>: 127\n",
      "Minimum for <class 'numpy.int32'>: -2147483648\n",
      "Maximum for <class 'numpy.int32'>: 2147483647\n",
      "Minimum for <class 'numpy.int64'>: -9223372036854775808\n",
      "Maximum for <class 'numpy.int64'>: 9223372036854775807\n",
      "Minimum for <class 'numpy.float32'>: -3.4028234663852886e+38\n",
      "Maximum for <class 'numpy.float32'>: 3.4028234663852886e+38\n",
      "Minimum for <class 'numpy.float64'>: -1.7976931348623157e+308\n",
      "Maximum for <class 'numpy.float64'>: 1.7976931348623157e+308\n"
     ]
    }
   ],
   "source": [
    "for dtype in [np.int8, np.int32, np.int64]:\n",
    "    print(\"Minimum for {}: {}\".format(dtype, np.iinfo(dtype).min))\n",
    "    print(\"Maximum for {}: {}\".format(dtype, np.iinfo(dtype).max))\n",
    "for dtype in [np.float32, np.float64]:\n",
    "    print(\"Minimum for {}: {}\".format(dtype, np.finfo(dtype).min))\n",
    "    print(\"Maximum for {}: {}\".format(dtype, np.finfo(dtype).max))"
   ]
  },
  {
   "cell_type": "markdown",
   "id": "d6e10d06",
   "metadata": {},
   "source": [
    "#### 49. How to print all the values of an array? (★★☆)"
   ]
  },
  {
   "cell_type": "code",
   "execution_count": 56,
   "id": "f3b71a1c",
   "metadata": {},
   "outputs": [
    {
     "name": "stdout",
     "output_type": "stream",
     "text": [
      "[ 0  1  2  3  4  5  6  7  8  9 10 11 12 13 14 15 16 17 18 19 20 21 22 23\n",
      " 24 25 26 27 28 29 30 31 32 33 34 35 36 37 38 39 40 41 42 43 44 45 46 47\n",
      " 48 49 50 51 52 53 54 55 56 57 58 59 60 61 62 63 64 65 66 67 68 69 70 71\n",
      " 72 73 74 75 76 77 78 79 80 81 82 83 84 85 86 87 88 89 90 91 92 93 94 95\n",
      " 96 97 98 99]\n"
     ]
    }
   ],
   "source": [
    "np.set_printoptions(threshold=np.inf)  # Print all values\n",
    "array = np.arange(100)\n",
    "print(array)"
   ]
  },
  {
   "cell_type": "markdown",
   "id": "c57f3609",
   "metadata": {},
   "source": [
    "#### 50. How to find the closest value (to a given scalar) in a vector? (★★☆)"
   ]
  },
  {
   "cell_type": "code",
   "execution_count": 57,
   "id": "deae4366",
   "metadata": {},
   "outputs": [
    {
     "name": "stdout",
     "output_type": "stream",
     "text": [
      "Closest value to 42 is 42\n"
     ]
    }
   ],
   "source": [
    "vector = np.arange(100)\n",
    "scalar = 42\n",
    "closest_value = vector[(np.abs(vector - scalar)).argmin()]\n",
    "print(\"Closest value to {} is {}\".format(scalar, closest_value))"
   ]
  },
  {
   "cell_type": "markdown",
   "id": "4ddec916",
   "metadata": {},
   "source": [
    "#### 51. Create a structured array representing a position (x,y) and a color (r,g,b) (★★☆)"
   ]
  },
  {
   "cell_type": "code",
   "execution_count": 58,
   "id": "19276913",
   "metadata": {},
   "outputs": [
    {
     "name": "stdout",
     "output_type": "stream",
     "text": [
      "[((0., 0.), (0, 0, 0))]\n"
     ]
    }
   ],
   "source": [
    "dtype = [('position', [('x', float), ('y', float)]), ('color', [('r', int), ('g', int), ('b', int)])]\n",
    "structured_array = np.zeros(1, dtype=dtype)\n",
    "print(structured_array)"
   ]
  },
  {
   "cell_type": "markdown",
   "id": "6518b79e",
   "metadata": {},
   "source": [
    "#### 52. Consider a random vector with shape (100,2) representing coordinates, find point by point distances (★★☆)"
   ]
  },
  {
   "cell_type": "code",
   "execution_count": 59,
   "id": "4c541298",
   "metadata": {},
   "outputs": [
    {
     "name": "stdout",
     "output_type": "stream",
     "text": [
      "[[0.         0.64311768 0.40514796 0.49093209 0.62804423 0.11434178\n",
      "  0.36305472 0.69357802 0.66488413 0.40694541 0.90986162 0.18819446\n",
      "  0.65401671 0.70716167 0.17342392 0.21757022 0.63401644 0.53600143\n",
      "  0.23417067 0.57528359 0.50075442 0.03646626 0.21051254 0.85526225\n",
      "  0.67509014 0.30537145 0.34646445 0.74588616 0.22145885 0.80460892\n",
      "  0.21452638 0.49592358 0.51896319 0.65909338 0.80544563 0.26651678\n",
      "  0.34460143 0.05061028 0.63232563 0.43576755 0.58303547 0.63993536\n",
      "  0.14149543 0.6045007  0.32572828 0.80443043 0.38621425 0.47977578\n",
      "  0.40457204 0.39440739 0.20861593 0.72800544 0.27844969 0.50509281\n",
      "  0.33656686 0.65498998 0.06389015 0.91893265 0.95147557 0.30120142\n",
      "  1.03251081 0.25763735 0.77785986 0.24078062 0.90825074 0.29739347\n",
      "  0.8401129  0.2103868  0.3496768  0.46633906 0.15781304 0.47635291\n",
      "  0.57937975 0.40485392 0.06920953 0.81451546 0.32577111 0.05073315\n",
      "  0.46588637 0.62856767 0.30474062 0.22828543 0.14584719 0.57662158\n",
      "  0.80075175 0.23623099 0.57544773 0.54106237 0.67846031 0.36261097\n",
      "  0.58315357 0.2610897  0.74903788 0.54054802 0.81257603 0.74007105\n",
      "  0.70048699 0.26813241 0.19374675 0.60059292]\n",
      " [0.64311768 0.         0.75917903 0.33665951 0.39045735 0.73650094\n",
      "  0.89124412 0.9684545  0.06950987 0.52824627 0.69342672 0.51796093\n",
      "  0.06860422 0.38806032 0.47577897 0.78280345 0.84855015 0.87948336\n",
      "  0.42317248 0.10321107 0.44939072 0.64428524 0.78238222 0.77825498\n",
      "  1.09653134 0.47619926 0.5847151  0.30257451 0.59242572 0.75366941\n",
      "  0.72070155 0.7828068  0.79139865 0.36281223 0.53568848 0.6461242\n",
      "  0.44288541 0.69372183 0.96778317 0.30909401 0.95252175 0.99574335\n",
      "  0.56525794 0.89664515 0.40609975 0.60779825 0.68016545 0.98061476\n",
      "  0.25680281 0.3439309  0.8392462  0.52919689 0.36572601 0.13818529\n",
      "  0.81016459 0.96688993 0.67879415 0.7564169  0.85099059 0.73389728\n",
      "  0.90095855 0.75205719 0.14438288 0.76841134 0.72160847 0.37324295\n",
      "  0.69953748 0.81556538 0.36098779 0.1910192  0.53088302 0.97682444\n",
      "  0.57554446 0.29575357 0.6991686  0.64866673 0.38720996 0.66023356\n",
      "  0.54619001 0.20873415 0.65602953 0.4624867  0.50292312 1.07334689\n",
      "  0.42427855 0.40780852 0.75784684 0.69675692 0.31614992 0.38099528\n",
      "  0.56011056 0.54816678 0.28229449 0.2567636  0.76825122 0.85526679\n",
      "  0.0695613  0.44773126 0.83233072 1.0642472 ]\n",
      " [0.40514796 0.75917903 0.         0.44652019 0.5100408  0.4843168\n",
      "  0.21786637 0.28970272 0.741933   0.24311361 0.65605045 0.54836107\n",
      "  0.80358295 0.59253712 0.40267234 0.59985357 0.23613478 0.1402168\n",
      "  0.52073571 0.74387732 0.36285376 0.36868251 0.26174171 0.53918714\n",
      "  0.33950592 0.28887879 0.17446656 0.68990499 0.61488316 0.48730038\n",
      "  0.20141391 0.09614485 0.11989644 0.55836367 0.61542426 0.15261298\n",
      "  0.68138808 0.40924165 0.24026693 0.70883761 0.2047983  0.25763729\n",
      "  0.30765809 0.20009381 0.35952824 0.57017057 0.08133338 0.248251\n",
      "  0.51585958 0.41527624 0.52326946 0.5261124  0.50585684 0.65034618\n",
      "  0.13194055 0.25645774 0.35243879 0.63325297 0.62819611 0.10872399\n",
      "  0.71132596 0.17026866 0.84931426 0.20533791 0.638136   0.41890407\n",
      "  0.56197834 0.31490862 0.63893044 0.57514257 0.32783946 0.24498547\n",
      "  0.33237542 0.66196742 0.36710854 0.55858254 0.62752171 0.35716678\n",
      "  0.25788157 0.62721684 0.12104551 0.5576449  0.4624986  0.32604179\n",
      "  0.67926102 0.45386104 0.20308395 0.20191613 0.60760326 0.37918415\n",
      "  0.34751002 0.23220716 0.70638097 0.53283838 0.48982767 0.35990148\n",
      "  0.78743881 0.33651401 0.40459196 0.30711418]\n",
      " [0.49093209 0.33665951 0.44652019 0.         0.14464273 0.60456492\n",
      "  0.61673649 0.63250518 0.30404668 0.20403226 0.47063818 0.47061019\n",
      "  0.39471252 0.21717945 0.33031107 0.69290933 0.51194135 0.55342856\n",
      "  0.37333352 0.35898255 0.11370768 0.47330539 0.5465666  0.49256458\n",
      "  0.77422071 0.20672746 0.27827356 0.26629912 0.5656872  0.45617505\n",
      "  0.46931591 0.45416441 0.46023744 0.16867685 0.33508072 0.36870907\n",
      "  0.50331312 0.53533129 0.63670115 0.43781311 0.62690175 0.6663083\n",
      "  0.36142915 0.56324556 0.16539393 0.3648547  0.36519343 0.6864454\n",
      "  0.17925166 0.10065308 0.69808035 0.27762259 0.30650223 0.27209847\n",
      "  0.52595103 0.63339274 0.49575491 0.50815307 0.58023276 0.44995579\n",
      "  0.64711781 0.48739773 0.40537934 0.51415141 0.48362838 0.21063446\n",
      "  0.43521061 0.59373667 0.41755739 0.19577629 0.33565465 0.68283439\n",
      "  0.24621747 0.39181762 0.52010113 0.39239609 0.4273559  0.48171408\n",
      "  0.21112384 0.18100904 0.36458983 0.43326479 0.4015016  0.77145574\n",
      "  0.30996302 0.30015899 0.42128664 0.36025289 0.19078151 0.12832134\n",
      "  0.23318863 0.2818263  0.27607252 0.08710326 0.46963979 0.52457507\n",
      "  0.34985419 0.22375672 0.64242157 0.75308115]\n",
      " [0.62804423 0.39045735 0.5100408  0.14464273 0.         0.74230585\n",
      "  0.70574288 0.63351995 0.33614673 0.27835882 0.33465268 0.61522211\n",
      "  0.45736281 0.08547431 0.47283111 0.83441255 0.50852154 0.58998455\n",
      "  0.51735279 0.44456342 0.15130857 0.6075723  0.65876777 0.38907321\n",
      "  0.81028586 0.32953513 0.36466616 0.18573641 0.71027791 0.36321634\n",
      "  0.57805187 0.4902485  0.48928348 0.04944145 0.19140745 0.46951038\n",
      "  0.64151776 0.6702133  0.6581603  0.56299074 0.66138775 0.69115097\n",
      "  0.49308107 0.57984243 0.30366193 0.23324796 0.43198739 0.75808015\n",
      "  0.31266079 0.24492765 0.83271692 0.14685062 0.44961827 0.37288071\n",
      "  0.61207979 0.64711988 0.62668412 0.38216715 0.46702519 0.54050502\n",
      "  0.5255463  0.58822182 0.40848489 0.61924011 0.35295598 0.35513365\n",
      "  0.31620781 0.70973478 0.55339022 0.30911953 0.47067746 0.75474377\n",
      "  0.21635215 0.52008544 0.65115889 0.26795531 0.56561782 0.61413634\n",
      "  0.25217261 0.18468382 0.45563648 0.57718474 0.54552547 0.83338408\n",
      "  0.17930056 0.44480122 0.42372926 0.36820744 0.10646496 0.26840869\n",
      "  0.19800719 0.39703563 0.2065659  0.15597388 0.37780972 0.48262546\n",
      "  0.37704857 0.36006983 0.76727218 0.8053738 ]\n",
      " [0.11434178 0.73650094 0.4843168  0.60456492 0.74230585 0.\n",
      "  0.39163854 0.76536985 0.76398182 0.51740696 1.02220473 0.23690509\n",
      "  0.74045203 0.82111158 0.28121287 0.11568196 0.71919246 0.60448293\n",
      "  0.31501457 0.66058394 0.61458052 0.1397261  0.2453938  0.96185979\n",
      "  0.71425478 0.41918979 0.45173102 0.85711914 0.22137878 0.91063157\n",
      "  0.28332027 0.57907053 0.60270976 0.77294311 0.9196049  0.36106616\n",
      "  0.38366214 0.08007207 0.69558544 0.49806246 0.6418569  0.69813016\n",
      "  0.25418889 0.67840178 0.43961373 0.91725196 0.4791752  0.50674774\n",
      "  0.50882406 0.50717587 0.10274769 0.8416533  0.37153929 0.59855631\n",
      "  0.39183185 0.72181023 0.13712067 1.02910609 1.05778334 0.37592403\n",
      "  1.13952091 0.32027845 0.87511019 0.29287402 1.01956953 0.4069334\n",
      "  0.95042552 0.21773063 0.41325325 0.56782643 0.2721351  0.5037959\n",
      "  0.68913805 0.47564518 0.11821177 0.92623252 0.38644642 0.14038335\n",
      "  0.57559987 0.73748888 0.39844392 0.28959869 0.23408038 0.59734609\n",
      "  0.91450329 0.3370998  0.66861944 0.63961506 0.79113987 0.47628211\n",
      "  0.69378041 0.37096146 0.85935706 0.65164202 0.91795823 0.8332139\n",
      "  0.79712847 0.38229588 0.15323472 0.63142506]\n",
      " [0.36305472 0.89124412 0.21786637 0.61673649 0.70574288 0.39163854\n",
      "  0.         0.41741701 0.88809634 0.42768326 0.87389912 0.54637205\n",
      "  0.9236871  0.79061158 0.45081211 0.49571616 0.41916612 0.26418591\n",
      "  0.56004469 0.85363897 0.55456524 0.33269057 0.15302073 0.75342214\n",
      "  0.32297394 0.42167696 0.34263673 0.87646526 0.58276928 0.70207311\n",
      "  0.17656119 0.29658055 0.31699086 0.75183118 0.8280645  0.24996349\n",
      "  0.6997753  0.33954014 0.33254483 0.76662991 0.27365255 0.32530039\n",
      "  0.34415359 0.34428285 0.48808014 0.78689635 0.28052946 0.11705399\n",
      "  0.63498875 0.55853935 0.38830145 0.73883773 0.57280972 0.76552293\n",
      "  0.09388909 0.36479756 0.29916874 0.8502008  0.83974961 0.16701609\n",
      "  0.9222864  0.13969754 1.00104715 0.13197813 0.85584904 0.52096012\n",
      "  0.77964975 0.17495399 0.68483107 0.70029568 0.37710554 0.11376332\n",
      "  0.5464461  0.72616065 0.29900929 0.77630756 0.66582764 0.31422193\n",
      "  0.45900131 0.79521768 0.25280922 0.57604328 0.47922717 0.21370964\n",
      "  0.88123295 0.51828472 0.41253985 0.41928312 0.7952639  0.51866437\n",
      "  0.5604356  0.34568648 0.88982079 0.69758582 0.70362047 0.55447941\n",
      "  0.93162412 0.44354156 0.25985895 0.24044563]\n",
      " [0.69357802 0.9684545  0.28970272 0.63250518 0.63351995 0.76536985\n",
      "  0.41741701 0.         0.93527021 0.44770105 0.62497339 0.83628604\n",
      "  1.02325127 0.69843812 0.68430129 0.8795808  0.12500774 0.16136095\n",
      "  0.80067524 0.97575782 0.52250005 0.65715039 0.52683464 0.45603316\n",
      "  0.23571081 0.54066911 0.42164916 0.81715683 0.90454729 0.41715902\n",
      "  0.48350345 0.2101648  0.19206166 0.68162281 0.65591864 0.43986641\n",
      "  0.96359523 0.69378813 0.09191048 0.97608278 0.1493128  0.11776474\n",
      "  0.59523828 0.08970865 0.60469301 0.57880019 0.33365122 0.35329103\n",
      "  0.75326981 0.64007896 0.7899592  0.57795477 0.77627411 0.88221917\n",
      "  0.37760442 0.05649608 0.63835457 0.56959022 0.5150594  0.39280443\n",
      "  0.58787576 0.44509145 1.02922278 0.47408736 0.59217041 0.67650449\n",
      "  0.52355823 0.5719158  0.91322908 0.80275333 0.61246996 0.35300498\n",
      "  0.41717747 0.92754296 0.6507943  0.54691977 0.90485985 0.64466409\n",
      "  0.42230356 0.79673381 0.40460213 0.84202131 0.74904734 0.35172678\n",
      "  0.7631427  0.7278091  0.21265635 0.2728602  0.73997672 0.61233102\n",
      "  0.43557559 0.50416728 0.83943521 0.71674237 0.41058997 0.21382337\n",
      "  0.98076694 0.59891278 0.66355256 0.29294493]\n",
      " [0.66488413 0.06950987 0.741933   0.30404668 0.33614673 0.76398182\n",
      "  0.88809634 0.93527021 0.         0.50422134 0.6283831  0.55531435\n",
      "  0.13569784 0.32504983 0.49333489 0.81859256 0.81323975 0.85590448\n",
      "  0.45606097 0.16731468 0.412883   0.66233669 0.78854274 0.72027792\n",
      "  1.0755368  0.46747078 0.56828802 0.23389222 0.63526522 0.69824747\n",
      "  0.72215725 0.75737051 0.76409201 0.30394092 0.47080459 0.63952149\n",
      "  0.49509381 0.71532527 0.94063538 0.36632212 0.92933004 0.96995062\n",
      "  0.57441034 0.86726637 0.40002554 0.54578946 0.66145009 0.97160712\n",
      "  0.26407823 0.33111364 0.86645545 0.46977487 0.3930195  0.17260453\n",
      "  0.80341723 0.93738755 0.69510326 0.69332383 0.79004361 0.72651984\n",
      "  0.83753269 0.75042502 0.1147105  0.76974981 0.65772585 0.38047048\n",
      "  0.63899087 0.82547455 0.40922047 0.19930619 0.54071892 0.96786298\n",
      "  0.5324185  0.34684133 0.71669214 0.58767448 0.43402065 0.67709632\n",
      "  0.51509246 0.15148651 0.64543841 0.5009082  0.53006356 1.06181326\n",
      "  0.35611311 0.42882546 0.72308612 0.66244831 0.25353857 0.37038498\n",
      "  0.51604105 0.54250369 0.2130782  0.21854501 0.71293902 0.81061479\n",
      "  0.04586733 0.44782749 0.84958658 1.04880637]\n",
      " [0.40694541 0.52824627 0.24311361 0.20403226 0.27835882 0.51740696\n",
      "  0.42768326 0.44770105 0.50422134 0.         0.5063494  0.46788276\n",
      "  0.57899981 0.3635683  0.30121926 0.62441761 0.33627508 0.35190906\n",
      "  0.39847761 0.52839939 0.12705036 0.37773373 0.38794239 0.45204527\n",
      "  0.57139292 0.12031389 0.08677695 0.45079767 0.55674607 0.40299298\n",
      "  0.3060712  0.25456119 0.26382242 0.32414851 0.42049968 0.19494929\n",
      "  0.55865023 0.43855397 0.43974966 0.54222559 0.42525297 0.46750095\n",
      "  0.26593526 0.37043696 0.16566733 0.4034577  0.16186355 0.48672634\n",
      "  0.30604972 0.19239481 0.59406809 0.33514008 0.35446978 0.43466309\n",
      "  0.33426047 0.44044773 0.3860581  0.51201276 0.54830459 0.26214927\n",
      "  0.62791225 0.31159914 0.60875633 0.34419551 0.50226152 0.24388066\n",
      "  0.43322213 0.44148018 0.49144069 0.35541851 0.25836858 0.48321688\n",
      "  0.17259184 0.49296337 0.40956667 0.40934915 0.48958482 0.37828002\n",
      "  0.05977507 0.38426303 0.17757695 0.45235463 0.38019898 0.56890554\n",
      "  0.45558681 0.31679493 0.24804298 0.18997962 0.36889986 0.16604475\n",
      "  0.17638178 0.14645182 0.46582487 0.2908933  0.41241024 0.38865809\n",
      "  0.55004399 0.18280854 0.50914554 0.54914333]\n",
      " [0.90986162 0.69342672 0.65605045 0.47063818 0.33465268 1.02220473\n",
      "  0.87389912 0.62497339 0.6283831  0.5063494  0.         0.93285542\n",
      "  0.76199827 0.30665161 0.77716555 1.12585758 0.52075055 0.66688452\n",
      "  0.84054526 0.76519431 0.41392462 0.88255622 0.8801406  0.18023542\n",
      "  0.85298278 0.6062024  0.58227545 0.40211227 1.02759934 0.20868382\n",
      "  0.79950458 0.58888827 0.57444399 0.34079913 0.15773859 0.68969869\n",
      "  0.97366604 0.94413419 0.6903095  0.89746551 0.72109025 0.72518605\n",
      "  0.76844079 0.61695088 0.60672871 0.10744193 0.60147411 0.88403087\n",
      "  0.64614244 0.56463314 1.10039317 0.19316889 0.7759234  0.70270805\n",
      "  0.78487882 0.66430813 0.89235436 0.08132714 0.19041231 0.73155384\n",
      "  0.21344314 0.79292744 0.66073883 0.82924536 0.04167705 0.67245641\n",
      "  0.10190796 0.93576953 0.88672525 0.64308554 0.75493319 0.88163127\n",
      "  0.34032187 0.85473681 0.91591335 0.09890562 0.89767354 0.88413222\n",
      "  0.45074741 0.48842513 0.661298   0.90043523 0.85496938 0.93073207\n",
      "  0.28310741 0.76288941 0.47732954 0.45596954 0.37820539 0.57756009\n",
      "  0.33195322 0.65220746 0.42712742 0.48912548 0.21723165 0.41352647\n",
      "  0.65934821 0.6548955  1.01095928 0.88440221]\n",
      " [0.18819446 0.51796093 0.54836107 0.47061019 0.61522211 0.23690509\n",
      "  0.54637205 0.83628604 0.55531435 0.46788276 0.93285542 0.\n",
      "  0.51310964 0.6820029  0.16676811 0.26489754 0.75774256 0.68704833\n",
      "  0.10370654 0.43317002 0.52194163 0.21427858 0.39591764 0.91415202\n",
      "  0.84854758 0.34796175 0.43802797 0.68916277 0.09513534 0.86731691\n",
      "  0.38332715 0.62847377 0.64949424 0.63367604 0.80529229 0.39650245\n",
      "  0.15647435 0.2280236  0.78655052 0.26115885 0.74284903 0.7991031\n",
      "  0.24105563 0.74670538 0.32768886 0.82544037 0.50736233 0.66182573\n",
      "  0.32585119 0.37112013 0.33561948 0.74097759 0.17404208 0.38356667\n",
      "  0.50734497 0.80473598 0.25006847 0.95780212 1.00945323 0.45689152\n",
      "  1.08581804 0.42757195 0.66086737 0.41837251 0.93964073 0.26123692\n",
      "  0.88002656 0.39853778 0.17671606 0.37198948 0.22630977 0.6582696\n",
      "  0.63234264 0.24075903 0.25727995 0.84524323 0.14963241 0.23326091\n",
      "  0.52623741 0.56052684 0.43186707 0.05581307 0.08966028 0.75989321\n",
      "  0.76897088 0.17074808 0.68522766 0.63904222 0.63647611 0.35530027\n",
      "  0.63057192 0.34497355 0.68583856 0.49066465 0.87771275 0.84423232\n",
      "  0.58297192 0.28780675 0.37096344 0.77951255]\n",
      " [0.65401671 0.06860422 0.80358295 0.39471252 0.45736281 0.74045203\n",
      "  0.9236871  1.02325127 0.13569784 0.57899981 0.76199827 0.51310964\n",
      "  0.         0.45665078 0.49331968 0.77699273 0.9049774  0.9279937\n",
      "  0.42549438 0.08004054 0.50830398 0.658952   0.80723219 0.84578793\n",
      "  1.14252785 0.51663955 0.62969011 0.36958557 0.57968893 0.82039498\n",
      "  0.75020053 0.83298507 0.84282093 0.43090889 0.60426195 0.68301008\n",
      "  0.41930499 0.70428543 1.01853551 0.28063216 1.00051861 1.04547471\n",
      "  0.58939908 0.94911514 0.44569641 0.67626142 0.72610443 1.01758076\n",
      "  0.29068982 0.38980601 0.84274781 0.59724227 0.37593148 0.15818186\n",
      "  0.84604588 1.01925634 0.69484718 0.82497403 0.91923206 0.77075486\n",
      "  0.96953258 0.78400123 0.17715938 0.79767186 0.79020886 0.40272991\n",
      "  0.76773721 0.83671876 0.34525669 0.22855186 0.55486681 1.01376674\n",
      "  0.63722572 0.27809515 0.71382747 0.71696554 0.37276469 0.67592006\n",
      "  0.60129873 0.27692725 0.69600813 0.45732234 0.51004598 1.11205762\n",
      "  0.49176913 0.42338412 0.81419997 0.75305126 0.38473759 0.42448543\n",
      "  0.62231759 0.58526975 0.34850932 0.31877515 0.83492665 0.91704642\n",
      "  0.11966706 0.48160658 0.84624528 1.10608881]\n",
      " [0.70716167 0.38806032 0.59253712 0.21717945 0.08547431 0.82111158\n",
      "  0.79061158 0.69843812 0.32504983 0.3635683  0.30665161 0.6820029\n",
      "  0.45665078 0.         0.54732522 0.91003098 0.57383203 0.66639293\n",
      "  0.58138832 0.45882846 0.2365655  0.68811317 0.74395    0.40030139\n",
      "  0.88496988 0.41251634 0.45000863 0.12346979 0.77647267 0.38494029\n",
      "  0.66336843 0.56763206 0.56495531 0.0486802  0.14963124 0.55497548\n",
      "  0.69392059 0.75054126 0.72969369 0.60263952 0.73663732 0.76341031\n",
      "  0.57445022 0.6507508  0.38149785 0.22086716 0.51546094 0.84077995\n",
      "  0.36640694 0.3171159  0.91328342 0.15028631 0.51186267 0.4005785\n",
      "  0.69686114 0.71630623 0.70853558 0.36847135 0.46551177 0.62570178\n",
      "  0.51292616 0.67369323 0.37520611 0.70469128 0.33359588 0.4257209\n",
      "  0.3151504  0.79464493 0.60380568 0.34888303 0.55065744 0.8374953\n",
      "  0.28452464 0.56333125 0.73299873 0.26349193 0.61885756 0.6954392\n",
      "  0.33491199 0.18177386 0.54097659 0.64051133 0.61714067 0.91414444\n",
      "  0.09472219 0.51332366 0.49294864 0.44062209 0.07191575 0.34500614\n",
      "  0.26602087 0.48150879 0.14856507 0.19809325 0.39967755 0.53197421\n",
      "  0.35978064 0.43913905 0.85091269 0.88418923]\n",
      " [0.17342392 0.47577897 0.40267234 0.33031107 0.47283111 0.28121287\n",
      "  0.45081211 0.68430129 0.49333489 0.30121926 0.77716555 0.16676811\n",
      "  0.49331968 0.54732522 0.         0.36277683 0.59805726 0.54288636\n",
      "  0.11824762 0.4171018  0.36341641 0.16910667 0.31836923 0.74933787\n",
      "  0.72423441 0.18163429 0.27433948 0.57635605 0.25637341 0.70184884\n",
      "  0.27461372 0.47436594 0.49401899 0.49869904 0.65826508 0.25101697\n",
      "  0.2794269  0.22315994 0.64292197 0.31771771 0.6047631  0.65939549\n",
      "  0.1072063  0.59562    0.1714969  0.66987427 0.35117397 0.55818097\n",
      "  0.23140192 0.23029851 0.38064391 0.58783249 0.12310703 0.33911093\n",
      "  0.39017223 0.65754829 0.20301871 0.79734279 0.8450203  0.32607132\n",
      "  0.92240568 0.31537863 0.60708018 0.31918656 0.78124237 0.12584781\n",
      "  0.71897869 0.34381359 0.24007973 0.29416706 0.07726198 0.55440523\n",
      "  0.46733016 0.27561956 0.2237429  0.68659533 0.22593257 0.18452411\n",
      "  0.35983192 0.45637157 0.2820552  0.15882176 0.07957304 0.65685063\n",
      "  0.63905042 0.07040041 0.52212978 0.47396198 0.51237634 0.20468536\n",
      "  0.46647748 0.1828064  0.57819878 0.37097343 0.71197884 0.67911315\n",
      "  0.53033639 0.12359711 0.35690942 0.66578761]\n",
      " [0.21757022 0.78280345 0.59985357 0.69290933 0.83441255 0.11568196\n",
      "  0.49571616 0.8795808  0.81859256 0.62441761 1.12585758 0.26489754\n",
      "  0.77699273 0.91003098 0.36277683 0.         0.83486394 0.71842621\n",
      "  0.3626695  0.69725801 0.71441336 0.24892496 0.35579984 1.07250917\n",
      "  0.81843482 0.5198602  0.56292781 0.93517855 0.20594772 1.02167114\n",
      "  0.39866401 0.69472237 0.71837085 0.86142895 1.01669013 0.47562961\n",
      "  0.38173431 0.19403952 0.80809776 0.51297093 0.75340641 0.8092609\n",
      "  0.35860103 0.7931065  0.53093085 1.01986134 0.59426334 0.60786568\n",
      "  0.57647788 0.593074   0.12581015 0.94174637 0.42870807 0.64772428\n",
      "  0.50421465 0.83509331 0.25178922 1.13632041 1.16865935 0.49135296\n",
      "  1.24988668 0.43470878 0.92542159 0.40590242 1.1251393  0.48669405\n",
      "  1.05747605 0.32091124 0.43451175 0.62962652 0.37104898 0.60517458\n",
      "  0.79691168 0.50113594 0.23379656 1.0311679  0.4066313  0.25291025\n",
      "  0.68344136 0.81062453 0.51326371 0.32056646 0.29835669 0.69403876\n",
      "  1.0018031  0.40601322 0.78386346 0.75377169 0.87423024 0.5660661\n",
      "  0.80049918 0.47865927 0.93490535 0.73094196 1.02941374 0.94854299\n",
      "  0.84742207 0.47616164 0.24049617 0.73263841]\n",
      " [0.63401644 0.84855015 0.23613478 0.51194135 0.50852154 0.71919246\n",
      "  0.41916612 0.12500774 0.81323975 0.33627508 0.52075055 0.75774256\n",
      "  0.9049774  0.57383203 0.59805726 0.83486394 0.         0.16255469\n",
      "  0.71081029 0.86059503 0.40043457 0.59783357 0.49618176 0.36397302\n",
      "  0.33325756 0.43963374 0.32560532 0.69220595 0.833474   0.31863958\n",
      "  0.43722854 0.14028545 0.11655492 0.55661825 0.53710559 0.36895814\n",
      "  0.87446369 0.64271768 0.17010005 0.87474783 0.20260834 0.20521915\n",
      "  0.51961878 0.09707563 0.4989199  0.46421693 0.25138956 0.38855756\n",
      "  0.6418929  0.5270646  0.75907966 0.4565768  0.67915895 0.76778531\n",
      "  0.35464884 0.14757033 0.5852509  0.47407249 0.43748263 0.34473694\n",
      "  0.51681189 0.40597222 0.90553932 0.4401088  0.49153253 0.57414224\n",
      "  0.41890365 0.54759914 0.8171805  0.6879956  0.53143643 0.38706486\n",
      "  0.29217406 0.82568375 0.60134873 0.43597634 0.81136545 0.58816086\n",
      "  0.30404103 0.6730278  0.33105254 0.75687172 0.66856985 0.41673403\n",
      "  0.64022265 0.6339337  0.09077918 0.15192959 0.6149751  0.50231731\n",
      "  0.31056804 0.41525432 0.71443721 0.59495916 0.31508767 0.13688179\n",
      "  0.85854275 0.50085187 0.63855514 0.36609284]\n",
      " [0.53600143 0.87948336 0.1402168  0.55342856 0.58998455 0.60448293\n",
      "  0.26418591 0.16136095 0.85590448 0.35190906 0.66688452 0.68704833\n",
      "  0.9279937  0.66639293 0.54288636 0.71842621 0.16255469 0.\n",
      "  0.66092645 0.87230969 0.45499626 0.49973769 0.36553328 0.52104147\n",
      "  0.22176346 0.42059671 0.30125498 0.77522563 0.75055063 0.47304726\n",
      "  0.32374508 0.10043224 0.10170662 0.63942229 0.65926911 0.29258961\n",
      "  0.82154999 0.53387178 0.1000605  0.84743626 0.07347467 0.11944228\n",
      "  0.44701217 0.08022951 0.48973011 0.59749394 0.20488337 0.22622275\n",
      "  0.64481876 0.53823533 0.6289663  0.57264526 0.64473535 0.77827658\n",
      "  0.21643272 0.11901512 0.47916376 0.6277776  0.59858135 0.234898\n",
      "  0.67870823 0.28431114 0.95872432 0.31276385 0.6413311  0.55401446\n",
      "  0.5663606  0.41132858 0.77866659 0.70099567 0.46795417 0.2246413\n",
      "  0.38515827 0.8001308  0.49071312 0.5757484  0.76758788 0.48640339\n",
      "  0.34674245 0.73010258 0.26106618 0.69761737 0.60201242 0.2640623\n",
      "  0.74477793 0.59330149 0.19083968 0.22903245 0.69382876 0.50496286\n",
      "  0.40307745 0.37023986 0.79450928 0.6404833  0.47129454 0.29927101\n",
      "  0.90175604 0.472526   0.5031071  0.22213617]\n",
      " [0.23417067 0.42317248 0.52073571 0.37333352 0.51735279 0.31501457\n",
      "  0.56004469 0.80067524 0.45606097 0.39847761 0.84054526 0.10370654\n",
      "  0.42549438 0.58138832 0.11824762 0.3626695  0.71081029 0.66092645\n",
      "  0.         0.34571399 0.4349225  0.24691531 0.4190347  0.83338595\n",
      "  0.84150772 0.27918496 0.38530413 0.58558312 0.19577653 0.78851666\n",
      "  0.38600448 0.59052638 0.60957487 0.53335376 0.70837165 0.36926073\n",
      "  0.16366113 0.28294756 0.76093076 0.20758986 0.72301001 0.77762012\n",
      "  0.22197541 0.71241427 0.24362552 0.73344425 0.46706389 0.67056892\n",
      "  0.22228379 0.27600525 0.4174778  0.6476855  0.07056456 0.28625891\n",
      "  0.50513589 0.77508946 0.28471161 0.86985439 0.92747738 0.44334554\n",
      "  1.00163832 0.42839061 0.564153   0.42813744 0.84960184 0.16930865\n",
      "  0.79307518 0.43496095 0.12484844 0.26890951 0.19489053 0.66683706\n",
      "  0.55375385 0.17180986 0.29961538 0.7558085  0.1081139  0.26570615\n",
      "  0.45391231 0.45682298 0.39993724 0.05998145 0.08856204 0.76946755\n",
      "  0.66706784 0.0822983  0.6317977  0.58053806 0.53399969 0.26585665\n",
      "  0.54991962 0.29692301 0.58213599 0.38818732 0.79973268 0.78454765\n",
      "  0.48602547 0.21598561 0.42785536 0.78106443]\n",
      " [0.57528359 0.10321107 0.74387732 0.35898255 0.44456342 0.66058394\n",
      "  0.85363897 0.97575782 0.16731468 0.52839939 0.76519431 0.43317002\n",
      "  0.08004054 0.45882846 0.4171018  0.69725801 0.86059503 0.87230969\n",
      "  0.34571399 0.         0.47185368 0.58119665 0.73313633 0.83266229\n",
      "  1.08338322 0.45513225 0.57166024 0.38990116 0.50099816 0.80303021\n",
      "  0.67880122 0.77976768 0.79118855 0.42607113 0.60844794 0.61707342\n",
      "  0.34415722 0.62541129 0.96532075 0.20768417 0.94398104 0.99088107\n",
      "  0.51567846 0.89845969 0.3843507  0.67278015 0.66844524 0.95052519\n",
      "  0.22803566 0.33621525 0.76281701 0.58963686 0.29787808 0.09408616\n",
      "  0.77863457 0.96820569 0.61744858 0.8226629  0.91144183 0.70437558\n",
      "  0.96719224 0.71402537 0.24313624 0.72597958 0.79009879 0.33382237\n",
      "  0.76025793 0.76090581 0.26684883 0.17301248 0.48124137 0.94670168\n",
      "  0.60513159 0.19995598 0.63596771 0.71089561 0.29410308 0.59844325\n",
      "  0.55685351 0.27756393 0.63261822 0.37736998 0.43079655 1.04618057\n",
      "  0.50803293 0.34681849 0.77015168 0.70927959 0.38810121 0.36744227\n",
      "  0.59165201 0.52015195 0.37243896 0.29411082 0.81724551 0.88329694\n",
      "  0.17223787 0.4148858  0.76800299 1.04292399]\n",
      " [0.50075442 0.44939072 0.36285376 0.11370768 0.15130857 0.61458052\n",
      "  0.55456524 0.52250005 0.412883   0.12705036 0.41392462 0.52194163\n",
      "  0.50830398 0.2365655  0.36341641 0.71441336 0.40043457 0.45499626\n",
      "  0.4349225  0.47185368 0.         0.47619157 0.51052279 0.40129504\n",
      "  0.67675917 0.19540168 0.21345543 0.32705572 0.61596068 0.35965691\n",
      "  0.42917224 0.35460327 0.35766851 0.19748836 0.3060225  0.31943334\n",
      "  0.58148726 0.53876796 0.53261924 0.53397824 0.52801388 0.5636382\n",
      "  0.36074984 0.45705254 0.19427612 0.30682857 0.28321012 0.60982294\n",
      "  0.27612281 0.1680428  0.6993002  0.22739217 0.37584674 0.38320776\n",
      "  0.46099108 0.52673069 0.49090355 0.43592346 0.49382041 0.3891971\n",
      "  0.56681698 0.43757099 0.50822672 0.46923051 0.41814309 0.26573167\n",
      "  0.35847867 0.56267082 0.50171332 0.30493378 0.34369414 0.60640695\n",
      "  0.13551617 0.48601894 0.51519485 0.32356739 0.50692415 0.4802566\n",
      "  0.10842131 0.27670545 0.30441766 0.49391721 0.4416984  0.68830091\n",
      "  0.329062   0.35434005 0.31020314 0.24963987 0.24476066 0.16914047\n",
      "  0.1249474  0.25369365 0.34376842 0.1945258  0.37211047 0.41145173\n",
      "  0.45830032 0.24098734 0.6247656  0.66393339]\n",
      " [0.03646626 0.64428524 0.36868251 0.47330539 0.6075723  0.1397261\n",
      "  0.33269057 0.65715039 0.66233669 0.37773373 0.88255622 0.21427858\n",
      "  0.658952   0.68811317 0.16910667 0.24892496 0.59783357 0.49973769\n",
      "  0.24691531 0.58119665 0.47619157 0.         0.1816398  0.82374342\n",
      "  0.64151093 0.28111619 0.31400304 0.73210955 0.25545175 0.772808\n",
      "  0.17906615 0.4595741  0.48265078 0.64045328 0.78184188 0.2308984\n",
      "  0.3694971  0.06274724 0.59628414 0.45250934 0.54736591 0.60425744\n",
      "  0.11547817 0.56805009 0.30800539 0.77777247 0.35060383 0.44883674\n",
      "  0.39954775 0.37920501 0.22519922 0.70284959 0.28332354 0.50696637\n",
      "  0.30192256 0.61874058 0.03787669 0.88956666 0.91984332 0.26488459\n",
      "  1.00123073 0.2225685  0.77617448 0.20752068 0.87985117 0.28803376\n",
      "  0.81084692 0.18890524 0.36703424 0.46307851 0.1376566  0.44534572\n",
      "  0.54965188 0.41872141 0.05494653 0.78650979 0.34453889 0.01930511\n",
      "  0.43609105 0.61788064 0.26909115 0.24911723 0.15884287 0.54639077\n",
      "  0.78223452 0.2366174  0.54005969 0.50665968 0.66252653 0.34538855\n",
      "  0.55411512 0.23131471 0.73644315 0.52747886 0.7804971  0.704773\n",
      "  0.69943354 0.24954958 0.18804564 0.56847241]\n",
      " [0.21051254 0.78238222 0.26174171 0.5465666  0.65876777 0.2453938\n",
      "  0.15302073 0.52683464 0.78854274 0.38794239 0.8801406  0.39591764\n",
      "  0.80723219 0.74395    0.31836923 0.35579984 0.49618176 0.36553328\n",
      "  0.4190347  0.73313633 0.51052279 0.1816398  0.         0.7863712\n",
      "  0.47139477 0.34013241 0.30308806 0.81277778 0.42974855 0.73401469\n",
      "  0.08193174 0.35750002 0.3811016  0.70021212 0.80792355 0.19343722\n",
      "  0.55086802 0.18715331 0.45263875 0.62662062 0.39760997 0.45349763\n",
      "  0.21785133 0.44270778 0.39571948 0.7830406  0.28500675 0.27005135\n",
      "  0.52661784 0.47048713 0.26424191 0.72127318 0.44136034 0.65006014\n",
      "  0.14936125 0.48043225 0.14675661 0.87040885 0.87903421 0.15753543\n",
      "  0.96232621 0.09272362 0.90314105 0.05643168 0.86893995 0.40952066\n",
      "  0.79457361 0.0559562  0.54268949 0.59274649 0.25238896 0.26672245\n",
      "  0.54030889 0.58904283 0.14604777 0.78125915 0.52191664 0.16271196\n",
      "  0.43491605 0.71537875 0.21888483 0.42895806 0.33436858 0.36622697\n",
      "  0.83804762 0.38843195 0.4619791  0.44796536 0.73514264 0.43103237\n",
      "  0.55040256 0.26498438 0.8223344  0.61855497 0.73856063 0.62154711\n",
      "  0.82974017 0.34220445 0.14286125 0.39254519]\n",
      " [0.85526225 0.77825498 0.53918714 0.49256458 0.38907321 0.96185979\n",
      "  0.75342214 0.45603316 0.72027792 0.45204527 0.18023542 0.91415202\n",
      "  0.84578793 0.40030139 0.74933787 1.07250917 0.36397302 0.52104147\n",
      "  0.83338595 0.83266229 0.40129504 0.82374342 0.7863712  0.\n",
      "  0.68915175 0.56826849 0.51012882 0.5175803  1.00569082 0.05235716\n",
      "  0.71011696 0.45781913 0.43932324 0.41635503 0.27978015 0.60753049\n",
      "  0.98273563 0.8818711  0.52899153 0.9299297  0.5665299  0.56299146\n",
      "  0.71607088 0.46091872 0.58986888 0.18844506 0.50139224 0.74552469\n",
      "  0.67065084 0.56878846 1.02816548 0.25102029 0.77667609 0.75616542\n",
      "  0.67112498 0.50006989 0.82615718 0.11392067 0.09631941 0.63030505\n",
      "  0.17777524 0.69471746 0.77517595 0.73178721 0.14166708 0.66531919\n",
      "  0.09443248 0.84218559 0.90258646 0.68524613 0.71037251 0.74357323\n",
      "  0.28200775 0.88318373 0.8480106  0.1430517  0.90821338 0.82147701\n",
      "  0.39227219 0.57000555 0.57363897 0.8912964  0.82890561 0.78057331\n",
      "  0.41491152 0.75159318 0.34157059 0.33954144 0.46888341 0.56924425\n",
      "  0.28381885 0.59479873 0.54360141 0.53961939 0.0500498  0.24221221\n",
      "  0.75794176 0.62646987 0.92516808 0.72980132]\n",
      " [0.67509014 1.09653134 0.33950592 0.77422071 0.81028586 0.71425478\n",
      "  0.32297394 0.23571081 1.0755368  0.57139292 0.85298278 0.84854758\n",
      "  1.14252785 0.88496988 0.72423441 0.81843482 0.33325756 0.22176346\n",
      "  0.84150772 1.08338322 0.67675917 0.64151093 0.47139477 0.68915175\n",
      "  0.         0.62833904 0.5128379  0.99585553 0.89654187 0.64766349\n",
      "  0.46535311 0.32216977 0.32106686 0.85971387 0.86636486 0.47741714\n",
      "  0.99491962 0.65812115 0.16317031 1.03915642 0.14904506 0.12804041\n",
      "  0.61988337 0.24029713 0.69903359 0.79676343 0.41656758 0.21253878\n",
      "  0.85536367 0.75325951 0.70773336 0.78254137 0.83663557 0.98982936\n",
      "  0.34122027 0.18921159 0.61208033 0.80195141 0.75071752 0.39820105\n",
      "  0.82339202 0.42107849 1.1795968  0.43430954 0.82227417 0.75664376\n",
      "  0.75107866 0.49790978 0.96426416 0.91428855 0.64699797 0.21479719\n",
      "  0.60137551 0.9938398  0.61596699 0.76922991 0.9496208  0.62456156\n",
      "  0.56849541 0.95166323 0.45440998 0.86927583 0.7710896  0.15188574\n",
      "  0.96026851 0.78286811 0.3965212  0.44456611 0.91478485 0.71805661\n",
      "  0.61967952 0.56819692 1.01553249 0.86132327 0.64230352 0.44773385\n",
      "  1.1213279  0.67391831 0.58044533 0.0934722 ]\n",
      " [0.30537145 0.47619926 0.28887879 0.20672746 0.32953513 0.41918979\n",
      "  0.42167696 0.54066911 0.46747078 0.12031389 0.6062024  0.34796175\n",
      "  0.51663955 0.41251634 0.18163429 0.5198602  0.43963374 0.42059671\n",
      "  0.27918496 0.45513225 0.19540168 0.28111619 0.34013241 0.56826849\n",
      "  0.62833904 0.         0.12021538 0.47301995 0.43785246 0.52039402\n",
      "  0.2642813  0.33405031 0.34928353 0.36632313 0.50073391 0.17216113\n",
      "  0.44081404 0.34380516 0.51688233 0.43592455 0.49082489 0.53997581\n",
      "  0.16564594 0.45653206 0.07099286 0.50001056 0.2157177  0.50493543\n",
      "  0.22724565 0.13689008 0.50518351 0.4226446  0.24001435 0.36185175\n",
      "  0.33594831 0.52415588 0.29769779 0.62049306 0.66417392 0.25907632\n",
      "  0.74233098 0.28643947 0.57969755 0.31029131 0.60688146 0.13583991\n",
      "  0.54172665 0.38702782 0.37806577 0.2882198  0.14881146 0.50116365\n",
      "  0.28639008 0.38713738 0.3221455  0.51247017 0.3738485  0.28601029\n",
      "  0.17827777 0.37726226 0.17987102 0.332221   0.26102667 0.59714763\n",
      "  0.50722856 0.19829807 0.3562559  0.30252217 0.3966093  0.09715192\n",
      "  0.28657421 0.07702787 0.4822131  0.27972683 0.53040947 0.50560151\n",
      "  0.51167832 0.06324943 0.43854057 0.58945869]\n",
      " [0.34646445 0.5847151  0.17446656 0.27827356 0.36466616 0.45173102\n",
      "  0.34263673 0.42164916 0.56828802 0.08677695 0.58227545 0.43802797\n",
      "  0.62969011 0.45000863 0.27433948 0.56292781 0.32560532 0.30125498\n",
      "  0.38530413 0.57166024 0.21345543 0.31400304 0.30308806 0.51012882\n",
      "  0.5128379  0.12021538 0.         0.53399756 0.52021977 0.45895661\n",
      "  0.22117624 0.2139437  0.229768   0.40980227 0.5048952  0.10965744\n",
      "  0.54892603 0.37175028 0.39681582 0.55444871 0.37238222 0.42044044\n",
      "  0.21132499 0.33662885 0.18848521 0.48219553 0.09678519 0.40823065\n",
      "  0.34382347 0.24083376 0.52115473 0.41822777 0.35519891 0.47776838\n",
      "  0.24988984 0.40398175 0.31634325 0.58083133 0.60607933 0.17618963\n",
      "  0.68780548 0.22489388 0.67686503 0.25787168 0.57475778 0.25563077\n",
      "  0.50284592 0.35742387 0.49281068 0.4015225  0.21415282 0.40460692\n",
      "  0.24249056 0.50598371 0.33866072 0.48395416 0.4860768  0.3113486\n",
      "  0.13251223 0.45907577 0.0909707  0.43268583 0.34837234 0.49476398\n",
      "  0.5422969  0.3085476  0.24779228 0.20161157 0.45264843 0.2052281\n",
      "  0.25038765 0.09332632 0.54787466 0.36282227 0.4665097  0.40650431\n",
      "  0.61364306 0.1773083  0.42889186 0.48061158]\n",
      " [0.74588616 0.30257451 0.68990499 0.26629912 0.18573641 0.85711914\n",
      "  0.87646526 0.81715683 0.23389222 0.45079767 0.40211227 0.68916277\n",
      "  0.36958557 0.12346979 0.57635605 0.93517855 0.69220595 0.77522563\n",
      "  0.58558312 0.38990116 0.32705572 0.73210955 0.81277778 0.5175803\n",
      "  0.99585553 0.47301995 0.53399756 0.         0.78039592 0.50582185\n",
      "  0.73499786 0.67523265 0.67479967 0.13646459 0.24754038 0.63188854\n",
      "  0.67290298 0.79278925 0.84381372 0.56334414 0.84689665 0.87686928\n",
      "  0.62375749 0.76538557 0.42634809 0.33214643 0.61011739 0.93665009\n",
      "  0.36331404 0.35309966 0.95448501 0.27125958 0.51512197 0.35380132\n",
      "  0.78387946 0.83232999 0.75732076 0.47276874 0.57556097 0.70957291\n",
      "  0.61464168 0.75121702 0.26007176 0.77921911 0.43493929 0.45052606\n",
      "  0.4285548  0.85999327 0.58193358 0.32488015 0.59555993 0.9332058\n",
      "  0.40049293 0.53108055 0.78138346 0.37686034 0.60140872 0.74220363\n",
      "  0.43351788 0.1309118  0.62376124 0.64147108 0.63697363 1.01511579\n",
      "  0.12274887 0.52946934 0.60876867 0.55384982 0.08230788 0.3888823\n",
      "  0.38197898 0.54787639 0.02602442 0.20547754 0.52048258 0.65511509\n",
      "  0.25942366 0.48478024 0.90666959 0.98911756]\n",
      " [0.22145885 0.59242572 0.61488316 0.5656872  0.71027791 0.22137878\n",
      "  0.58276928 0.90454729 0.63526522 0.55674607 1.02759934 0.09513534\n",
      "  0.57968893 0.77647267 0.25637341 0.20594772 0.833474   0.75055063\n",
      "  0.19577653 0.50099816 0.61596068 0.25545175 0.42974855 1.00569082\n",
      "  0.89654187 0.43785246 0.52021977 0.78039592 0.         0.95819892\n",
      "  0.43413285 0.70014067 0.72209289 0.72824158 0.90042165 0.46636827\n",
      "  0.17579994 0.24507002 0.84863594 0.30870916 0.80140431 0.85821147\n",
      "  0.31396698 0.81487161 0.42170982 0.92016639 0.58208457 0.69978923\n",
      "  0.41748026 0.46625533 0.30477437 0.83591556 0.26623533 0.46266263\n",
      "  0.55737002 0.86936065 0.28479955 1.05158201 1.10131364 0.51637221\n",
      "  1.1783744  0.47790363 0.73663389 0.46223491 1.0339404  0.35634635\n",
      "  0.9735917  0.41999778 0.23445146 0.45967394 0.30607786 0.69644324\n",
      "  0.72368648 0.30164487 0.28387459 0.93945658 0.20694274 0.27200331\n",
      "  0.61578489 0.65083909 0.5034332  0.13900899 0.17684172 0.79559429\n",
      "  0.86276507 0.26588111 0.76508191 0.7218274  0.72977622 0.45006501\n",
      "  0.72260918 0.42695411 0.77606633 0.58396215 0.96826188 0.92647141\n",
      "  0.65955905 0.37942917 0.37217043 0.82154124]\n",
      " [0.80460892 0.75366941 0.48730038 0.45617505 0.36321634 0.91063157\n",
      "  0.70207311 0.41715902 0.69824747 0.40299298 0.20868382 0.86731691\n",
      "  0.82039498 0.38494029 0.70184884 1.02167114 0.31863958 0.47304726\n",
      "  0.78851666 0.80303021 0.35965691 0.772808   0.73401469 0.05235716\n",
      "  0.64766349 0.52039402 0.45895661 0.50582185 0.95819892 0.\n",
      "  0.65781677 0.40702411 0.38901884 0.39523265 0.27970343 0.55552896\n",
      "  0.93995651 0.83060485 0.48607065 0.89174909 0.52110037 0.52053682\n",
      "  0.66591695 0.4157022  0.54490294 0.18877005 0.44903871 0.69648984\n",
      "  0.63252149 0.5276904  0.97622768 0.23481425 0.73335767 0.72367907\n",
      "  0.61921845 0.45848725 0.77470539 0.15545336 0.1471794  0.57796674\n",
      "  0.22959344 0.64236602 0.7596931  0.67943565 0.17502898 0.62135936\n",
      "  0.10943401 0.78982843 0.86131929 0.65077819 0.66102571 0.69445559\n",
      "  0.23515292 0.84441747 0.79643041 0.14621988 0.86596759 0.77026497\n",
      "  0.34330736 0.5469624  0.52147321 0.84590394 0.78135723 0.73419974\n",
      "  0.41137131 0.70645642 0.29093119 0.28728447 0.45053408 0.52588655\n",
      "  0.23873663 0.54456801 0.53167967 0.50897723 0.01476718 0.20487305\n",
      "  0.73754978 0.57951096 0.87286577 0.68468698]\n",
      " [0.21452638 0.72070155 0.20141391 0.46931591 0.57805187 0.28332027\n",
      "  0.17656119 0.48350345 0.72215725 0.3060712  0.79950458 0.38332715\n",
      "  0.75020053 0.66336843 0.27461372 0.39866401 0.43722854 0.32374508\n",
      "  0.38600448 0.67880122 0.42917224 0.17906615 0.08193174 0.71011696\n",
      "  0.46535311 0.2642813  0.22117624 0.73499786 0.43413285 0.65781677\n",
      "  0.         0.29694688 0.32069702 0.62014871 0.72599227 0.11151915\n",
      "  0.53210122 0.21028827 0.41851388 0.59142966 0.36853314 0.42543373\n",
      "  0.1676845  0.39568764 0.3243374  0.70170497 0.2096949  0.28456493\n",
      "  0.46389948 0.39804947 0.32504002 0.63938761 0.39628793 0.59208535\n",
      "  0.12417564 0.44234159 0.15556543 0.7915558  0.80374113 0.09273502\n",
      "  0.88689559 0.04427491 0.83625855 0.04771965 0.78909872 0.3480508\n",
      "  0.71516608 0.13657556 0.51081302 0.52982308 0.20055067 0.2808326\n",
      "  0.45936406 0.5501932  0.16732357 0.700681   0.49299553 0.16405492\n",
      "  0.35314185 0.64137327 0.13846666 0.40683328 0.3087525  0.38346341\n",
      "  0.75724331 0.3417331  0.39360112 0.37392925 0.65649678 0.35814414\n",
      "  0.46910208 0.18770871 0.74538721 0.54395849 0.66298014 0.55634754\n",
      "  0.76454218 0.27438836 0.21505141 0.39745249]\n",
      " [0.49592358 0.7828068  0.09614485 0.45416441 0.4902485  0.57907053\n",
      "  0.29658055 0.2101648  0.75737051 0.25456119 0.58888827 0.62847377\n",
      "  0.83298507 0.56763206 0.47436594 0.69472237 0.14028545 0.10043224\n",
      "  0.59052638 0.77976768 0.35460327 0.4595741  0.35750002 0.45781913\n",
      "  0.32216977 0.33405031 0.2139437  0.67523265 0.70014067 0.40702411\n",
      "  0.29694688 0.         0.02377295 0.53966289 0.56786132 0.23377558\n",
      "  0.75353797 0.50298079 0.18565559 0.76768777 0.17346145 0.21295929\n",
      "  0.38790799 0.1229632  0.40075909 0.51177153 0.12348685 0.29543985\n",
      "  0.55356323 0.44405541 0.619414   0.4799099  0.5668854  0.68569453\n",
      "  0.22102899 0.19016175 0.44568821 0.55795683 0.54318998 0.20451599\n",
      "  0.6257084  0.26638012 0.85919345 0.30117335 0.56697833 0.46957069\n",
      "  0.49088587 0.41004395 0.70344192 0.60743606 0.40340142 0.29294214\n",
      "  0.28903994 0.71946039 0.46136555 0.49421197 0.6947697  0.4492161\n",
      "  0.24642242 0.63000841 0.19697155 0.63242084 0.54044437 0.35218982\n",
      "  0.64777389 0.51787523 0.11627268 0.13663334 0.59368939 0.41263746\n",
      "  0.30650183 0.29403842 0.69432002 0.5411067  0.40785518 0.26504596\n",
      "  0.80323768 0.39038781 0.50026434 0.31714582]\n",
      " [0.51896319 0.79139865 0.11989644 0.46023744 0.48928348 0.60270976\n",
      "  0.31699086 0.19206166 0.76409201 0.26382242 0.57444399 0.64949424\n",
      "  0.84282093 0.56495531 0.49401899 0.71837085 0.11655492 0.10170662\n",
      "  0.60957487 0.79118855 0.35766851 0.48265078 0.3811016  0.43932324\n",
      "  0.32106686 0.34928353 0.229768   0.67479967 0.72209289 0.38901884\n",
      "  0.32069702 0.02377295 0.         0.53872065 0.5590774  0.25587205\n",
      "  0.77285362 0.52648335 0.17659864 0.78419715 0.17210559 0.20627165\n",
      "  0.40930943 0.10773461 0.41468662 0.500116   0.14287256 0.30974993\n",
      "  0.5659873  0.45503666 0.64315871 0.47187908 0.58421383 0.69719719\n",
      "  0.24356707 0.17703479 0.46913236 0.54114866 0.52337731 0.22828652\n",
      "  0.60561432 0.29010201 0.86437236 0.3248043  0.55139997 0.48508532\n",
      "  0.47552541 0.4334762  0.72123805 0.61847249 0.42394831 0.30743895\n",
      "  0.28347457 0.7357516  0.48494938 0.48086593 0.7131451  0.472479\n",
      "  0.25039569 0.63406271 0.21867537 0.65239715 0.56115422 0.36130193\n",
      "  0.64307559 0.53592765 0.09832349 0.12777451 0.59373414 0.42484044\n",
      "  0.30137332 0.31271253 0.69448969 0.54684269 0.38928709 0.24201203\n",
      "  0.80994333 0.40693307 0.52382614 0.32293371]\n",
      " [0.65909338 0.36281223 0.55836367 0.16867685 0.04944145 0.77294311\n",
      "  0.75183118 0.68162281 0.30394092 0.32414851 0.34079913 0.63367604\n",
      "  0.43090889 0.0486802  0.49869904 0.86142895 0.55661825 0.63942229\n",
      "  0.53335376 0.42607113 0.19748836 0.64045328 0.70021212 0.41635503\n",
      "  0.85971387 0.36632313 0.40980227 0.13646459 0.72824158 0.39523265\n",
      "  0.62014871 0.53966289 0.53872065 0.         0.18744057 0.51289338\n",
      "  0.64829101 0.70278716 0.70734918 0.56057557 0.71082404 0.74041901\n",
      "  0.52717127 0.62893727 0.33336869 0.24688224 0.47979678 0.80619435\n",
      "  0.31988424 0.26846087 0.86555948 0.16638996 0.46403378 0.36206921\n",
      "  0.65836842 0.69600039 0.66139503 0.3966713  0.48838817 0.58595447\n",
      "  0.54128975 0.63205151 0.3676317  0.66228094 0.36414818 0.37705422\n",
      "  0.33685935 0.7502323  0.55857964 0.30595895 0.50289441 0.80283088\n",
      "  0.26454201 0.52006198 0.68584119 0.28631469 0.57294297 0.64806062\n",
      "  0.3006536  0.15408838 0.5006587  0.5926141  0.56847184 0.8822372\n",
      "  0.14178155 0.46478046 0.47249466 0.41738524 0.05937793 0.29670923\n",
      "  0.24608481 0.43664949 0.1578591  0.15300832 0.40997656 0.52617472\n",
      "  0.34238032 0.39121936 0.80486299 0.85461995]\n",
      " [0.80544563 0.53568848 0.61542426 0.33508072 0.19140745 0.9196049\n",
      "  0.8280645  0.65591864 0.47080459 0.42049968 0.15773859 0.80529229\n",
      "  0.60426195 0.14963124 0.65826508 1.01669013 0.53710559 0.65926911\n",
      "  0.70837165 0.60844794 0.3060225  0.78184188 0.80792355 0.27978015\n",
      "  0.86636486 0.50073391 0.5048952  0.24754038 0.90042165 0.27970343\n",
      "  0.72599227 0.56786132 0.5590774  0.18744057 0.         0.61450095\n",
      "  0.83202153 0.8445051  0.70447252 0.74786773 0.72329812 0.73951828\n",
      "  0.66636427 0.62615532 0.48702216 0.09174916 0.5476323  0.85876529\n",
      "  0.50288327 0.43420634 1.00531172 0.0893334  0.64095008 0.54884914\n",
      "  0.73504473 0.68461217 0.79691843 0.22524229 0.32890229 0.67162187\n",
      "  0.36784717 0.72764576 0.5075318  0.76198485 0.18781996 0.54435096\n",
      "  0.18649653 0.86186703 0.74321435 0.4931358  0.64775971 0.85587312\n",
      "  0.28312824 0.70684247 0.82119592 0.13683467 0.75624487 0.78622639\n",
      "  0.37431482 0.33118856 0.5923766  0.76827111 0.73310074 0.91991336\n",
      "  0.13567513 0.63458993 0.47105139 0.43162004 0.22074583 0.45390605\n",
      "  0.26802587 0.55873388 0.27314744 0.33947622 0.29341282 0.46234334\n",
      "  0.50247753 0.54054501 0.92852429 0.88140476]\n",
      " [0.26651678 0.6461242  0.15261298 0.36870907 0.46951038 0.36106616\n",
      "  0.24996349 0.43986641 0.63952149 0.19494929 0.68969869 0.39650245\n",
      "  0.68301008 0.55497548 0.25101697 0.47562961 0.36895814 0.29258961\n",
      "  0.36926073 0.61707342 0.31943334 0.2308984  0.19343722 0.60753049\n",
      "  0.47741714 0.17216113 0.10965744 0.63188854 0.46636827 0.55552896\n",
      "  0.11151915 0.23377558 0.25587205 0.51289338 0.61450095 0.\n",
      "  0.52902432 0.28161021 0.39262968 0.56211817 0.35378567 0.40840585\n",
      "  0.15546651 0.35023537 0.24034794 0.59089471 0.11971191 0.33474339\n",
      "  0.39235673 0.3090113  0.42074012 0.52787756 0.35931621 0.52582765\n",
      "  0.16416449 0.40893257 0.22398935 0.6845418  0.70241494 0.08783319\n",
      "  0.78512093 0.11942318 0.75185776 0.14980595 0.68052741 0.28404154\n",
      "  0.60737698 0.24784668 0.48928531 0.45616914 0.17540613 0.33093872\n",
      "  0.34937756 0.51647112 0.24376994 0.59103205 0.47666918 0.22345101\n",
      "  0.24178605 0.5457677  0.0382273  0.40505566 0.31001155 0.42923683\n",
      "  0.64829631 0.30586509 0.30923729 0.27866503 0.55197489 0.26931051\n",
      "  0.35847484 0.09798467 0.643792   0.44804736 0.56171512 0.47400758\n",
      "  0.68355126 0.20219022 0.32158687 0.42744679]\n",
      " [0.34460143 0.44288541 0.68138808 0.50331312 0.64151776 0.38366214\n",
      "  0.6997753  0.96359523 0.49509381 0.55865023 0.97366604 0.15647435\n",
      "  0.41930499 0.69392059 0.2794269  0.38173431 0.87446369 0.82154999\n",
      "  0.16366113 0.34415722 0.58148726 0.3694971  0.55086802 0.98273563\n",
      "  0.99491962 0.44081404 0.54892603 0.67290298 0.17579994 0.93995651\n",
      "  0.53210122 0.75353797 0.77285362 0.64829101 0.83202153 0.52902432\n",
      "  0.         0.38392477 0.92160854 0.13949294 0.88174128 0.93703631\n",
      "  0.37669978 0.87502433 0.39807708 0.86816683 0.63016631 0.81413243\n",
      "  0.32914181 0.41503398 0.47572557 0.78086977 0.20693566 0.32739853\n",
      "  0.65490115 0.93683666 0.40592703 1.01022102 1.0750907  0.59845791\n",
      "  1.1463647  0.57593901 0.58640685 0.56999858 0.98679392 0.31963373\n",
      "  0.93542161 0.5549795  0.09106802 0.34954328 0.35361848 0.81051126\n",
      "  0.70706893 0.14825309 0.41373306 0.8947667  0.07599358 0.38866844\n",
      "  0.6122468  0.54229181 0.56120644 0.12564386 0.22386281 0.91267595\n",
      "  0.77086658 0.24252991 0.79506864 0.74307835 0.63660277 0.41410779\n",
      "  0.70152309 0.46037797 0.66379151 0.49583248 0.95182297 0.94635975\n",
      "  0.51215072 0.37761878 0.52514612 0.92954879]\n",
      " [0.05061028 0.69372183 0.40924165 0.53533129 0.6702133  0.08007207\n",
      "  0.33954014 0.69378813 0.71532527 0.43855397 0.94413419 0.2280236\n",
      "  0.70428543 0.75054126 0.22315994 0.19403952 0.64271768 0.53387178\n",
      "  0.28294756 0.62541129 0.53876796 0.06274724 0.18715331 0.8818711\n",
      "  0.65812115 0.34380516 0.37175028 0.79278925 0.24507002 0.83060485\n",
      "  0.21028827 0.50298079 0.52648335 0.70278716 0.8445051  0.28161021\n",
      "  0.38392477 0.         0.62747772 0.48179012 0.5756095  0.63234013\n",
      "  0.17816016 0.60581168 0.36994568 0.83966848 0.40027622 0.45652101\n",
      "  0.45452929 0.44033054 0.16277999 0.76524808 0.3289165  0.55568527\n",
      "  0.3258455  0.65221065 0.05781599 0.94983728 0.97776447 0.30178976\n",
      "  1.05955554 0.25021833 0.82839244 0.22703832 0.94081528 0.3459774\n",
      "  0.87123033 0.17531449 0.39560022 0.51664199 0.19989495 0.45327876\n",
      "  0.60985222 0.45255114 0.04333033 0.84774643 0.37085699 0.06051111\n",
      "  0.49638186 0.67690104 0.31922516 0.27257666 0.19516814 0.55127021\n",
      "  0.84456452 0.28678015 0.58993756 0.5599368  0.72407283 0.40721225\n",
      "  0.61483273 0.29215227 0.79655094 0.58774764 0.83790057 0.75466903\n",
      "  0.75105475 0.31165864 0.14547713 0.57961215]\n",
      " [0.63232563 0.96778317 0.24026693 0.63670115 0.6581603  0.69558544\n",
      "  0.33254483 0.09191048 0.94063538 0.43974966 0.6903095  0.78655052\n",
      "  1.01853551 0.72969369 0.64292197 0.80809776 0.17010005 0.1000605\n",
      "  0.76093076 0.96532075 0.53261924 0.59628414 0.45263875 0.52899153\n",
      "  0.16317031 0.51688233 0.39681582 0.84381372 0.84863594 0.48607065\n",
      "  0.41851388 0.18565559 0.17659864 0.70734918 0.70447252 0.39262968\n",
      "  0.92160854 0.62747772 0.         0.94638377 0.05936068 0.03518269\n",
      "  0.54685401 0.07915379 0.58496387 0.6337647  0.30170312 0.26192291\n",
      "  0.73876418 0.62970884 0.71270584 0.62169345 0.74393298 0.87123834\n",
      "  0.30391489 0.03541472 0.57401218 0.64098067 0.59512277 0.33227845\n",
      "  0.67067017 0.37727342 1.04029122 0.40271142 0.66019999 0.65136391\n",
      "  0.5884058  0.49413334 0.87833675 0.79307629 0.56800762 0.26176928\n",
      "  0.44517324 0.89883881 0.5841611  0.60606246 0.867485   0.58225511\n",
      "  0.42631649 0.80931884 0.36101787 0.7976275  0.70186925 0.26199842\n",
      "  0.80183418 0.69283598 0.23733207 0.28996407 0.76392323 0.59803353\n",
      "  0.46367285 0.46931297 0.86456116 0.7231635  0.48132276 0.28981439\n",
      "  0.98647973 0.57049689 0.5849458  0.20508811]\n",
      " [0.43576755 0.30909401 0.70883761 0.43781311 0.56299074 0.49806246\n",
      "  0.76662991 0.97608278 0.36632212 0.54222559 0.89746551 0.26115885\n",
      "  0.28063216 0.60263952 0.31771771 0.51297093 0.87474783 0.84743626\n",
      "  0.20758986 0.20768417 0.53397824 0.45250934 0.62662062 0.9299297\n",
      "  1.03915642 0.43592455 0.55444871 0.56334414 0.30870916 0.89174909\n",
      "  0.59142966 0.76768777 0.78419715 0.56057557 0.74786773 0.56211817\n",
      "  0.13949294 0.48179012 0.94638377 0.         0.91350393 0.9662274\n",
      "  0.42480497 0.89063835 0.37678188 0.79562889 0.64570567 0.87564714\n",
      "  0.25932583 0.36768761 0.59609786 0.70829296 0.20307202 0.20958933\n",
      "  0.70781983 0.95677937 0.49038158 0.94281026 1.01802647 0.64203057\n",
      "  1.08378766 0.63288276 0.45081971 0.63465226 0.91544777 0.30062717\n",
      "  0.87193196 0.64130352 0.08619034 0.25477078 0.3944148  0.87188305\n",
      "  0.66752524 0.04926906 0.50351836 0.82719796 0.11180223 0.47159472\n",
      "  0.58796676 0.43585881 0.58836533 0.21004296 0.29385228 0.97440967\n",
      "  0.67055139 0.2563053  0.78911815 0.73215047 0.53890404 0.38017867\n",
      "  0.65864972 0.47719652 0.55096365 0.40874742 0.90474254 0.92793787\n",
      "  0.37865372 0.37732836 0.62711161 0.98319078]\n",
      " [0.58303547 0.95252175 0.2047983  0.62690175 0.66138775 0.6418569\n",
      "  0.27365255 0.1493128  0.92933004 0.42525297 0.72109025 0.74284903\n",
      "  1.00051861 0.73663732 0.6047631  0.75340641 0.20260834 0.07347467\n",
      "  0.72301001 0.94398104 0.52801388 0.54736591 0.39760997 0.5665299\n",
      "  0.14904506 0.49082489 0.37238222 0.84689665 0.80140431 0.52110037\n",
      "  0.36853314 0.17346145 0.17210559 0.71082404 0.72329812 0.35378567\n",
      "  0.88174128 0.5756095  0.05936068 0.91350393 0.         0.05690065\n",
      "  0.50532641 0.10561718 0.5605764  0.65759217 0.27562643 0.20414245\n",
      "  0.71620539 0.61071264 0.65580213 0.63797711 0.71046614 0.85002312\n",
      "  0.2502029  0.09354677 0.52336323 0.67655369 0.63774268 0.28612722\n",
      "  0.71531055 0.32609047 1.03218787 0.34936681 0.69314734 0.62294136\n",
      "  0.61956548 0.43738497 0.84269138 0.77314123 0.52861798 0.20377201\n",
      "  0.45377058 0.86673869 0.53229242 0.63304137 0.83044603 0.53258386\n",
      "  0.41988253 0.80341972 0.32520681 0.75686795 0.65998476 0.21496258\n",
      "  0.81324354 0.65812888 0.25225971 0.29690585 0.76576392 0.57691069\n",
      "  0.47194744 0.4369906  0.8665056  0.71395351 0.51769523 0.33272346\n",
      "  0.9751778  0.54085528 0.52770437 0.16363448]\n",
      " [0.63993536 0.99574335 0.25763729 0.6663083  0.69115097 0.69813016\n",
      "  0.32530039 0.11776474 0.96995062 0.46750095 0.72518605 0.7991031\n",
      "  1.04547471 0.76341031 0.65939549 0.8092609  0.20521915 0.11944228\n",
      "  0.77762012 0.99088107 0.5636382  0.60425744 0.45349763 0.56299146\n",
      "  0.12804041 0.53997581 0.42044044 0.87686928 0.85821147 0.52053682\n",
      "  0.42543373 0.21295929 0.20627165 0.74041901 0.73951828 0.40840585\n",
      "  0.93703631 0.63234013 0.03518269 0.9662274  0.05690065 0.\n",
      "  0.56095161 0.11370681 0.60892059 0.66894725 0.32426059 0.24451155\n",
      "  0.76367564 0.65602344 0.71016849 0.65654473 0.76335053 0.89680861\n",
      "  0.30673812 0.06411083 0.58023074 0.67526482 0.62776355 0.34262998\n",
      "  0.70253195 0.38295633 1.07064337 0.40589519 0.6948546  0.67344408\n",
      "  0.62327831 0.49208532 0.89651596 0.8191375  0.58361277 0.24482188\n",
      "  0.47895679 0.91910583 0.58903224 0.6411945  0.88478585 0.58948406\n",
      "  0.45665402 0.84020739 0.37862494 0.8123905  0.71578282 0.23411744\n",
      "  0.83623161 0.71149609 0.27164455 0.32315743 0.79668743 0.62343981\n",
      "  0.49742431 0.48912619 0.89739175 0.7530249  0.51557875 0.32291115\n",
      "  1.01581477 0.59187532 0.58181131 0.17521225]\n",
      " [0.14149543 0.56525794 0.30765809 0.36142915 0.49308107 0.25418889\n",
      "  0.34415359 0.59523828 0.57441034 0.26593526 0.76844079 0.24105563\n",
      "  0.58939908 0.57445022 0.1072063  0.35860103 0.51961878 0.44701217\n",
      "  0.22197541 0.51567846 0.36074984 0.11547817 0.21785133 0.71607088\n",
      "  0.61988337 0.16564594 0.21132499 0.62375749 0.31396698 0.66591695\n",
      "  0.1676845  0.38790799 0.40930943 0.52717127 0.66636427 0.15546651\n",
      "  0.37669978 0.17816016 0.54685401 0.42480497 0.50532641 0.56095161\n",
      "  0.         0.50564985 0.19744557 0.66318547 0.26827401 0.4509761\n",
      "  0.3108208  0.27116103 0.3398911  0.58756853 0.22866678 0.43223904\n",
      "  0.28347191 0.56411576 0.13435151 0.77772399 0.81237801 0.22210049\n",
      "  0.89287009 0.20817286 0.68911369 0.21302066 0.7667767  0.1939459\n",
      "  0.69887626 0.25111667 0.34594784 0.37672098 0.0345377  0.44720114\n",
      "  0.43851471 0.38278629 0.15874566 0.67302008 0.33001855 0.12106131\n",
      "  0.3252085  0.51459143 0.19101126 0.25156008 0.15501581 0.54966073\n",
      "  0.66885951 0.17423275 0.45188198 0.41131963 0.55178733 0.23496526\n",
      "  0.44189978 0.12136213 0.62966961 0.42110645 0.67437061 0.61456624\n",
      "  0.61447987 0.13898944 0.28362624 0.55933339]\n",
      " [0.6045007  0.89664515 0.20009381 0.56324556 0.57984243 0.67840178\n",
      "  0.34428285 0.08970865 0.86726637 0.37043696 0.61695088 0.74670538\n",
      "  0.94911514 0.6507508  0.59562    0.7931065  0.09707563 0.08022951\n",
      "  0.71241427 0.89845969 0.45705254 0.56805009 0.44270778 0.46091872\n",
      "  0.24029713 0.45653206 0.33662885 0.76538557 0.81487161 0.4157022\n",
      "  0.39568764 0.1229632  0.10773461 0.62893727 0.62615532 0.35023537\n",
      "  0.87502433 0.60581168 0.07915379 0.89063835 0.10561718 0.11370681\n",
      "  0.50564985 0.         0.52236546 0.55687932 0.24594723 0.29844436\n",
      "  0.67362893 0.56224667 0.7067575  0.5428777  0.68980171 0.80452659\n",
      "  0.29446985 0.07024748 0.54996222 0.57114212 0.53273669 0.30425606\n",
      "  0.61096378 0.35841492 0.96524213 0.38877436 0.58829725 0.59222205\n",
      "  0.5152208  0.48990086 0.82619894 0.72561785 0.52325815 0.29733882\n",
      "  0.36623048 0.84237945 0.56299007 0.53051193 0.8172037  0.55584656\n",
      "  0.35218402 0.73362193 0.31519279 0.7529947  0.6596377  0.32023264\n",
      "  0.72268603 0.64055518 0.15818566 0.21172546 0.6858094  0.53246755\n",
      "  0.38474726 0.41650657 0.78635179 0.64914707 0.41213717 0.22853506\n",
      "  0.91304083 0.51332433 0.58173258 0.26901848]\n",
      " [0.32572828 0.40609975 0.35952824 0.16539393 0.30366193 0.43961373\n",
      "  0.48808014 0.60469301 0.40002554 0.16566733 0.60672871 0.32768886\n",
      "  0.44569641 0.38149785 0.1714969  0.53093085 0.4989199  0.48973011\n",
      "  0.24362552 0.3843507  0.19427612 0.30800539 0.39571948 0.58986888\n",
      "  0.69903359 0.07099286 0.18848521 0.42634809 0.42170982 0.54490294\n",
      "  0.3243374  0.40075909 0.41468662 0.33336869 0.48702216 0.24034794\n",
      "  0.39807708 0.36994568 0.58496387 0.37678188 0.5605764  0.60892059\n",
      "  0.19744557 0.52236546 0.         0.49931678 0.28501486 0.57453716\n",
      "  0.15635855 0.07508261 0.53268749 0.41654461 0.19154585 0.29093178\n",
      "  0.40451215 0.59083752 0.33136785 0.6301158  0.68424078 0.32797244\n",
      "  0.75925584 0.35064564 0.51327363 0.37151144 0.6122563  0.07908931\n",
      "  0.55241765 0.43863524 0.32682168 0.21736882 0.17041102 0.57074994\n",
      "  0.31030709 0.32754738 0.3555865  0.51774975 0.32665879 0.31682867\n",
      "  0.215134   0.32041941 0.25048796 0.30148007 0.24829568 0.66746019\n",
      "  0.47502978 0.16172608 0.41244595 0.35542264 0.35476127 0.03754221\n",
      "  0.30629799 0.14268952 0.43267905 0.22490982 0.5561792  0.55351627\n",
      "  0.44361474 0.05863344 0.48047321 0.66039287]\n",
      " [0.80443043 0.60779825 0.57017057 0.3648547  0.23324796 0.91725196\n",
      "  0.78689635 0.57880019 0.54578946 0.4034577  0.10744193 0.82544037\n",
      "  0.67626142 0.22086716 0.66987427 1.01986134 0.46421693 0.59749394\n",
      "  0.73344425 0.67278015 0.30682857 0.77777247 0.7830406  0.18844506\n",
      "  0.79676343 0.50001056 0.48219553 0.33214643 0.92016639 0.18877005\n",
      "  0.70170497 0.51177153 0.500116   0.24688224 0.09174916 0.59089471\n",
      "  0.86816683 0.83966848 0.6337647  0.79562889 0.65759217 0.66894725\n",
      "  0.66318547 0.55687932 0.49931678 0.         0.50965159 0.80659082\n",
      "  0.54182042 0.45766812 0.99716081 0.0875686  0.66922827 0.60530938\n",
      "  0.69580611 0.61144261 0.78870826 0.14991017 0.24482785 0.63822495\n",
      "  0.29442785 0.69791684 0.5916501  0.73367394 0.11982162 0.56515832\n",
      "  0.09655422 0.83826998 0.78193621 0.54228735 0.64881916 0.80393808\n",
      "  0.24346001 0.75195729 0.81247751 0.04542912 0.79220411 0.77992678\n",
      "  0.34978547 0.39960893 0.56437949 0.79329731 0.74757805 0.86093484\n",
      "  0.22646737 0.65554948 0.40679691 0.37557821 0.29226888 0.47014071\n",
      "  0.23263819 0.5483452  0.35812047 0.38914376 0.20220716 0.37819314\n",
      "  0.58051775 0.54780985 0.91096576 0.81872686]\n",
      " [0.38621425 0.68016545 0.08133338 0.36519343 0.43198739 0.4791752\n",
      "  0.28052946 0.33365122 0.66145009 0.16186355 0.60147411 0.50736233\n",
      "  0.72610443 0.51546094 0.35117397 0.59426334 0.25138956 0.20488337\n",
      "  0.46706389 0.66844524 0.28321012 0.35060383 0.28500675 0.50139224\n",
      "  0.41656758 0.2157177  0.09678519 0.61011739 0.58208457 0.44903871\n",
      "  0.2096949  0.12348685 0.14287256 0.47979678 0.5476323  0.11971191\n",
      "  0.63016631 0.40027622 0.30170312 0.64570567 0.27562643 0.32426059\n",
      "  0.26827401 0.24594723 0.28501486 0.50965159 0.         0.32661401\n",
      "  0.44059454 0.33669248 0.53289779 0.45847297 0.44414488 0.57454602\n",
      "  0.18744341 0.31108797 0.34248349 0.586819   0.59441301 0.13056466\n",
      "  0.67764851 0.19390286 0.76831151 0.23090081 0.58740455 0.34966944\n",
      "  0.51214639 0.34087148 0.58027134 0.49812898 0.28139654 0.32320333\n",
      "  0.26712479 0.59779893 0.36120296 0.50279118 0.571338   0.34283844\n",
      "  0.18076333 0.54588688 0.08151534 0.50952632 0.41868126 0.4070701\n",
      "  0.60389774 0.39460975 0.18973849 0.16426648 0.52787045 0.3017941\n",
      "  0.28042051 0.17059806 0.62614329 0.45156532 0.45377075 0.35453086\n",
      "  0.70704523 0.26896644 0.42438339 0.38818999]\n",
      " [0.47977578 0.98061476 0.248251   0.6864454  0.75808015 0.50674774\n",
      "  0.11705399 0.35329103 0.97160712 0.48672634 0.88403087 0.66182573\n",
      "  1.01758076 0.84077995 0.55818097 0.60786568 0.38855756 0.22622275\n",
      "  0.67056892 0.95052519 0.60982294 0.44883674 0.27005135 0.74552469\n",
      "  0.21253878 0.50493543 0.40823065 0.93665009 0.69978923 0.69648984\n",
      "  0.28456493 0.29543985 0.30974993 0.80619435 0.85876529 0.33474339\n",
      "  0.81413243 0.45652101 0.26192291 0.87564714 0.20414245 0.24451155\n",
      "  0.4509761  0.29844436 0.57453716 0.80659082 0.32661401 0.\n",
      "  0.7270171  0.64052648 0.49542239 0.7698167  0.67828103 0.86008647\n",
      "  0.17191933 0.29707575 0.41588991 0.85004829 0.82462889 0.24691445\n",
      "  0.9049219  0.24280394 1.08246567 0.24415679 0.86110425 0.61672054\n",
      "  0.78527123 0.28907711 0.79537596 0.79090127 0.48244231 0.00382566\n",
      "  0.57616868 0.83367644 0.41606115 0.78965148 0.77742969 0.4305834\n",
      "  0.50601462 0.86730577 0.32619653 0.68965074 0.59210532 0.0989088\n",
      "  0.92728119 0.62353098 0.40767978 0.4310207  0.85443532 0.60155838\n",
      "  0.59228918 0.43270211 0.95236027 0.77090495 0.69557057 0.52486643\n",
      "  1.01621321 0.53612515 0.36865919 0.12485961]\n",
      " [0.40457204 0.25680281 0.51585958 0.17925166 0.31266079 0.50882406\n",
      "  0.63498875 0.75326981 0.26407823 0.30604972 0.64614244 0.32585119\n",
      "  0.29068982 0.36640694 0.23140192 0.57647788 0.6418929  0.64481876\n",
      "  0.22228379 0.22803566 0.27612281 0.39954775 0.52661784 0.67065084\n",
      "  0.85536367 0.22724565 0.34382347 0.36331404 0.41748026 0.63252149\n",
      "  0.46389948 0.55356323 0.5659873  0.31988424 0.50288327 0.39235673\n",
      "  0.32914181 0.45452929 0.73876418 0.25932583 0.71620539 0.76367564\n",
      "  0.3108208  0.67362893 0.15635855 0.54182042 0.44059454 0.7270171\n",
      "  0.         0.11566908 0.61007931 0.45425969 0.15180916 0.13461269\n",
      "  0.5556638  0.74292501 0.43152971 0.68683395 0.75924958 0.48013598\n",
      "  0.82633379 0.49557458 0.37865898 0.51161054 0.66125959 0.1171319\n",
      "  0.6144089  0.56192481 0.24075219 0.06614054 0.27689023 0.72320628\n",
      "  0.4109934  0.21269913 0.45349715 0.57103747 0.2534307  0.41374853\n",
      "  0.34216089 0.23518744 0.40572019 0.27886302 0.27896553 0.82136915\n",
      "  0.44794005 0.17213888 0.55260546 0.4927755  0.31383389 0.14116559\n",
      "  0.40107003 0.29458026 0.36036145 0.16905657 0.64559126 0.67930181\n",
      "  0.30365913 0.19159578 0.58605979 0.81606485]\n",
      " [0.39440739 0.3439309  0.41527624 0.10065308 0.24492765 0.50717587\n",
      "  0.55853935 0.64007896 0.33111364 0.19239481 0.56463314 0.37112013\n",
      "  0.38980601 0.3171159  0.23029851 0.593074   0.5270646  0.53823533\n",
      "  0.27600525 0.33621525 0.1680428  0.37920501 0.47048713 0.56878846\n",
      "  0.75325951 0.13689008 0.24083376 0.35309966 0.46625533 0.5276904\n",
      "  0.39804947 0.44405541 0.45503666 0.26846087 0.43420634 0.3090113\n",
      "  0.41503398 0.44033054 0.62970884 0.36768761 0.61071264 0.65602344\n",
      "  0.27116103 0.56224667 0.07508261 0.45766812 0.33669248 0.64052648\n",
      "  0.11566908 0.         0.60262108 0.37169037 0.21192137 0.24234017\n",
      "  0.4725379  0.6320267  0.40428631 0.59628938 0.66032982 0.39558466\n",
      "  0.73136624 0.42261835 0.44288096 0.44490337 0.57458086 0.11025722\n",
      "  0.5207283  0.51371182 0.33382354 0.16344694 0.2424629  0.63677789\n",
      "  0.29994335 0.31919638 0.42830559 0.48138144 0.33987756 0.38910483\n",
      "  0.22649182 0.24533939 0.31442118 0.33595498 0.30084934 0.73133498\n",
      "  0.40881547 0.20038974 0.43742465 0.37735637 0.28406067 0.04002404\n",
      "  0.2916484  0.21319132 0.35851548 0.15010469 0.54014864 0.5642025\n",
      "  0.37570689 0.13233769 0.55467762 0.72054369]\n",
      " [0.20861593 0.8392462  0.52326946 0.69808035 0.83271692 0.10274769\n",
      "  0.38830145 0.7899592  0.86645545 0.59406809 1.10039317 0.33561948\n",
      "  0.84274781 0.91328342 0.38064391 0.12581015 0.75907966 0.6289663\n",
      "  0.4174778  0.76281701 0.6993002  0.22519922 0.26424191 1.02816548\n",
      "  0.70773336 0.50518351 0.52115473 0.95448501 0.30477437 0.97622768\n",
      "  0.32504002 0.619414   0.64315871 0.86555948 1.00531172 0.42074012\n",
      "  0.47572557 0.16277999 0.71270584 0.59609786 0.65580213 0.71016849\n",
      "  0.3398911  0.7067575  0.53268749 0.99716081 0.53289779 0.49542239\n",
      "  0.61007931 0.60262108 0.         0.92474429 0.47422933 0.70130292\n",
      "  0.41255628 0.74201257 0.20869836 1.10197564 1.12315323 0.41553744\n",
      "  1.20581982 0.35311594 0.97777279 0.31943491 1.09508599 0.5056522\n",
      "  1.02388091 0.21857973 0.51232096 0.66982358 0.36266519 0.49302709\n",
      "  0.7628543  0.57589778 0.18472069 1.00304025 0.48508633 0.21918518\n",
      "  0.65021814 0.83679567 0.45566151 0.38967347 0.33674984 0.57703783\n",
      "  1.00733854 0.4388632  0.71863656 0.69679343 0.88655496 0.56990965\n",
      "  0.7692165  0.44891175 0.95762088 0.74916346 0.98245172 0.88114931\n",
      "  0.89981326 0.47443582 0.12857488 0.6192513 ]\n",
      " [0.72800544 0.52919689 0.5261124  0.27762259 0.14685062 0.8416533\n",
      "  0.73883773 0.57795477 0.46977487 0.33514008 0.19316889 0.74097759\n",
      "  0.59724227 0.15028631 0.58783249 0.94174637 0.4565768  0.57264526\n",
      "  0.6476855  0.58963686 0.22739217 0.70284959 0.72127318 0.25102029\n",
      "  0.78254137 0.4226446  0.41822777 0.27125958 0.83591556 0.23481425\n",
      "  0.63938761 0.4799099  0.47187908 0.16638996 0.0893334  0.52787756\n",
      "  0.78086977 0.76524808 0.62169345 0.70829296 0.63797711 0.65654473\n",
      "  0.58756853 0.5428777  0.41654461 0.0875686  0.45847297 0.7698167\n",
      "  0.45425969 0.37169037 0.92474429 0.         0.58278178 0.51968477\n",
      "  0.64590981 0.60345667 0.71605479 0.23536188 0.32237319 0.58308664\n",
      "  0.37875365 0.63980191 0.52543395 0.67447205 0.20724399 0.48008255\n",
      "  0.17086072 0.77561834 0.69444317 0.4553474  0.57108433 0.76689954\n",
      "  0.19388759 0.66446521 0.74015015 0.12136651 0.70489115 0.70619802\n",
      "  0.28667956 0.3204783  0.50468085 0.70761769 0.66470103 0.83209652\n",
      "  0.18776856 0.57062518 0.38618099 0.34415547 0.21786932 0.38600453\n",
      "  0.1786926  0.47639531 0.29703317 0.30277474 0.24952771 0.3943678\n",
      "  0.50697198 0.4670796  0.84420369 0.79466567]\n",
      " [0.27844969 0.36572601 0.50585684 0.30650223 0.44961827 0.37153929\n",
      "  0.57280972 0.77627411 0.3930195  0.35446978 0.7759234  0.17404208\n",
      "  0.37593148 0.51186267 0.12310703 0.42870807 0.67915895 0.64473535\n",
      "  0.07056456 0.29787808 0.37584674 0.28332354 0.44136034 0.77667609\n",
      "  0.83663557 0.24001435 0.35519891 0.51512197 0.26623533 0.73335767\n",
      "  0.39628793 0.5668854  0.58421383 0.46403378 0.64095008 0.35931621\n",
      "  0.20693566 0.3289165  0.74393298 0.20307202 0.71046614 0.76335053\n",
      "  0.22866678 0.68980171 0.19154585 0.66922827 0.44414488 0.67828103\n",
      "  0.15180916 0.21192137 0.47422933 0.58278178 0.         0.22754665\n",
      "  0.50842687 0.75512385 0.31971427 0.80809382 0.86965824 0.44049697\n",
      "  0.9421593  0.43588896 0.50357954 0.44158724 0.78647295 0.11276468\n",
      "  0.73217632 0.465076   0.13807204 0.20093287 0.1960151  0.67448177\n",
      "  0.50014925 0.15722788 0.33809247 0.69329231 0.13525989 0.30066932\n",
      "  0.40642665 0.38664639 0.38530114 0.12868784 0.13748431 0.77657487\n",
      "  0.5968683  0.05475078 0.59626099 0.54186337 0.46360146 0.20750748\n",
      "  0.49477319 0.27462393 0.51193309 0.31782774 0.74511062 0.74310605\n",
      "  0.42558934 0.17833981 0.47031873 0.78262572]\n",
      " [0.50509281 0.13818529 0.65034618 0.27209847 0.37288071 0.59855631\n",
      "  0.76552293 0.88221917 0.17260453 0.43466309 0.70270805 0.38356667\n",
      "  0.15818186 0.4005785  0.33911093 0.64772428 0.76778531 0.77827658\n",
      "  0.28625891 0.09408616 0.38320776 0.50696637 0.65006014 0.75616542\n",
      "  0.98982936 0.36185175 0.47776838 0.35380132 0.46266263 0.72367907\n",
      "  0.59208535 0.68569453 0.69719719 0.36206921 0.54884914 0.52582765\n",
      "  0.32739853 0.55568527 0.87123834 0.20958933 0.85002312 0.89680861\n",
      "  0.43223904 0.80452659 0.29093178 0.60530938 0.57454602 0.86008647\n",
      "  0.13461269 0.24234017 0.70130292 0.51968477 0.22754665 0.\n",
      "  0.68838689 0.87422501 0.5419169  0.75481916 0.83856096 0.61343609\n",
      "  0.89842324 0.62583246 0.27792335 0.63959151 0.7244193  0.24456311\n",
      "  0.6886038  0.68100141 0.23897649 0.07982965 0.39770768 0.85626823\n",
      "  0.51784943 0.18047132 0.56189987 0.64082753 0.26273035 0.52322168\n",
      "  0.46449665 0.227455   0.54014357 0.32876434 0.3648126  0.95505639\n",
      "  0.46293688 0.27034901 0.67752424 0.61681327 0.33363775 0.27336918\n",
      "  0.50523108 0.42838568 0.34147496 0.21748988 0.7376025  0.79423534\n",
      "  0.19981655 0.32396156 0.69496716 0.95052568]\n",
      " [0.33656686 0.81016459 0.13194055 0.52595103 0.61207979 0.39183185\n",
      "  0.09388909 0.37760442 0.80341723 0.33426047 0.78487882 0.50734497\n",
      "  0.84604588 0.69686114 0.39017223 0.50421465 0.35464884 0.21643272\n",
      "  0.50513589 0.77863457 0.46099108 0.30192256 0.14936125 0.67112498\n",
      "  0.34122027 0.33594831 0.24988984 0.78387946 0.55737002 0.61921845\n",
      "  0.12417564 0.22102899 0.24356707 0.65836842 0.73504473 0.16416449\n",
      "  0.65490115 0.3258455  0.30391489 0.70781983 0.2502029  0.30673812\n",
      "  0.28347191 0.29446985 0.40451215 0.69580611 0.18744341 0.17191933\n",
      "  0.5556638  0.4725379  0.41255628 0.64590981 0.50842687 0.68838689\n",
      "  0.         0.33115968 0.27507944 0.76444439 0.75996504 0.07697852\n",
      "  0.84303448 0.07991323 0.91538029 0.09916605 0.76830411 0.44481851\n",
      "  0.69230689 0.19550255 0.62939602 0.61994126 0.31345647 0.16809423\n",
      "  0.45422043 0.66472734 0.28259914 0.68675558 0.61293726 0.28583408\n",
      "  0.36515482 0.70548298 0.16136832 0.52936033 0.43110898 0.26881286\n",
      "  0.78736088 0.45372594 0.33377174 0.33322327 0.70243889 0.43304808\n",
      "  0.46780563 0.26201848 0.79768178 0.60812025 0.62176404 0.48545091\n",
      "  0.84758344 0.36445804 0.28732256 0.27592854]\n",
      " [0.65498998 0.96688993 0.25645774 0.63339274 0.64711988 0.72181023\n",
      "  0.36479756 0.05649608 0.93738755 0.44044773 0.66430813 0.80473598\n",
      "  1.01925634 0.71630623 0.65754829 0.83509331 0.14757033 0.11901512\n",
      "  0.77508946 0.96820569 0.52673069 0.61874058 0.48043225 0.50006989\n",
      "  0.18921159 0.52415588 0.40398175 0.83232999 0.86936065 0.45848725\n",
      "  0.44234159 0.19016175 0.17703479 0.69600039 0.68461217 0.40893257\n",
      "  0.93683666 0.65221065 0.03541472 0.95677937 0.09354677 0.06411083\n",
      "  0.56411576 0.07024748 0.59083752 0.61144261 0.31108797 0.29707575\n",
      "  0.74292501 0.6320267  0.74201257 0.60345667 0.75512385 0.87422501\n",
      "  0.33115968 0.         0.59786662 0.61275244 0.56378853 0.35391301\n",
      "  0.63842253 0.40219258 1.03495736 0.42921421 0.63319505 0.65953541\n",
      "  0.56244428 0.52349838 0.89071104 0.79544496 0.58372452 0.29685992\n",
      "  0.43218021 0.90879372 0.60897501 0.58217892 0.8808305  0.60532484\n",
      "  0.42229535 0.80313182 0.37564845 0.81368724 0.71892173 0.29644001\n",
      "  0.7857727  0.70498964 0.22360058 0.27982994 0.75334621 0.60180613\n",
      "  0.45072798 0.48085531 0.8536832  0.71918911 0.45309537 0.25925273\n",
      "  0.98314786 0.57977502 0.61473547 0.23861483]\n",
      " [0.06389015 0.67879415 0.35243879 0.49575491 0.62668412 0.13712067\n",
      "  0.29916874 0.63835457 0.69510326 0.3860581  0.89235436 0.25006847\n",
      "  0.69484718 0.70853558 0.20301871 0.25178922 0.5852509  0.47916376\n",
      "  0.28471161 0.61744858 0.49090355 0.03787669 0.14675661 0.82615718\n",
      "  0.61208033 0.29769779 0.31634325 0.75732076 0.28479955 0.77470539\n",
      "  0.15556543 0.44568821 0.46913236 0.66139503 0.79691843 0.22398935\n",
      "  0.40592703 0.05781599 0.57401218 0.49038158 0.52336323 0.58023074\n",
      "  0.13435151 0.54996222 0.33136785 0.78870826 0.34248349 0.41588991\n",
      "  0.43152971 0.40428631 0.20869836 0.71605479 0.31971427 0.5419169\n",
      "  0.27507944 0.59786662 0.         0.8959918  0.92188477 0.24570724\n",
      "  1.00391143 0.19727442 0.8092644  0.17796813 0.88792362 0.31802908\n",
      "  0.81756489 0.15110489 0.40487897 0.49581008 0.16194764 0.41247036\n",
      "  0.55618422 0.45652145 0.02447508 0.79536587 0.38227906 0.01913174\n",
      "  0.44300532 0.64569938 0.26149932 0.2865067  0.19671146 0.51275849\n",
      "  0.803026   0.27178232 0.53212889 0.50249527 0.68599628 0.36890977\n",
      "  0.56184249 0.24036424 0.76260725 0.55370321 0.78177186 0.69685516\n",
      "  0.73289826 0.27275372 0.15453043 0.53687528]\n",
      " [0.91893265 0.7564169  0.63325297 0.50815307 0.38216715 1.02910609\n",
      "  0.8502008  0.56959022 0.69332383 0.51201276 0.08132714 0.95780212\n",
      "  0.82497403 0.36847135 0.79734279 1.13632041 0.47407249 0.6277776\n",
      "  0.86985439 0.8226629  0.43592346 0.88956666 0.87040885 0.11392067\n",
      "  0.80195141 0.62049306 0.58083133 0.47276874 1.05158201 0.15545336\n",
      "  0.7915558  0.55795683 0.54114866 0.3966713  0.22524229 0.6845418\n",
      "  1.01022102 0.94983728 0.64098067 0.94281026 0.67655369 0.67526482\n",
      "  0.77772399 0.57114212 0.6301158  0.14991017 0.586819   0.85004829\n",
      "  0.68683395 0.59628938 1.10197564 0.23536188 0.80809382 0.75481916\n",
      "  0.76444439 0.61275244 0.8959918  0.         0.10927494 0.71729972\n",
      "  0.14468951 0.78055295 0.73268598 0.81743092 0.04035426 0.70058219\n",
      "  0.07887662 0.92635525 0.92559028 0.69055777 0.76762522 0.8479117\n",
      "  0.3399871  0.89834554 0.9188614  0.11579658 0.9344796  0.88937761\n",
      "  0.45350636 0.54878538 0.65326696 0.92923934 0.87638123 0.88952409\n",
      "  0.35731555 0.78999044 0.44283094 0.43134843 0.44032383 0.60420625\n",
      "  0.3358264  0.65827805 0.4983216  0.53812545 0.15968869 0.35584461\n",
      "  0.72658289 0.67383235 1.00568562 0.84013684]\n",
      " [0.95147557 0.85099059 0.62819611 0.58023276 0.46702519 1.05778334\n",
      "  0.83974961 0.5150594  0.79004361 0.54830459 0.19041231 1.00945323\n",
      "  0.91923206 0.46551177 0.8450203  1.16865935 0.43748263 0.59858135\n",
      "  0.92747738 0.91144183 0.49382041 0.91984332 0.87903421 0.09631941\n",
      "  0.75071752 0.66417392 0.60607933 0.57556097 1.10131364 0.1471794\n",
      "  0.80374113 0.54318998 0.52337731 0.48838817 0.32890229 0.70241494\n",
      "  1.0750907  0.97776447 0.59512277 1.01802647 0.63774268 0.62776355\n",
      "  0.81237801 0.53273669 0.68424078 0.24482785 0.59441301 0.82462889\n",
      "  0.75924958 0.66032982 1.12315323 0.32237319 0.86965824 0.83856096\n",
      "  0.75996504 0.56378853 0.92188477 0.10927494 0.         0.72228661\n",
      "  0.08332243 0.78695092 0.83556163 0.82399893 0.14960191 0.75891252\n",
      "  0.15154654 0.93469889 0.99369255 0.77008196 0.80665182 0.82291224\n",
      "  0.37779498 0.97194393 0.94359591 0.20240449 1.00017741 0.91741032\n",
      "  0.48852954 0.64230788 0.66804056 0.98571515 0.92459323 0.85270522\n",
      "  0.46327318 0.84592588 0.42729901 0.43117346 0.53655768 0.66254349\n",
      "  0.37888183 0.69109392 0.60139199 0.62110882 0.14081675 0.30551775\n",
      "  0.82527236 0.72195097 1.01870661 0.79918593]\n",
      " [0.30120142 0.73389728 0.10872399 0.44995579 0.54050502 0.37592403\n",
      "  0.16701609 0.39280443 0.72651984 0.26214927 0.73155384 0.45689152\n",
      "  0.77075486 0.62570178 0.32607132 0.49135296 0.34473694 0.234898\n",
      "  0.44334554 0.70437558 0.3891971  0.26488459 0.15753543 0.63030505\n",
      "  0.39820105 0.25907632 0.17618963 0.70957291 0.51637221 0.57796674\n",
      "  0.09273502 0.20451599 0.22828652 0.58595447 0.67162187 0.08783319\n",
      "  0.59845791 0.30178976 0.33227845 0.64203057 0.28612722 0.34262998\n",
      "  0.22210049 0.30425606 0.32797244 0.63822495 0.13056466 0.24691445\n",
      "  0.48013598 0.39558466 0.41553744 0.58308664 0.44049697 0.61343609\n",
      "  0.07697852 0.35391301 0.24570724 0.71729972 0.72228661 0.\n",
      "  0.80560632 0.06485947 0.83841068 0.10178805 0.71792401 0.37087862\n",
      "  0.64270872 0.21269979 0.5661407  0.54400213 0.24881788 0.24310868\n",
      "  0.39487371 0.5975926  0.25923749 0.63276096 0.5514518  0.25191626\n",
      "  0.29820012 0.6290265  0.08581923 0.47299131 0.37530963 0.34180741\n",
      "  0.71733295 0.38617229 0.30481034 0.29112181 0.62851991 0.35613663\n",
      "  0.40696314 0.1858106  0.72281367 0.53155404 0.58208255 0.46585131\n",
      "  0.77075052 0.28956993 0.29968909 0.34251308]\n",
      " [1.03251081 0.90095855 0.71132596 0.64711781 0.5255463  1.13952091\n",
      "  0.9222864  0.58787576 0.83753269 0.62791225 0.21344314 1.08581804\n",
      "  0.96953258 0.51292616 0.92240568 1.24988668 0.51681189 0.67870823\n",
      "  1.00163832 0.96719224 0.56681698 1.00123073 0.96232621 0.17777524\n",
      "  0.82339202 0.74233098 0.68780548 0.61464168 1.1783744  0.22959344\n",
      "  0.88689559 0.6257084  0.60561432 0.54128975 0.36784717 0.78512093\n",
      "  1.1463647  1.05955554 0.67067017 1.08378766 0.71531055 0.70253195\n",
      "  0.89287009 0.61096378 0.75925584 0.29442785 0.67764851 0.9049219\n",
      "  0.82633379 0.73136624 1.20581982 0.37875365 0.9421593  0.89842324\n",
      "  0.84303448 0.63842253 1.00391143 0.14468951 0.08332243 0.80560632\n",
      "  0.         0.87026465 0.87387811 0.90731434 0.18005307 0.83253943\n",
      "  0.21193484 1.01800283 1.06333788 0.83287391 0.88621735 0.90329337\n",
      "  0.45621806 1.03861878 1.0257848  0.25766373 1.07099476 0.99913851\n",
      "  0.56819313 0.69346008 0.75096029 1.06037667 1.00192926 0.93011045\n",
      "  0.49651158 0.92060348 0.51003505 0.51449039 0.58481907 0.73595551\n",
      "  0.45597048 0.77174705 0.63989863 0.68130278 0.22391637 0.38260312\n",
      "  0.87018788 0.79899007 1.10189044 0.87547259]\n",
      " [0.25763735 0.75205719 0.17026866 0.48739773 0.58822182 0.32027845\n",
      "  0.13969754 0.44509145 0.75042502 0.31159914 0.79292744 0.42757195\n",
      "  0.78400123 0.67369323 0.31537863 0.43470878 0.40597222 0.28431114\n",
      "  0.42839061 0.71402537 0.43757099 0.2225685  0.09272362 0.69471746\n",
      "  0.42107849 0.28643947 0.22489388 0.75121702 0.47790363 0.64236602\n",
      "  0.04427491 0.26638012 0.29010201 0.63205151 0.72764576 0.11942318\n",
      "  0.57593901 0.25021833 0.37727342 0.63288276 0.32609047 0.38295633\n",
      "  0.20817286 0.35841492 0.35064564 0.69791684 0.19390286 0.24280394\n",
      "  0.49557458 0.42261835 0.35311594 0.63980191 0.43588896 0.62583246\n",
      "  0.07991323 0.40219258 0.19727442 0.78055295 0.78695092 0.06485947\n",
      "  0.87026465 0.         0.86390659 0.03706985 0.78031203 0.38127155\n",
      "  0.70542145 0.14786257 0.55306186 0.56104967 0.23989089 0.23903037\n",
      "  0.45449616 0.5909103  0.20691563 0.69403789 0.53575654 0.20697077\n",
      "  0.35333116 0.66300356 0.13531695 0.45055084 0.35237484 0.34152691\n",
      "  0.76663224 0.38116814 0.36932588 0.3557808  0.67139311 0.38260053\n",
      "  0.46569392 0.20953202 0.76289523 0.56527255 0.64664315 0.52950224\n",
      "  0.79354932 0.30434994 0.23520082 0.35375859]\n",
      " [0.77785986 0.14438288 0.84931426 0.40537934 0.40848489 0.87511019\n",
      "  1.00104715 1.02922278 0.1147105  0.60875633 0.66073883 0.66086737\n",
      "  0.17715938 0.37520611 0.60708018 0.92542159 0.90553932 0.95872432\n",
      "  0.564153   0.24313624 0.50822672 0.77617448 0.90314105 0.77517595\n",
      "  1.1795968  0.57969755 0.67686503 0.26007176 0.73663389 0.7596931\n",
      "  0.83625855 0.85919345 0.86437236 0.3676317  0.5075318  0.75185776\n",
      "  0.58640685 0.82839244 1.04029122 0.45081971 1.03218787 1.07064337\n",
      "  0.68911369 0.96524213 0.51327363 0.5916501  0.76831151 1.08246567\n",
      "  0.37865898 0.44288096 0.97777279 0.52543395 0.50357954 0.27792335\n",
      "  0.91538029 1.03495736 0.8092644  0.73268598 0.83556163 0.83841068\n",
      "  0.87387811 0.86390659 0.         0.88379318 0.69456665 0.49517039\n",
      "  0.68777945 0.9401839  0.50533533 0.31353277 0.65539777 1.07874565\n",
      "  0.61790233 0.43985972 0.83066729 0.63598508 0.53159281 0.79115764\n",
      "  0.61403455 0.23251604 0.75634562 0.60564497 0.64103211 1.17143215\n",
      "  0.37795355 0.54163044 0.81657611 0.75688359 0.30990431 0.48255514\n",
      "  0.60049258 0.65536308 0.2343844  0.31828076 0.77445342 0.89087235\n",
      "  0.07813418 0.56207234 0.96367903 1.15642686]\n",
      " [0.24078062 0.76841134 0.20533791 0.51415141 0.61924011 0.29287402\n",
      "  0.13197813 0.47408736 0.76974981 0.34419551 0.82924536 0.41837251\n",
      "  0.79767186 0.70469128 0.31918656 0.40590242 0.4401088  0.31276385\n",
      "  0.42813744 0.72597958 0.46923051 0.20752068 0.05643168 0.73178721\n",
      "  0.43430954 0.31029131 0.25787168 0.77921911 0.46223491 0.67943565\n",
      "  0.04771965 0.30117335 0.3248043  0.66228094 0.76198485 0.14980595\n",
      "  0.56999858 0.22703832 0.40271142 0.63465226 0.34936681 0.40589519\n",
      "  0.21302066 0.38877436 0.37151144 0.73367394 0.23090081 0.24415679\n",
      "  0.51161054 0.44490337 0.31943491 0.67447205 0.44158724 0.63959151\n",
      "  0.09916605 0.42921421 0.17796813 0.81743092 0.82399893 0.10178805\n",
      "  0.90731434 0.03706985 0.88379318 0.         0.81695265 0.39568729\n",
      "  0.74216344 0.11094319 0.55295312 0.5775409  0.24652806 0.24052374\n",
      "  0.49035846 0.59431243 0.18391969 0.73034307 0.5341994  0.19028898\n",
      "  0.38781002 0.68755299 0.16984265 0.44551802 0.34813224 0.3428428\n",
      "  0.79809345 0.3872451  0.40570322 0.39282598 0.70010003 0.40493778\n",
      "  0.50124598 0.23337849 0.79014565 0.58999643 0.68370709 0.56511705\n",
      "  0.81220164 0.32203704 0.1992898  0.36137626]\n",
      " [0.90825074 0.72160847 0.638136   0.48362838 0.35295598 1.01956953\n",
      "  0.85584904 0.59217041 0.65772585 0.50226152 0.04167705 0.93964073\n",
      "  0.79020886 0.33359588 0.78124237 1.1251393  0.49153253 0.6413311\n",
      "  0.84960184 0.79009879 0.41814309 0.87985117 0.86893995 0.14166708\n",
      "  0.82227417 0.60688146 0.57475778 0.43493929 1.0339404  0.17502898\n",
      "  0.78909872 0.56697833 0.55139997 0.36414818 0.18781996 0.68052741\n",
      "  0.98679392 0.94081528 0.66019999 0.91544777 0.69314734 0.6948546\n",
      "  0.7667767  0.58829725 0.6122563  0.11982162 0.58740455 0.86110425\n",
      "  0.66125959 0.57458086 1.09508599 0.20724399 0.78647295 0.7244193\n",
      "  0.76830411 0.63319505 0.88792362 0.04035426 0.14960191 0.71792401\n",
      "  0.18005307 0.78031203 0.69456665 0.81695265 0.         0.68066382\n",
      "  0.07625353 0.92478279 0.90106908 0.66205296 0.75502859 0.85882569\n",
      "  0.33235121 0.87170918 0.91115312 0.09465095 0.91088538 0.88051888\n",
      "  0.4449614  0.51481621 0.65063411 0.90927283 0.85979192 0.90449544\n",
      "  0.31825146 0.77066446 0.45347127 0.4366531  0.40550733 0.58479211\n",
      "  0.32608763 0.64869067 0.46033451 0.50874127 0.18206661 0.37938708\n",
      "  0.69014323 0.65813025 1.00211176 0.85673773]\n",
      " [0.29739347 0.37324295 0.41890407 0.21063446 0.35513365 0.4069334\n",
      "  0.52096012 0.67650449 0.38047048 0.24388066 0.67245641 0.26123692\n",
      "  0.40272991 0.4257209  0.12584781 0.48669405 0.57414224 0.55401446\n",
      "  0.16930865 0.33382237 0.26573167 0.28803376 0.40952066 0.66531919\n",
      "  0.75664376 0.13583991 0.25563077 0.45052606 0.35634635 0.62135936\n",
      "  0.3480508  0.46957069 0.48508532 0.37705422 0.54435096 0.28404154\n",
      "  0.31963373 0.3459774  0.65136391 0.30062717 0.62294136 0.67344408\n",
      "  0.1939459  0.59222205 0.07908931 0.56515832 0.34966944 0.61672054\n",
      "  0.1171319  0.11025722 0.5056522  0.48008255 0.11276468 0.24456311\n",
      "  0.44481851 0.65953541 0.31802908 0.70058219 0.75891252 0.37087862\n",
      "  0.83253943 0.38127155 0.49517039 0.39568729 0.68066382 0.\n",
      "  0.62376758 0.44504467 0.24782816 0.18323588 0.16031736 0.6128965\n",
      "  0.3876251  0.25164273 0.34078605 0.58670489 0.24766368 0.3008983\n",
      "  0.29422305 0.33118419 0.30248736 0.22869113 0.19142119 0.71263373\n",
      "  0.51598525 0.09057374 0.48900414 0.43296361 0.38753916 0.09659622\n",
      "  0.38264165 0.1887333  0.45242378 0.24520233 0.6329478  0.63227216\n",
      "  0.42067146 0.08274771 0.47222149 0.71120521]\n",
      " [0.8401129  0.69953748 0.56197834 0.43521061 0.31620781 0.95042552\n",
      "  0.77964975 0.52355823 0.63899087 0.43322213 0.10190796 0.88002656\n",
      "  0.76773721 0.3151504  0.71897869 1.05747605 0.41890365 0.5663606\n",
      "  0.79307518 0.76025793 0.35847867 0.81084692 0.79457361 0.09443248\n",
      "  0.75107866 0.54172665 0.50284592 0.4285548  0.9735917  0.10943401\n",
      "  0.71516608 0.49088587 0.47552541 0.33685935 0.18649653 0.60737698\n",
      "  0.93542161 0.87123033 0.5884058  0.87193196 0.61956548 0.62327831\n",
      "  0.69887626 0.5152208  0.55241765 0.09655422 0.51214639 0.78527123\n",
      "  0.6144089  0.5207283  1.02388091 0.17086072 0.73217632 0.6886038\n",
      "  0.69230689 0.56244428 0.81756489 0.07887662 0.15154654 0.64270872\n",
      "  0.21193484 0.70542145 0.68777945 0.74216344 0.07625353 0.62376758\n",
      "  0.         0.85047597 0.85178172 0.62165486 0.68876144 0.78296338\n",
      "  0.26141016 0.82668867 0.84052178 0.05181079 0.85987581 0.81079123\n",
      "  0.37485279 0.49082617 0.5767335  0.85227423 0.79812046 0.82991796\n",
      "  0.32209279 0.71279863 0.37777341 0.36042195 0.38569511 0.52724385\n",
      "  0.25697689 0.57954029 0.45454787 0.47113987 0.11990729 0.31318538\n",
      "  0.6748262  0.59541959 0.92880968 0.78299452]\n",
      " [0.2103868  0.81556538 0.31490862 0.59373667 0.70973478 0.21773063\n",
      "  0.17495399 0.5719158  0.82547455 0.44148018 0.93576953 0.39853778\n",
      "  0.83671876 0.79464493 0.34381359 0.32091124 0.54759914 0.41132858\n",
      "  0.43496095 0.76090581 0.56267082 0.18890524 0.0559562  0.84218559\n",
      "  0.49790978 0.38702782 0.35742387 0.85999327 0.41999778 0.78982843\n",
      "  0.13657556 0.41004395 0.4334762  0.7502323  0.86186703 0.24784668\n",
      "  0.5549795  0.17531449 0.49413334 0.64130352 0.43738497 0.49208532\n",
      "  0.25111667 0.48990086 0.43863524 0.83826998 0.34087148 0.28907711\n",
      "  0.56192481 0.51371182 0.21857973 0.77561834 0.465076   0.68100141\n",
      "  0.19550255 0.52349838 0.15110489 0.92635525 0.93469889 0.21269979\n",
      "  1.01800283 0.14786257 0.9401839  0.11094319 0.92478279 0.44504467\n",
      "  0.85047597 0.         0.55592788 0.62777    0.28510396 0.2861627\n",
      "  0.59578239 0.60663871 0.14126155 0.83690569 0.53337896 0.16973811\n",
      "  0.48961718 0.75905079 0.27447271 0.43730591 0.3474734  0.38012226\n",
      "  0.88901554 0.4141612  0.51636414 0.50356103 0.78341128 0.4748678\n",
      "  0.60565509 0.31369991 0.86865929 0.66302141 0.79429143 0.67475691\n",
      "  0.86558132 0.38307957 0.09183181 0.4138405 ]\n",
      " [0.3496768  0.36098779 0.63893044 0.41755739 0.55339022 0.41325325\n",
      "  0.68483107 0.91322908 0.40922047 0.49144069 0.88672525 0.17671606\n",
      "  0.34525669 0.60380568 0.24007973 0.43451175 0.8171805  0.77866659\n",
      "  0.12484844 0.26684883 0.50171332 0.36703424 0.54268949 0.90258646\n",
      "  0.96426416 0.37806577 0.49281068 0.58193358 0.23445146 0.86131929\n",
      "  0.51081302 0.70344192 0.72123805 0.55857964 0.74321435 0.48928531\n",
      "  0.09106802 0.39560022 0.87833675 0.08619034 0.84269138 0.89651596\n",
      "  0.34594784 0.82619894 0.32682168 0.78193621 0.58027134 0.79537596\n",
      "  0.24075219 0.33382354 0.51232096 0.69444317 0.13807204 0.23897649\n",
      "  0.62939602 0.89071104 0.40487897 0.92559028 0.99369255 0.5661407\n",
      "  1.06333788 0.55306186 0.50533533 0.55295312 0.90106908 0.24782816\n",
      "  0.85178172 0.55592788 0.         0.25850363 0.31734169 0.79164034\n",
      "  0.63088914 0.06719772 0.4176067  0.80988718 0.02788046 0.38619159\n",
      "  0.54185266 0.45126855 0.51789902 0.12420704 0.20880321 0.89426758\n",
      "  0.67998103 0.18572594 0.73428755 0.67960393 0.54579232 0.33777511\n",
      "  0.62405739 0.40989455 0.57305892 0.40581506 0.87361935 0.88002338\n",
      "  0.42939765 0.31632909 0.5409327  0.90528073]\n",
      " [0.46633906 0.1910192  0.57514257 0.19577629 0.30911953 0.56782643\n",
      "  0.70029568 0.80275333 0.19930619 0.35541851 0.64308554 0.37198948\n",
      "  0.22855186 0.34888303 0.29416706 0.62962652 0.6879956  0.70099567\n",
      "  0.26890951 0.17301248 0.30493378 0.46307851 0.59274649 0.68524613\n",
      "  0.91428855 0.2882198  0.4015225  0.32488015 0.45967394 0.65077819\n",
      "  0.52982308 0.60743606 0.61847249 0.30595895 0.4931358  0.45616914\n",
      "  0.34954328 0.51664199 0.79307629 0.25477078 0.77314123 0.8191375\n",
      "  0.37672098 0.72561785 0.21736882 0.54228735 0.49812898 0.79090127\n",
      "  0.06614054 0.16344694 0.66982358 0.4553474  0.20093287 0.07982965\n",
      "  0.61994126 0.79544496 0.49581008 0.69055777 0.77008196 0.54400213\n",
      "  0.83287391 0.56104967 0.31353277 0.5775409  0.66205296 0.18323588\n",
      "  0.62165486 0.62777    0.25850363 0.         0.3426725  0.78709903\n",
      "  0.44010038 0.21444918 0.51739212 0.57541666 0.27682901 0.47779014\n",
      "  0.38466865 0.19397689 0.46784477 0.32096601 0.33516736 0.88455157\n",
      "  0.4217846  0.23102389 0.59770693 0.53698486 0.28795766 0.1963352\n",
      "  0.42804777 0.3581992  0.318005   0.15404223 0.66445765 0.71530158\n",
      "  0.23789783 0.25675545 0.65028325 0.87766488]\n",
      " [0.15781304 0.53088302 0.32783946 0.33565465 0.47067746 0.2721351\n",
      "  0.37710554 0.61246996 0.54071892 0.25836858 0.75493319 0.22630977\n",
      "  0.55486681 0.55065744 0.07726198 0.37104898 0.53143643 0.46795417\n",
      "  0.19489053 0.48124137 0.34369414 0.1376566  0.25238896 0.71037251\n",
      "  0.64699797 0.14881146 0.21415282 0.59555993 0.30607786 0.66102571\n",
      "  0.20055067 0.40340142 0.42394831 0.50289441 0.64775971 0.17540613\n",
      "  0.35361848 0.19989495 0.56800762 0.3944148  0.52861798 0.58361277\n",
      "  0.0345377  0.52325815 0.17041102 0.64881916 0.28139654 0.48244231\n",
      "  0.27689023 0.2424629  0.36266519 0.57108433 0.1960151  0.39770768\n",
      "  0.31345647 0.58372452 0.16194764 0.76762522 0.80665182 0.24881788\n",
      "  0.88621735 0.23989089 0.65539777 0.24652806 0.75502859 0.16031736\n",
      "  0.68876144 0.28510396 0.31734169 0.3426725  0.         0.47865008\n",
      "  0.430297   0.35140539 0.18586512 0.66077883 0.30288358 0.14666856\n",
      "  0.31813832 0.48408158 0.2082459  0.22997172 0.1372928  0.58089992\n",
      "  0.64467337 0.14132725 0.45976972 0.41575253 0.52509808 0.20785613\n",
      "  0.43227673 0.12096143 0.60066805 0.39175557 0.6700887  0.62044653\n",
      "  0.58051711 0.11189835 0.31416306 0.58881071]\n",
      " [0.47635291 0.97682444 0.24498547 0.68283439 0.75474377 0.5037959\n",
      "  0.11376332 0.35300498 0.96786298 0.48321688 0.88163127 0.6582696\n",
      "  1.01376674 0.8374953  0.55440523 0.60517458 0.38706486 0.2246413\n",
      "  0.66683706 0.94670168 0.60640695 0.44534572 0.26672245 0.74357323\n",
      "  0.21479719 0.50116365 0.40460692 0.9332058  0.69644324 0.69445559\n",
      "  0.2808326  0.29294214 0.30743895 0.80283088 0.85587312 0.33093872\n",
      "  0.81051126 0.45327876 0.26176928 0.87188305 0.20377201 0.24482188\n",
      "  0.44720114 0.29733882 0.57074994 0.80393808 0.32320333 0.00382566\n",
      "  0.72320628 0.63677789 0.49302709 0.76689954 0.67448177 0.85626823\n",
      "  0.16809423 0.29685992 0.41247036 0.8479117  0.82291224 0.24310868\n",
      "  0.90329337 0.23903037 1.07874565 0.24052374 0.85882569 0.6128965\n",
      "  0.78296338 0.2861627  0.79164034 0.78709903 0.47865008 0.\n",
      "  0.57321725 0.82989339 0.41274885 0.78714834 0.77371791 0.42711532\n",
      "  0.50270194 0.86368266 0.32246167 0.68600251 0.58843655 0.10263176\n",
      "  0.92408533 0.61973154 0.40544143 0.42838369 0.85099852 0.59779895\n",
      "  0.58929966 0.42889984 0.94888015 0.76725831 0.69360549 0.5234678\n",
      "  1.01246081 0.53230679 0.36611934 0.12769209]\n",
      " [0.57937975 0.57554446 0.33237542 0.24621747 0.21635215 0.68913805\n",
      "  0.5464461  0.41717747 0.5324185  0.17259184 0.34032187 0.63234264\n",
      "  0.63722572 0.28452464 0.46733016 0.79691168 0.29217406 0.38515827\n",
      "  0.55375385 0.60513159 0.13551617 0.54965188 0.54030889 0.28200775\n",
      "  0.60137551 0.28639008 0.24249056 0.40049293 0.72368648 0.23515292\n",
      "  0.45936406 0.28903994 0.28347457 0.26454201 0.28312824 0.34937756\n",
      "  0.70706893 0.60985222 0.44517324 0.66752524 0.45377058 0.47895679\n",
      "  0.43851471 0.36623048 0.31030709 0.24346001 0.26712479 0.57616868\n",
      "  0.4109934  0.29994335 0.7628543  0.19388759 0.50014925 0.51784943\n",
      "  0.45422043 0.43218021 0.55618422 0.3399871  0.37779498 0.39487371\n",
      "  0.45621806 0.45449616 0.61790233 0.49035846 0.33235121 0.3876251\n",
      "  0.26141016 0.59578239 0.63088914 0.44010038 0.430297   0.57321725\n",
      "  0.         0.61913149 0.57920871 0.24169161 0.63394656 0.54939881\n",
      "  0.11356336 0.38640397 0.3214405  0.61086885 0.54689798 0.64064414\n",
      "  0.35965703 0.47158376 0.20861086 0.15688475 0.32280127 0.29340561\n",
      "  0.01854779 0.31844232 0.42239942 0.31885204 0.24604224 0.2798403\n",
      "  0.57659143 0.34456472 0.6707283  0.60584898]\n",
      " [0.40485392 0.29575357 0.66196742 0.39181762 0.52008544 0.47564518\n",
      "  0.72616065 0.92754296 0.34684133 0.49296337 0.85473681 0.24075903\n",
      "  0.27809515 0.56333125 0.27561956 0.50113594 0.82568375 0.8001308\n",
      "  0.17180986 0.19995598 0.48601894 0.41872141 0.58904283 0.88318373\n",
      "  0.9938398  0.38713738 0.50598371 0.53108055 0.30164487 0.84441747\n",
      "  0.5501932  0.71946039 0.7357516  0.52006198 0.70684247 0.51647112\n",
      "  0.14825309 0.45255114 0.89883881 0.04926906 0.86673869 0.91910583\n",
      "  0.38278629 0.84237945 0.32754738 0.75195729 0.59779893 0.83367644\n",
      "  0.21269913 0.31919638 0.57589778 0.66446521 0.15722788 0.18047132\n",
      "  0.66472734 0.90879372 0.45652145 0.89834554 0.97194393 0.5975926\n",
      "  1.03861878 0.5909103  0.43985972 0.59431243 0.87170918 0.25164273\n",
      "  0.82668867 0.60663871 0.06719772 0.21444918 0.35140539 0.82989339\n",
      "  0.61913149 0.         0.47118891 0.78260793 0.09488343 0.43751209\n",
      "  0.53877117 0.40170257 0.54183021 0.18623326 0.26011971 0.93224628\n",
      "  0.63454878 0.21142888 0.73992113 0.68289554 0.50156847 0.33102512\n",
      "  0.61050865 0.42998065 0.52033353 0.36737067 0.85730111 0.87873769\n",
      "  0.36468577 0.32908369 0.59797133 0.93948145]\n",
      " [0.06920953 0.6991686  0.36710854 0.52010113 0.65115889 0.11821177\n",
      "  0.29900929 0.6507943  0.71669214 0.40956667 0.91591335 0.25727995\n",
      "  0.71382747 0.73299873 0.2237429  0.23379656 0.60134873 0.49071312\n",
      "  0.29961538 0.63596771 0.51519485 0.05494653 0.14604777 0.8480106\n",
      "  0.61596699 0.3221455  0.33866072 0.78138346 0.28387459 0.79643041\n",
      "  0.16732357 0.46136555 0.48494938 0.68584119 0.82119592 0.24376994\n",
      "  0.41373306 0.04333033 0.5841611  0.50351836 0.53229242 0.58903224\n",
      "  0.15874566 0.56299007 0.3555865  0.81247751 0.36120296 0.41606115\n",
      "  0.45349715 0.42830559 0.18472069 0.74015015 0.33809247 0.56189987\n",
      "  0.28259914 0.60897501 0.02447508 0.9188614  0.94359591 0.25923749\n",
      "  1.0257848  0.20691563 0.83066729 0.18391969 0.91115312 0.34078605\n",
      "  0.84052178 0.14126155 0.4176067  0.51739212 0.18586512 0.41274885\n",
      "  0.57920871 0.47118891 0.         0.81877158 0.39417439 0.03988778\n",
      "  0.46619241 0.66922513 0.2807838  0.29712799 0.21109956 0.51173446\n",
      "  0.82748156 0.29155261 0.55050387 0.52242699 0.71027265 0.39312515\n",
      "  0.58511241 0.26419231 0.78650904 0.57756414 0.80330796 0.71504767\n",
      "  0.75405438 0.29695898 0.13319034 0.53848031]\n",
      " [0.81451546 0.64866673 0.55858254 0.39239609 0.26795531 0.92623252\n",
      "  0.77630756 0.54691977 0.58767448 0.40934915 0.09890562 0.84524323\n",
      "  0.71696554 0.26349193 0.68659533 1.0311679  0.43597634 0.5757484\n",
      "  0.7558085  0.71089561 0.32356739 0.78650979 0.78125915 0.1430517\n",
      "  0.76922991 0.51247017 0.48395416 0.37686034 0.93945658 0.14621988\n",
      "  0.700681   0.49421197 0.48086593 0.28631469 0.13683467 0.59103205\n",
      "  0.8947667  0.84774643 0.60606246 0.82719796 0.63304137 0.6411945\n",
      "  0.67302008 0.53051193 0.51774975 0.04542912 0.50279118 0.78965148\n",
      "  0.57103747 0.48138144 1.00304025 0.12136651 0.69329231 0.64082753\n",
      "  0.68675558 0.58217892 0.79536587 0.11579658 0.20240449 0.63276096\n",
      "  0.25766373 0.69403789 0.63598508 0.73034307 0.09465095 0.58670489\n",
      "  0.05181079 0.83690569 0.80988718 0.57541666 0.66077883 0.78714834\n",
      "  0.24169161 0.78260793 0.81877158 0.         0.81897076 0.78756609\n",
      "  0.35291884 0.44004455 0.56243311 0.81538234 0.7651717  0.83979201\n",
      "  0.27186802 0.67653367 0.38509485 0.35975164 0.33424722 0.49063499\n",
      "  0.23393064 0.55560797 0.40286337 0.42364119 0.15907092 0.34184058\n",
      "  0.62323725 0.5634818  0.91241928 0.79546997]\n",
      " [0.32577111 0.38720996 0.62752171 0.4273559  0.56561782 0.38644642\n",
      "  0.66582764 0.90485985 0.43402065 0.48958482 0.89767354 0.14963241\n",
      "  0.37276469 0.61885756 0.22593257 0.4066313  0.81136545 0.76758788\n",
      "  0.1081139  0.29410308 0.50692415 0.34453889 0.52191664 0.90821338\n",
      "  0.9496208  0.3738485  0.4860768  0.60140872 0.20694274 0.86596759\n",
      "  0.49299553 0.6947697  0.7131451  0.57294297 0.75624487 0.47666918\n",
      "  0.07599358 0.37085699 0.867485   0.11180223 0.83044603 0.88478585\n",
      "  0.33001855 0.8172037  0.32665879 0.79220411 0.571338   0.77742969\n",
      "  0.2534307  0.33987756 0.48508633 0.70489115 0.13525989 0.26273035\n",
      "  0.61293726 0.8808305  0.38227906 0.9344796  1.00017741 0.5514518\n",
      "  1.07099476 0.53575654 0.53159281 0.5341994  0.91088538 0.24766368\n",
      "  0.85987581 0.53337896 0.02788046 0.27682901 0.30288358 0.77371791\n",
      "  0.63394656 0.09488343 0.39417439 0.81897076 0.         0.36378452\n",
      "  0.54165854 0.47053154 0.5065286  0.09845712 0.18754932 0.87633611\n",
      "  0.6969651  0.17753732 0.72983808 0.6762688  0.56256012 0.34057526\n",
      "  0.6278795  0.40074109 0.5933527  0.42078531 0.87800302 0.87814305\n",
      "  0.45529252 0.31120995 0.51595048 0.8888448 ]\n",
      " [0.05073315 0.66023356 0.35716678 0.48171408 0.61413634 0.14038335\n",
      "  0.31422193 0.64466409 0.67709632 0.37828002 0.88413222 0.23326091\n",
      "  0.67592006 0.6954392  0.18452411 0.25291025 0.58816086 0.48640339\n",
      "  0.26570615 0.59844325 0.4802566  0.01930511 0.16271196 0.82147701\n",
      "  0.62456156 0.28601029 0.3113486  0.74220363 0.27200331 0.77026497\n",
      "  0.16405492 0.4492161  0.472479   0.64806062 0.78622639 0.22345101\n",
      "  0.38866844 0.06051111 0.58225511 0.47159472 0.53258386 0.58948406\n",
      "  0.12106131 0.55584656 0.31682867 0.77992678 0.34283844 0.4305834\n",
      "  0.41374853 0.38910483 0.21918518 0.70619802 0.30066932 0.52322168\n",
      "  0.28583408 0.60532484 0.01913174 0.88937761 0.91741032 0.25191626\n",
      "  0.99913851 0.20697077 0.79115764 0.19028898 0.88051888 0.3008983\n",
      "  0.81079123 0.16973811 0.38619159 0.47779014 0.14666856 0.42711532\n",
      "  0.54939881 0.43751209 0.03988778 0.78756609 0.36378452 0.\n",
      "  0.43595619 0.62951066 0.26142618 0.2684223  0.17782753 0.52792975\n",
      "  0.7897904  0.25299098 0.53255974 0.50096742 0.67158986 0.35434049\n",
      "  0.55448894 0.23197031 0.74710106 0.53812615 0.77764091 0.6973544\n",
      "  0.71466389 0.25820342 0.17252337 0.55070631]\n",
      " [0.46588637 0.54619001 0.25788157 0.21112384 0.25217261 0.57559987\n",
      "  0.45900131 0.42230356 0.51509246 0.05977507 0.45074741 0.52623741\n",
      "  0.60129873 0.33491199 0.35983192 0.68344136 0.30404103 0.34674245\n",
      "  0.45391231 0.55685351 0.10842131 0.43609105 0.43491605 0.39227219\n",
      "  0.56849541 0.17827777 0.13251223 0.43351788 0.61578489 0.34330736\n",
      "  0.35314185 0.24642242 0.25039569 0.3006536  0.37431482 0.24178605\n",
      "  0.6122468  0.49638186 0.42631649 0.58796676 0.41988253 0.45665402\n",
      "  0.3252085  0.35218402 0.215134   0.34978547 0.18076333 0.50601462\n",
      "  0.34216089 0.22649182 0.65021814 0.28667956 0.40642665 0.46449665\n",
      "  0.36515482 0.42229535 0.44300532 0.45350636 0.48852954 0.29820012\n",
      "  0.56819313 0.35333116 0.61403455 0.38781002 0.4449614  0.29422305\n",
      "  0.37485279 0.48961718 0.54185266 0.38466865 0.31813832 0.50270194\n",
      "  0.11356336 0.53877117 0.46619241 0.35291884 0.54165854 0.43595619\n",
      "  0.         0.3837968  0.21808153 0.50894645 0.43906798 0.58179623\n",
      "  0.42319441 0.37177424 0.21339683 0.15243137 0.35128815 0.20786074\n",
      "  0.11900835 0.20488911 0.451135   0.29702158 0.35284984 0.33997165\n",
      "  0.56085869 0.23956084 0.56118243 0.55602271]\n",
      " [0.62856767 0.20873415 0.62721684 0.18100904 0.18468382 0.73748888\n",
      "  0.79521768 0.79673381 0.15148651 0.38426303 0.48842513 0.56052684\n",
      "  0.27692725 0.18177386 0.45637157 0.81062453 0.6730278  0.73010258\n",
      "  0.45682298 0.27756393 0.27670545 0.61788064 0.71537875 0.57000555\n",
      "  0.95166323 0.37726226 0.45907577 0.1309118  0.65083909 0.5469624\n",
      "  0.64137327 0.63000841 0.63406271 0.15408838 0.33118856 0.5457677\n",
      "  0.54229181 0.67690104 0.80931884 0.43585881 0.80341972 0.84020739\n",
      "  0.51459143 0.73362193 0.32041941 0.39960893 0.54588688 0.86730577\n",
      "  0.23518744 0.24533939 0.83679567 0.3204783  0.38664639 0.227455\n",
      "  0.70548298 0.80313182 0.64569938 0.54878538 0.64230788 0.6290265\n",
      "  0.69346008 0.66300356 0.23251604 0.68755299 0.51481621 0.33118419\n",
      "  0.49082617 0.75905079 0.45126855 0.19397689 0.48408158 0.86368266\n",
      "  0.38640397 0.40170257 0.66922513 0.44004455 0.47053154 0.62951066\n",
      "  0.3837968  0.         0.54420919 0.51183248 0.51236196 0.95242282\n",
      "  0.23555476 0.40473129 0.58409981 0.52454497 0.11056289 0.28440731\n",
      "  0.36932652 0.45422596 0.12531546 0.09774696 0.56163468 0.66221682\n",
      "  0.19277404 0.37687823 0.79805625 0.93333986]\n",
      " [0.30474062 0.65602953 0.12104551 0.36458983 0.45563648 0.39844392\n",
      "  0.25280922 0.40460213 0.64543841 0.17757695 0.661298   0.43186707\n",
      "  0.69600813 0.54097659 0.2820552  0.51326371 0.33105254 0.26106618\n",
      "  0.39993724 0.63261822 0.30441766 0.26909115 0.21888483 0.57363897\n",
      "  0.45440998 0.17987102 0.0909707  0.62376124 0.5034332  0.52147321\n",
      "  0.13846666 0.19697155 0.21867537 0.5006587  0.5923766  0.0382273\n",
      "  0.56120644 0.31922516 0.36101787 0.58836533 0.32520681 0.37862494\n",
      "  0.19101126 0.31519279 0.25048796 0.56437949 0.08151534 0.32619653\n",
      "  0.40572019 0.31442118 0.45566151 0.50468085 0.38530114 0.54014357\n",
      "  0.16136832 0.37564845 0.26149932 0.65326696 0.66804056 0.08581923\n",
      "  0.75096029 0.13531695 0.75634562 0.16984265 0.65063411 0.30248736\n",
      "  0.5767335  0.27447271 0.51789902 0.46784477 0.2082459  0.32246167\n",
      "  0.3214405  0.54183021 0.2807838  0.56243311 0.5065286  0.26142618\n",
      "  0.21808153 0.54420919 0.         0.4381913  0.34445424 0.41735683\n",
      "  0.6331635  0.33296608 0.27114882 0.24192757 0.54275772 0.27571029\n",
      "  0.33177979 0.1138184  0.63701173 0.4469576  0.52723672 0.43593858\n",
      "  0.69012661 0.21974517 0.35256508 0.41038449]\n",
      " [0.22828543 0.4624867  0.5576449  0.43326479 0.57718474 0.28959869\n",
      "  0.57604328 0.84202131 0.5009082  0.45235463 0.90043523 0.05581307\n",
      "  0.45732234 0.64051133 0.15882176 0.32056646 0.75687172 0.69761737\n",
      "  0.05998145 0.37736998 0.49391721 0.24911723 0.42895806 0.8912964\n",
      "  0.86927583 0.332221   0.43268583 0.64147108 0.13900899 0.84590394\n",
      "  0.40683328 0.63242084 0.65239715 0.5926141  0.76827111 0.40505566\n",
      "  0.12564386 0.27257666 0.7976275  0.21004296 0.75686795 0.8123905\n",
      "  0.25156008 0.7529947  0.30148007 0.79329731 0.50952632 0.68965074\n",
      "  0.27886302 0.33595498 0.38967347 0.70761769 0.12868784 0.32876434\n",
      "  0.52936033 0.81368724 0.2865067  0.92923934 0.98571515 0.47299131\n",
      "  1.06037667 0.45055084 0.60564497 0.44551802 0.90927283 0.22869113\n",
      "  0.85227423 0.43730591 0.12420704 0.32096601 0.22997172 0.68600251\n",
      "  0.61086885 0.18623326 0.29712799 0.81538234 0.09845712 0.2684223\n",
      "  0.50894645 0.51183248 0.4381913  0.         0.09825573 0.78835793\n",
      "  0.72543409 0.13980832 0.68034467 0.63095171 0.59195155 0.32505586\n",
      "  0.60758157 0.3416174  0.63705751 0.44628251 0.85690954 0.83575753\n",
      "  0.52784399 0.26960026 0.41753849 0.80426522]\n",
      " [0.14584719 0.50292312 0.4624986  0.4015016  0.54552547 0.23408038\n",
      "  0.47922717 0.74904734 0.53006356 0.38019898 0.85496938 0.08966028\n",
      "  0.51004598 0.61714067 0.07957304 0.29835669 0.66856985 0.60201242\n",
      "  0.08856204 0.43079655 0.4416984  0.15884287 0.33436858 0.82890561\n",
      "  0.7710896  0.26102667 0.34837234 0.63697363 0.17684172 0.78135723\n",
      "  0.3087525  0.54044437 0.56115422 0.56847184 0.73310074 0.31001155\n",
      "  0.22386281 0.19516814 0.70186925 0.29385228 0.65998476 0.71578282\n",
      "  0.15501581 0.6596377  0.24829568 0.74757805 0.41868126 0.59210532\n",
      "  0.27896553 0.30084934 0.33674984 0.66470103 0.13748431 0.3648126\n",
      "  0.43110898 0.71892173 0.19671146 0.87638123 0.92459323 0.37530963\n",
      "  1.00192926 0.35237484 0.64103211 0.34813224 0.85979192 0.19142119\n",
      "  0.79812046 0.3474734  0.20880321 0.33516736 0.1372928  0.58843655\n",
      "  0.54689798 0.26011971 0.21109956 0.7651717  0.18754932 0.17782753\n",
      "  0.43906798 0.51236196 0.34445424 0.09825573 0.         0.69090893\n",
      "  0.7071825  0.10766092 0.59559274 0.54945882 0.57760414 0.27938341\n",
      "  0.54602522 0.25531843 0.63654917 0.43330858 0.7914326  0.75463265\n",
      "  0.56306346 0.20298618 0.3395939  0.70612238]\n",
      " [0.57662158 1.07334689 0.32604179 0.77145574 0.83338408 0.59734609\n",
      "  0.21370964 0.35172678 1.06181326 0.56890554 0.93073207 0.75989321\n",
      "  1.11205762 0.91414444 0.65685063 0.69403876 0.41673403 0.2640623\n",
      "  0.76946755 1.04618057 0.68830091 0.54639077 0.36622697 0.78057331\n",
      "  0.15188574 0.59714763 0.49476398 1.01511579 0.79559429 0.73419974\n",
      "  0.38346341 0.35218982 0.36130193 0.8822372  0.91991336 0.42923683\n",
      "  0.91267595 0.55127021 0.26199842 0.97440967 0.21496258 0.23411744\n",
      "  0.54966073 0.32023264 0.66746019 0.86093484 0.4070701  0.0989088\n",
      "  0.82136915 0.73133498 0.57703783 0.83209652 0.77657487 0.95505639\n",
      "  0.26881286 0.29644001 0.51275849 0.88952409 0.85270522 0.34180741\n",
      "  0.93011045 0.34152691 1.17143215 0.3428428  0.90449544 0.71263373\n",
      "  0.82991796 0.38012226 0.89426758 0.88455157 0.58089992 0.10263176\n",
      "  0.64064414 0.93224628 0.51173446 0.83979201 0.87633611 0.52792975\n",
      "  0.58179623 0.95242282 0.41735683 0.78835793 0.69090893 0.\n",
      "  0.99755267 0.72182718 0.4547608  0.48831477 0.93281985 0.69296096\n",
      "  0.65775532 0.52679627 1.03205028 0.85711093 0.73139709 0.54759573\n",
      "  1.10679906 0.63133717 0.45354886 0.06185102]\n",
      " [0.80075175 0.42427855 0.67926102 0.30996302 0.17930056 0.91450329\n",
      "  0.88123295 0.7631427  0.35611311 0.45558681 0.28310741 0.76897088\n",
      "  0.49176913 0.09472219 0.63905042 1.0018031  0.64022265 0.74477793\n",
      "  0.66706784 0.50803293 0.329062   0.78223452 0.83804762 0.41491152\n",
      "  0.96026851 0.50722856 0.5422969  0.12274887 0.86276507 0.41137131\n",
      "  0.75724331 0.64777389 0.64307559 0.14178155 0.13567513 0.64829631\n",
      "  0.77086658 0.84456452 0.80183418 0.67055139 0.81324354 0.83623161\n",
      "  0.66885951 0.72268603 0.47502978 0.22646737 0.60389774 0.92728119\n",
      "  0.44794005 0.40881547 1.00733854 0.18776856 0.5968683  0.46293688\n",
      "  0.78736088 0.7857727  0.803026   0.35731555 0.46327318 0.71733295\n",
      "  0.49651158 0.76663224 0.37795355 0.79809345 0.31825146 0.51598525\n",
      "  0.32209279 0.88901554 0.67998103 0.4217846  0.64467337 0.92408533\n",
      "  0.35965703 0.63454878 0.82748156 0.27186802 0.6969651  0.7897904\n",
      "  0.42319441 0.23555476 0.6331635  0.72543409 0.7071825  0.99755267\n",
      "  0.         0.60203118 0.56458721 0.51637199 0.13445331 0.43822136\n",
      "  0.34170317 0.57608481 0.14617198 0.27922537 0.42552654 0.58203887\n",
      "  0.38210489 0.53297393 0.94563453 0.96491416]\n",
      " [0.23623099 0.40780852 0.45386104 0.30015899 0.44480122 0.3370998\n",
      "  0.51828472 0.7278091  0.42882546 0.31679493 0.76288941 0.17074808\n",
      "  0.42338412 0.51332366 0.07040041 0.40601322 0.6339337  0.59330149\n",
      "  0.0822983  0.34681849 0.35434005 0.2366174  0.38843195 0.75159318\n",
      "  0.78286811 0.19829807 0.3085476  0.52946934 0.26588111 0.70645642\n",
      "  0.3417331  0.51787523 0.53592765 0.46478046 0.63458993 0.30586509\n",
      "  0.24252991 0.28678015 0.69283598 0.2563053  0.65812888 0.71149609\n",
      "  0.17423275 0.64055518 0.16172608 0.65554948 0.39460975 0.62353098\n",
      "  0.17213888 0.20038974 0.4388632  0.57062518 0.05475078 0.27034901\n",
      "  0.45372594 0.70498964 0.27178232 0.78999044 0.84592588 0.38617229\n",
      "  0.92060348 0.38116814 0.54163044 0.3872451  0.77066446 0.09057374\n",
      "  0.71279863 0.4141612  0.18572594 0.23102389 0.14132725 0.61973154\n",
      "  0.47158376 0.21142888 0.29155261 0.67653367 0.17753732 0.25299098\n",
      "  0.37177424 0.40473129 0.33296608 0.13980832 0.10766092 0.72182718\n",
      "  0.60203118 0.         0.55309568 0.50058698 0.47129569 0.1858988\n",
      "  0.46796571 0.22417119 0.52889272 0.32637718 0.71759893 0.70388758\n",
      "  0.46428042 0.13508908 0.4246277  0.72810905]\n",
      " [0.57544773 0.75784684 0.20308395 0.42128664 0.42372926 0.66861944\n",
      "  0.41253985 0.21265635 0.72308612 0.24804298 0.47732954 0.68522766\n",
      "  0.81419997 0.49294864 0.52212978 0.78386346 0.09077918 0.19083968\n",
      "  0.6317977  0.77015168 0.31020314 0.54005969 0.4619791  0.34157059\n",
      "  0.3965212  0.3562559  0.24779228 0.60876867 0.76508191 0.29093119\n",
      "  0.39360112 0.11627268 0.09832349 0.47249466 0.47105139 0.30923729\n",
      "  0.79506864 0.58993756 0.23733207 0.78911815 0.25225971 0.27164455\n",
      "  0.45188198 0.15818566 0.41244595 0.40679691 0.18973849 0.40767978\n",
      "  0.55260546 0.43742465 0.71863656 0.38618099 0.59626099 0.67752424\n",
      "  0.33377174 0.22360058 0.53212889 0.44283094 0.42729901 0.30481034\n",
      "  0.51003505 0.36932588 0.81657611 0.40570322 0.45347127 0.48900414\n",
      "  0.37777341 0.51636414 0.73428755 0.59770693 0.45976972 0.40544143\n",
      "  0.20861086 0.73992113 0.55050387 0.38509485 0.72983808 0.53255974\n",
      "  0.21339683 0.58409981 0.27114882 0.68034467 0.59559274 0.4547608\n",
      "  0.56458721 0.55309568 0.         0.06115041 0.53007128 0.41386302\n",
      "  0.22715764 0.34031235 0.63025435 0.50466562 0.29159202 0.16479517\n",
      "  0.76848494 0.41862824 0.60447309 0.41200526]\n",
      " [0.54106237 0.69675692 0.20191613 0.36025289 0.36820744 0.63961506\n",
      "  0.41928312 0.2728602  0.66244831 0.18997962 0.45596954 0.63904222\n",
      "  0.75305126 0.44062209 0.47396198 0.75377169 0.15192959 0.22903245\n",
      "  0.58053806 0.70927959 0.24963987 0.50665968 0.44796536 0.33954144\n",
      "  0.44456611 0.30252217 0.20161157 0.55384982 0.7218274  0.28728447\n",
      "  0.37392925 0.13663334 0.12777451 0.41738524 0.43162004 0.27866503\n",
      "  0.74307835 0.5599368  0.28996407 0.73215047 0.29690585 0.32315743\n",
      "  0.41131963 0.21172546 0.35542264 0.37557821 0.16426648 0.4310207\n",
      "  0.4927755  0.37735637 0.69679343 0.34415547 0.54186337 0.61681327\n",
      "  0.33322327 0.27982994 0.50249527 0.43134843 0.43117346 0.29112181\n",
      "  0.51449039 0.3557808  0.75688359 0.39282598 0.4366531  0.43296361\n",
      "  0.36042195 0.50356103 0.67960393 0.53698486 0.41575253 0.42838369\n",
      "  0.15688475 0.68289554 0.52242699 0.35975164 0.6762688  0.50096742\n",
      "  0.15243137 0.52454497 0.24192757 0.63095171 0.54945882 0.48831477\n",
      "  0.51637199 0.50058698 0.06115041 0.         0.4740914  0.35495195\n",
      "  0.17512928 0.29491749 0.57466405 0.44394923 0.2910201  0.20520748\n",
      "  0.70791891 0.36555067 0.58837384 0.45069783]\n",
      " [0.67846031 0.31614992 0.60760326 0.19078151 0.10646496 0.79113987\n",
      "  0.7952639  0.73997672 0.25353857 0.36889986 0.37820539 0.63647611\n",
      "  0.38473759 0.07191575 0.51237634 0.87423024 0.6149751  0.69382876\n",
      "  0.53399969 0.38810121 0.24476066 0.66252653 0.73514264 0.46888341\n",
      "  0.91478485 0.3966093  0.45264843 0.08230788 0.72977622 0.45053408\n",
      "  0.65649678 0.59368939 0.59373414 0.05937793 0.22074583 0.55197489\n",
      "  0.63660277 0.72407283 0.76392323 0.53890404 0.76576392 0.79668743\n",
      "  0.55178733 0.6858094  0.35476127 0.29226888 0.52787045 0.85443532\n",
      "  0.31383389 0.28406067 0.88655496 0.21786932 0.46360146 0.33363775\n",
      "  0.70243889 0.75334621 0.68599628 0.44032383 0.53655768 0.62851991\n",
      "  0.58481907 0.67139311 0.30990431 0.70010003 0.40550733 0.38753916\n",
      "  0.38569511 0.78341128 0.54579232 0.28795766 0.52509808 0.85099852\n",
      "  0.32280127 0.50156847 0.71027265 0.33424722 0.56256012 0.67158986\n",
      "  0.35128815 0.11056289 0.54275772 0.59195155 0.57760414 0.93281985\n",
      "  0.13445331 0.47129569 0.53007128 0.4740914  0.         0.31725887\n",
      "  0.30443144 0.47020377 0.10076684 0.14583008 0.46530101 0.5854808\n",
      "  0.28933436 0.4133882  0.83320269 0.90704448]\n",
      " [0.36261097 0.38099528 0.37918415 0.12832134 0.26840869 0.47628211\n",
      "  0.51866437 0.61233102 0.37038498 0.16604475 0.57756009 0.35530027\n",
      "  0.42448543 0.34500614 0.20468536 0.5660661  0.50231731 0.50496286\n",
      "  0.26585665 0.36744227 0.16914047 0.34538855 0.43103237 0.56924425\n",
      "  0.71805661 0.09715192 0.2052281  0.3888823  0.45006501 0.52588655\n",
      "  0.35814414 0.41263746 0.42484044 0.29670923 0.45390605 0.26931051\n",
      "  0.41410779 0.40721225 0.59803353 0.38017867 0.57691069 0.62343981\n",
      "  0.23496526 0.53246755 0.03754221 0.47014071 0.3017941  0.60155838\n",
      "  0.14116559 0.04002404 0.56990965 0.38600453 0.20750748 0.27336918\n",
      "  0.43304808 0.60180613 0.36890977 0.60420625 0.66254349 0.35613663\n",
      "  0.73595551 0.38260053 0.48255514 0.40493778 0.58479211 0.09659622\n",
      "  0.52724385 0.4748678  0.33777511 0.1963352  0.20785613 0.59779895\n",
      "  0.29340561 0.33102512 0.39312515 0.49063499 0.34057526 0.35434049\n",
      "  0.20786074 0.28440731 0.27571029 0.32505586 0.27938341 0.69296096\n",
      "  0.43822136 0.1858988  0.41386302 0.35495195 0.31725887 0.\n",
      "  0.28742649 0.17320447 0.39543099 0.18819351 0.53771543 0.54780906\n",
      "  0.4147269  0.09616702 0.5178497  0.68329331]\n",
      " [0.58315357 0.56011056 0.34751002 0.23318863 0.19800719 0.69378041\n",
      "  0.5604356  0.43557559 0.51604105 0.17638178 0.33195322 0.63057192\n",
      "  0.62231759 0.26602087 0.46647748 0.80049918 0.31056804 0.40307745\n",
      "  0.54991962 0.59165201 0.1249474  0.55411512 0.55040256 0.28381885\n",
      "  0.61967952 0.28657421 0.25038765 0.38197898 0.72260918 0.23873663\n",
      "  0.46910208 0.30650183 0.30137332 0.24608481 0.26802587 0.35847484\n",
      "  0.70152309 0.61483273 0.46367285 0.65864972 0.47194744 0.49742431\n",
      "  0.44189978 0.38474726 0.30629799 0.23263819 0.28042051 0.59228918\n",
      "  0.40107003 0.2916484  0.7692165  0.1786926  0.49477319 0.50523108\n",
      "  0.46780563 0.45072798 0.56184249 0.3358264  0.37888183 0.40696314\n",
      "  0.45597048 0.46569392 0.60049258 0.50124598 0.32608763 0.38264165\n",
      "  0.25697689 0.60565509 0.62405739 0.42804777 0.43227673 0.58929966\n",
      "  0.01854779 0.61050865 0.58511241 0.23393064 0.6278795  0.55448894\n",
      "  0.11900835 0.36932652 0.33177979 0.60758157 0.54602522 0.65775532\n",
      "  0.34170317 0.46796571 0.22715764 0.17512928 0.30443144 0.28742649\n",
      "  0.         0.32281898 0.40393576 0.30364793 0.25034052 0.29519091\n",
      "  0.5600159  0.34318187 0.67923479 0.62348466]\n",
      " [0.2610897  0.54816678 0.23220716 0.2818263  0.39703563 0.37096146\n",
      "  0.34568648 0.50416728 0.54250369 0.14645182 0.65220746 0.34497355\n",
      "  0.58526975 0.48150879 0.1828064  0.47865927 0.41525432 0.37023986\n",
      "  0.29692301 0.52015195 0.25369365 0.23131471 0.26498438 0.59479873\n",
      "  0.56819692 0.07702787 0.09332632 0.54787639 0.42695411 0.54456801\n",
      "  0.18770871 0.29403842 0.31271253 0.43664949 0.55873388 0.09798467\n",
      "  0.46037797 0.29215227 0.46931297 0.47719652 0.4369906  0.48912619\n",
      "  0.12136213 0.41650657 0.14268952 0.5483452  0.17059806 0.43270211\n",
      "  0.29458026 0.21319132 0.44891175 0.47639531 0.27462393 0.42838568\n",
      "  0.26201848 0.48085531 0.24036424 0.65827805 0.69109392 0.1858106\n",
      "  0.77174705 0.20953202 0.65536308 0.23337849 0.64869067 0.1887333\n",
      "  0.57954029 0.31369991 0.40989455 0.3581992  0.12096143 0.42889984\n",
      "  0.31844232 0.42998065 0.26419231 0.55560797 0.40074109 0.23197031\n",
      "  0.20488911 0.45422596 0.1138184  0.3416174  0.25531843 0.52679627\n",
      "  0.57608481 0.22417119 0.34031235 0.29491749 0.47020377 0.17320447\n",
      "  0.32281898 0.         0.55784149 0.35662878 0.55301014 0.49982276\n",
      "  0.58625724 0.10603483 0.37125754 0.52299215]\n",
      " [0.74903788 0.28229449 0.70638097 0.27607252 0.2065659  0.85935706\n",
      "  0.88982079 0.83943521 0.2130782  0.46582487 0.42712742 0.68583856\n",
      "  0.34850932 0.14856507 0.57819878 0.93490535 0.71443721 0.79450928\n",
      "  0.58213599 0.37243896 0.34376842 0.73644315 0.8223344  0.54360141\n",
      "  1.01553249 0.4822131  0.54787466 0.02602442 0.77606633 0.53167967\n",
      "  0.74538721 0.69432002 0.69448969 0.1578591  0.27314744 0.643792\n",
      "  0.66379151 0.79655094 0.86456116 0.55096365 0.8665056  0.89739175\n",
      "  0.62966961 0.78635179 0.43267905 0.35812047 0.62614329 0.95236027\n",
      "  0.36036145 0.35851548 0.95762088 0.29703317 0.51193309 0.34147496\n",
      "  0.79768178 0.8536832  0.76260725 0.4983216  0.60139199 0.72281367\n",
      "  0.63989863 0.76289523 0.2343844  0.79014565 0.46033451 0.45242378\n",
      "  0.45454787 0.86865929 0.57305892 0.318005   0.60066805 0.94888015\n",
      "  0.42239942 0.52033353 0.78650904 0.40286337 0.5933527  0.74710106\n",
      "  0.451135   0.12531546 0.63701173 0.63705751 0.63654917 1.03205028\n",
      "  0.14617198 0.52889272 0.63025435 0.57466405 0.10076684 0.39543099\n",
      "  0.40393576 0.55784149 0.         0.20898715 0.54634993 0.67952943\n",
      "  0.23632168 0.49075394 0.9130965  1.00712732]\n",
      " [0.54054802 0.2567636  0.53283838 0.08710326 0.15597388 0.65164202\n",
      "  0.69758582 0.71674237 0.21854501 0.2908933  0.48912548 0.49066465\n",
      "  0.31877515 0.19809325 0.37097343 0.73094196 0.59495916 0.6404833\n",
      "  0.38818732 0.29411082 0.1945258  0.52747886 0.61855497 0.53961939\n",
      "  0.86132327 0.27972683 0.36282227 0.20547754 0.58396215 0.50897723\n",
      "  0.54395849 0.5411067  0.54684269 0.15300832 0.33947622 0.44804736\n",
      "  0.49583248 0.58774764 0.7231635  0.40874742 0.71395351 0.7530249\n",
      "  0.42110645 0.64914707 0.22490982 0.38914376 0.45156532 0.77090495\n",
      "  0.16905657 0.15010469 0.74916346 0.30277474 0.31782774 0.21748988\n",
      "  0.60812025 0.71918911 0.55370321 0.53812545 0.62110882 0.53155404\n",
      "  0.68130278 0.56527255 0.31828076 0.58999643 0.50874127 0.24520233\n",
      "  0.47113987 0.66302141 0.40581506 0.15404223 0.39175557 0.76725831\n",
      "  0.31885204 0.36737067 0.57756414 0.42364119 0.42078531 0.53812615\n",
      "  0.29702158 0.09774696 0.4469576  0.44628251 0.43330858 0.85711093\n",
      "  0.27922537 0.32637718 0.50466562 0.44394923 0.14583008 0.18819351\n",
      "  0.30364793 0.35662878 0.20898715 0.         0.52316174 0.59865858\n",
      "  0.26414273 0.28242603 0.70470107 0.83966787]\n",
      " [0.81257603 0.76825122 0.48982767 0.46963979 0.37780972 0.91795823\n",
      "  0.70362047 0.41058997 0.71293902 0.41241024 0.21723165 0.87771275\n",
      "  0.83492665 0.39967755 0.71197884 1.02941374 0.31508767 0.47129454\n",
      "  0.79973268 0.81724551 0.37211047 0.7804971  0.73856063 0.0500498\n",
      "  0.64230352 0.53040947 0.4665097  0.52048258 0.96826188 0.01476718\n",
      "  0.66298014 0.40785518 0.38928709 0.40997656 0.29341282 0.56171512\n",
      "  0.95182297 0.83790057 0.48132276 0.90474254 0.51769523 0.51557875\n",
      "  0.67437061 0.41213717 0.5561792  0.20220716 0.45377075 0.69557057\n",
      "  0.64559126 0.54014864 0.98245172 0.24952771 0.74511062 0.7376025\n",
      "  0.62176404 0.45309537 0.78177186 0.15968869 0.14081675 0.58208255\n",
      "  0.22391637 0.64664315 0.77445342 0.68370709 0.18206661 0.6329478\n",
      "  0.11990729 0.79429143 0.87361935 0.66445765 0.6700887  0.69360549\n",
      "  0.24604224 0.85730111 0.80330796 0.15907092 0.87800302 0.77764091\n",
      "  0.35284984 0.56163468 0.52723672 0.85690954 0.7914326  0.73139709\n",
      "  0.42552654 0.71759893 0.29159202 0.2910201  0.46530101 0.53771543\n",
      "  0.25034052 0.55301014 0.54634993 0.52316174 0.         0.19736754\n",
      "  0.75228215 0.58994764 0.87797496 0.68113898]\n",
      " [0.74007105 0.85526679 0.35990148 0.52457507 0.48262546 0.8332139\n",
      "  0.55447941 0.21382337 0.81061479 0.38865809 0.41352647 0.84423232\n",
      "  0.91704642 0.53197421 0.67911315 0.94854299 0.13688179 0.29927101\n",
      "  0.78454765 0.88329694 0.41145173 0.704773   0.62154711 0.24221221\n",
      "  0.44773385 0.50560151 0.40650431 0.65511509 0.92647141 0.20487305\n",
      "  0.55634754 0.26504596 0.24201203 0.52617472 0.46234334 0.47400758\n",
      "  0.94635975 0.75466903 0.28981439 0.92793787 0.33272346 0.32291115\n",
      "  0.61456624 0.22853506 0.55351627 0.37819314 0.35453086 0.52486643\n",
      "  0.67930181 0.5642025  0.88114931 0.3943678  0.74310605 0.79423534\n",
      "  0.48545091 0.25925273 0.69685516 0.35584461 0.30551775 0.46585131\n",
      "  0.38260312 0.52950224 0.89087235 0.56511705 0.37938708 0.63227216\n",
      "  0.31318538 0.67475691 0.88002338 0.71530158 0.62044653 0.5234678\n",
      "  0.2798403  0.87873769 0.71504767 0.34184058 0.87814305 0.6973544\n",
      "  0.33997165 0.66221682 0.43593858 0.83575753 0.75463265 0.54759573\n",
      "  0.58203887 0.70388758 0.16479517 0.20520748 0.5854808  0.54780906\n",
      "  0.29519091 0.49982276 0.67952943 0.59865858 0.19736754 0.\n",
      "  0.85413464 0.56884325 0.76440679 0.49367188]\n",
      " [0.70048699 0.0695613  0.78743881 0.34985419 0.37704857 0.79712847\n",
      "  0.93162412 0.98076694 0.04586733 0.55004399 0.65934821 0.58297192\n",
      "  0.11966706 0.35978064 0.53033639 0.84742207 0.85854275 0.90175604\n",
      "  0.48602547 0.17223787 0.45830032 0.69943354 0.82974017 0.75794176\n",
      "  1.1213279  0.51167832 0.61364306 0.25942366 0.65955905 0.73754978\n",
      "  0.76454218 0.80323768 0.80994333 0.34238032 0.50247753 0.68355126\n",
      "  0.51215072 0.75105475 0.98647973 0.37865372 0.9751778  1.01581477\n",
      "  0.61447987 0.91304083 0.44361474 0.58051775 0.70704523 1.01621321\n",
      "  0.30365913 0.37570689 0.89981326 0.50697198 0.42558934 0.19981655\n",
      "  0.84758344 0.98314786 0.73289826 0.72658289 0.82527236 0.77075052\n",
      "  0.87018788 0.79354932 0.07813418 0.81220164 0.69014323 0.42067146\n",
      "  0.6748262  0.86558132 0.42939765 0.23789783 0.58051711 1.01246081\n",
      "  0.57659143 0.36468577 0.75405438 0.62323725 0.45529252 0.71466389\n",
      "  0.56085869 0.19277404 0.69012661 0.52784399 0.56306346 1.10679906\n",
      "  0.38210489 0.46428042 0.76848494 0.70791891 0.28933436 0.4147269\n",
      "  0.5600159  0.58625724 0.23632168 0.26414273 0.75228215 0.85413464\n",
      "  0.         0.49016528 0.88716972 1.09422358]\n",
      " [0.26813241 0.44773126 0.33651401 0.22375672 0.36006983 0.38229588\n",
      "  0.44354156 0.59891278 0.44782749 0.18280854 0.6548955  0.28780675\n",
      "  0.48160658 0.43913905 0.12359711 0.47616164 0.50085187 0.472526\n",
      "  0.21598561 0.4148858  0.24098734 0.24954958 0.34220445 0.62646987\n",
      "  0.67391831 0.06324943 0.1773083  0.48478024 0.37942917 0.57951096\n",
      "  0.27438836 0.39038781 0.40693307 0.39121936 0.54054501 0.20219022\n",
      "  0.37761878 0.31165864 0.57049689 0.37732836 0.54085528 0.59187532\n",
      "  0.13898944 0.51332433 0.05863344 0.54780985 0.26896644 0.53612515\n",
      "  0.19159578 0.13233769 0.47443582 0.4670796  0.17833981 0.32396156\n",
      "  0.36445804 0.57977502 0.27275372 0.67383235 0.72195097 0.28956993\n",
      "  0.79899007 0.30434994 0.56207234 0.32203704 0.65813025 0.08274771\n",
      "  0.59541959 0.38307957 0.31632909 0.25675545 0.11189835 0.53230679\n",
      "  0.34456472 0.32908369 0.29695898 0.5634818  0.31120995 0.25820342\n",
      "  0.23956084 0.37687823 0.21974517 0.26960026 0.20298618 0.63133717\n",
      "  0.53297393 0.13508908 0.41862824 0.36555067 0.4133882  0.09616702\n",
      "  0.34318187 0.10603483 0.49075394 0.28242603 0.58994764 0.56884325\n",
      "  0.49016528 0.         0.42236088 0.62883235]\n",
      " [0.19374675 0.83233072 0.40459196 0.64242157 0.76727218 0.15323472\n",
      "  0.25985895 0.66355256 0.84958658 0.50914554 1.01095928 0.37096344\n",
      "  0.84624528 0.85091269 0.35690942 0.24049617 0.63855514 0.5031071\n",
      "  0.42785536 0.76800299 0.6247656  0.18804564 0.14286125 0.92516808\n",
      "  0.58044533 0.43854057 0.42889186 0.90666959 0.37217043 0.87286577\n",
      "  0.21505141 0.50026434 0.52382614 0.80486299 0.92852429 0.32158687\n",
      "  0.52514612 0.14547713 0.5849458  0.62711161 0.52770437 0.58181131\n",
      "  0.28362624 0.58173258 0.48047321 0.91096576 0.42438339 0.36865919\n",
      "  0.58605979 0.55467762 0.12857488 0.84420369 0.47031873 0.69496716\n",
      "  0.28732256 0.61473547 0.15453043 1.00568562 1.01870661 0.29968909\n",
      "  1.10189044 0.23520082 0.96367903 0.1992898  1.00211176 0.47222149\n",
      "  0.92880968 0.09183181 0.5409327  0.65028325 0.31416306 0.36611934\n",
      "  0.6707283  0.59797133 0.13319034 0.91241928 0.51595048 0.17252337\n",
      "  0.56118243 0.79805625 0.35256508 0.41753849 0.3395939  0.45354886\n",
      "  0.94563453 0.4246277  0.60447309 0.58837384 0.83320269 0.5178497\n",
      "  0.67923479 0.37125754 0.9130965  0.70470107 0.87797496 0.76440679\n",
      "  0.88716972 0.42236088 0.         0.49311119]\n",
      " [0.60059292 1.0642472  0.30711418 0.75308115 0.8053738  0.63142506\n",
      "  0.24044563 0.29294493 1.04880637 0.54914333 0.88440221 0.77951255\n",
      "  1.10608881 0.88418923 0.66578761 0.73263841 0.36609284 0.22213617\n",
      "  0.78106443 1.04292399 0.66393339 0.56847241 0.39254519 0.72980132\n",
      "  0.0934722  0.58945869 0.48061158 0.98911756 0.82154124 0.68468698\n",
      "  0.39745249 0.31714582 0.32293371 0.85461995 0.88140476 0.42744679\n",
      "  0.92954879 0.57961215 0.20508811 0.98319078 0.16363448 0.17521225\n",
      "  0.55933339 0.26901848 0.66039287 0.81872686 0.38818999 0.12485961\n",
      "  0.81606485 0.72054369 0.6192513  0.79466567 0.78262572 0.95052568\n",
      "  0.27592854 0.23861483 0.53687528 0.84013684 0.79918593 0.34251308\n",
      "  0.87547259 0.35375859 1.15642686 0.36137626 0.85673773 0.71120521\n",
      "  0.78299452 0.4138405  0.90528073 0.87766488 0.58881071 0.12769209\n",
      "  0.60584898 0.93948145 0.53848031 0.79546997 0.8888448  0.55070631\n",
      "  0.55602271 0.93333986 0.41038449 0.80426522 0.70612238 0.06185102\n",
      "  0.96491416 0.72810905 0.41200526 0.45069783 0.90704448 0.68329331\n",
      "  0.62348466 0.52299215 1.00712732 0.83966787 0.68113898 0.49367188\n",
      "  1.09422358 0.62883235 0.49311119 0.        ]]\n"
     ]
    }
   ],
   "source": [
    "coordinates = np.random.random((100, 2))\n",
    "distances = np.sqrt(np.sum((coordinates[None, :] - coordinates[:, None])**2, axis=-1))\n",
    "print(distances)"
   ]
  },
  {
   "cell_type": "markdown",
   "id": "7e82aad2",
   "metadata": {},
   "source": [
    "#### 53. How to convert a float (32 bits) array into an integer (32 bits) in place?"
   ]
  },
  {
   "cell_type": "code",
   "execution_count": 60,
   "id": "8a8e6517",
   "metadata": {},
   "outputs": [
    {
     "name": "stdout",
     "output_type": "stream",
     "text": [
      "[1073789320 1087001630 1074664304 1084808016 1068964263 1092228402\n",
      " 1091213811 1091989979 1091057460 1091265874]\n"
     ]
    }
   ],
   "source": [
    "float_array = np.random.uniform(0, 10, 10).astype(np.float32)\n",
    "int_array = float_array.view(np.int32)\n",
    "print(int_array)"
   ]
  },
  {
   "cell_type": "markdown",
   "id": "c5e248cc",
   "metadata": {},
   "source": [
    "#### 54. How to read the following file? (★★☆)\n",
    "```\n",
    "1, 2, 3, 4, 5\n",
    "6,  ,  , 7, 8\n",
    " ,  , 9,10,11\n",
    "```"
   ]
  },
  {
   "cell_type": "code",
   "execution_count": 134,
   "id": "4ce81de8",
   "metadata": {},
   "outputs": [
    {
     "name": "stdout",
     "output_type": "stream",
     "text": [
      "[[ 1  2  3  4  5]\n",
      " [ 6  0  0  7  8]\n",
      " [ 0  0  9 10 11]]\n"
     ]
    }
   ],
   "source": [
    "from io import StringIO\n",
    "\n",
    "file_content = '''1, 2, 3, 4, 5\n",
    "6,  ,  , 7, 8\n",
    " ,  , 9,10,11\n",
    "'''\n",
    "\n",
    "string = StringIO(file_content)\n",
    "A = np.genfromtxt(string, delimiter=\",\", dtype=int, missing_values='', filling_values=0)\n",
    "\n",
    "print(A)\n"
   ]
  },
  {
   "cell_type": "markdown",
   "id": "83680d35",
   "metadata": {},
   "source": [
    "#### 55. What is the equivalent of enumerate for numpy arrays? (★★☆)"
   ]
  },
  {
   "cell_type": "code",
   "execution_count": 69,
   "id": "b4be9161",
   "metadata": {},
   "outputs": [
    {
     "name": "stdout",
     "output_type": "stream",
     "text": [
      "(0,) 11\n",
      "(1,) 22\n",
      "(2,) 33\n",
      "(3,) 44\n",
      "(4,) 55\n"
     ]
    }
   ],
   "source": [
    "array = np.array([11, 22, 33, 44, 55])\n",
    "for index, value in np.ndenumerate(array):\n",
    "    print(index, value)"
   ]
  },
  {
   "cell_type": "markdown",
   "id": "2f62421f",
   "metadata": {},
   "source": [
    "#### 56. Generate a generic 2D Gaussian-like array (★★☆)"
   ]
  },
  {
   "cell_type": "code",
   "execution_count": 70,
   "id": "8e520148",
   "metadata": {},
   "outputs": [
    {
     "name": "stdout",
     "output_type": "stream",
     "text": [
      "[[0.36787944 0.44822088 0.51979489 0.57375342 0.60279818 0.60279818\n",
      "  0.57375342 0.51979489 0.44822088 0.36787944]\n",
      " [0.44822088 0.54610814 0.63331324 0.69905581 0.73444367 0.73444367\n",
      "  0.69905581 0.63331324 0.54610814 0.44822088]\n",
      " [0.51979489 0.63331324 0.73444367 0.81068432 0.85172308 0.85172308\n",
      "  0.81068432 0.73444367 0.63331324 0.51979489]\n",
      " [0.57375342 0.69905581 0.81068432 0.89483932 0.9401382  0.9401382\n",
      "  0.89483932 0.81068432 0.69905581 0.57375342]\n",
      " [0.60279818 0.73444367 0.85172308 0.9401382  0.98773022 0.98773022\n",
      "  0.9401382  0.85172308 0.73444367 0.60279818]\n",
      " [0.60279818 0.73444367 0.85172308 0.9401382  0.98773022 0.98773022\n",
      "  0.9401382  0.85172308 0.73444367 0.60279818]\n",
      " [0.57375342 0.69905581 0.81068432 0.89483932 0.9401382  0.9401382\n",
      "  0.89483932 0.81068432 0.69905581 0.57375342]\n",
      " [0.51979489 0.63331324 0.73444367 0.81068432 0.85172308 0.85172308\n",
      "  0.81068432 0.73444367 0.63331324 0.51979489]\n",
      " [0.44822088 0.54610814 0.63331324 0.69905581 0.73444367 0.73444367\n",
      "  0.69905581 0.63331324 0.54610814 0.44822088]\n",
      " [0.36787944 0.44822088 0.51979489 0.57375342 0.60279818 0.60279818\n",
      "  0.57375342 0.51979489 0.44822088 0.36787944]]\n"
     ]
    }
   ],
   "source": [
    "x, y = np.meshgrid(np.linspace(-1, 1, 10), np.linspace(-1, 1, 10))\n",
    "d = np.sqrt(x*x + y*y)\n",
    "sigma, mu = 1.0, 0.0\n",
    "gaussian_array = np.exp(-( (d-mu)**2 / ( 2.0 * sigma**2 ) ) )\n",
    "print(gaussian_array)"
   ]
  },
  {
   "cell_type": "markdown",
   "id": "dc93c68c",
   "metadata": {},
   "source": [
    "#### 57. How to randomly place p elements in a 2D array? (★★☆)"
   ]
  },
  {
   "cell_type": "code",
   "execution_count": 71,
   "id": "f8cc8a9b",
   "metadata": {},
   "outputs": [
    {
     "name": "stdout",
     "output_type": "stream",
     "text": [
      "[[0. 0. 0. 1. 0.]\n",
      " [0. 0. 0. 0. 0.]\n",
      " [1. 0. 0. 0. 0.]\n",
      " [0. 0. 0. 0. 0.]\n",
      " [0. 0. 0. 1. 0.]]\n"
     ]
    }
   ],
   "source": [
    "p = 3\n",
    "array = np.zeros((5, 5))\n",
    "np.put(array, np.random.choice(range(5*5), p, replace=False), 1)\n",
    "print(array)"
   ]
  },
  {
   "cell_type": "markdown",
   "id": "b14763aa",
   "metadata": {},
   "source": [
    "#### 58. Subtract the mean of each row of a matrix (★★☆)"
   ]
  },
  {
   "cell_type": "code",
   "execution_count": 63,
   "id": "c7f2db70",
   "metadata": {},
   "outputs": [
    {
     "name": "stdout",
     "output_type": "stream",
     "text": [
      "[[ 0.48141957 -0.18704536 -0.43670404  0.33018976 -0.18785993]\n",
      " [ 0.0330013  -0.17880982  0.47739274 -0.09386813 -0.23771609]\n",
      " [ 0.42904374 -0.04463975 -0.456504    0.1466457  -0.07454569]\n",
      " [-0.23229302 -0.16453958 -0.17148139  0.30250422  0.26580978]\n",
      " [-0.01948509 -0.29316729 -0.00703371  0.54299091 -0.22330482]]\n"
     ]
    }
   ],
   "source": [
    "matrix = np.random.rand(5, 5)\n",
    "mean_of_rows = matrix.mean(axis=1, keepdims=True)\n",
    "result = matrix - mean_of_rows\n",
    "print(result)"
   ]
  },
  {
   "cell_type": "markdown",
   "id": "35ec0df2",
   "metadata": {},
   "source": [
    "#### 59. How to sort an array by the nth column? (★★☆)"
   ]
  },
  {
   "cell_type": "code",
   "execution_count": 62,
   "id": "bdad9135",
   "metadata": {},
   "outputs": [
    {
     "name": "stdout",
     "output_type": "stream",
     "text": [
      "[[2 3 0 0 3]\n",
      " [7 4 1 2 1]\n",
      " [1 5 2 1 6]\n",
      " [2 0 6 7 8]\n",
      " [2 0 7 1 9]]\n"
     ]
    }
   ],
   "source": [
    "matrix = np.random.randint(0, 10, (5, 5))\n",
    "n = 2  # Sort by the third column\n",
    "sorted_matrix = matrix[matrix[:, n].argsort()]\n",
    "print(sorted_matrix)"
   ]
  },
  {
   "cell_type": "markdown",
   "id": "87d19d08",
   "metadata": {},
   "source": [
    "#### 60. How to tell if a given 2D array has null columns? (★★☆)"
   ]
  },
  {
   "cell_type": "code",
   "execution_count": 72,
   "id": "34a85d52",
   "metadata": {},
   "outputs": [
    {
     "name": "stdout",
     "output_type": "stream",
     "text": [
      "False\n"
     ]
    }
   ],
   "source": [
    "matrix = np.random.randint(0, 2, (5, 5))\n",
    "has_null_columns = not np.any(matrix.sum(axis=0))\n",
    "print(has_null_columns)"
   ]
  },
  {
   "cell_type": "markdown",
   "id": "98d3a488",
   "metadata": {},
   "source": [
    "#### 61. Find the nearest value from a given value in an array (★★☆)"
   ]
  },
  {
   "cell_type": "code",
   "execution_count": 73,
   "id": "195a0c0d",
   "metadata": {},
   "outputs": [
    {
     "name": "stdout",
     "output_type": "stream",
     "text": [
      "0.4090477164433257\n"
     ]
    }
   ],
   "source": [
    "array = np.random.uniform(0, 1, 10)\n",
    "given_value = 0.5\n",
    "nearest_value = array[np.abs(array - given_value).argmin()]\n",
    "print(nearest_value)"
   ]
  },
  {
   "cell_type": "markdown",
   "id": "f89026ee",
   "metadata": {},
   "source": [
    "#### 62. Considering two arrays with shape (1,3) and (3,1), how to compute their sum using an iterator? (★★☆)"
   ]
  },
  {
   "cell_type": "code",
   "execution_count": 74,
   "id": "4fe68d0e",
   "metadata": {},
   "outputs": [
    {
     "name": "stdout",
     "output_type": "stream",
     "text": [
      "[[0 1 2]\n",
      " [1 2 3]\n",
      " [2 3 4]]\n"
     ]
    }
   ],
   "source": [
    "A = np.arange(3).reshape(1, 3)\n",
    "B = np.arange(3).reshape(3, 1)\n",
    "iterator = np.nditer([A, B, None])\n",
    "for x, y, z in iterator:\n",
    "    z[...] = x + y\n",
    "print(iterator.operands[2])"
   ]
  },
  {
   "cell_type": "markdown",
   "id": "8dfcc131",
   "metadata": {},
   "source": [
    "#### 63. Create an array class that has a name attribute (★★☆)"
   ]
  },
  {
   "cell_type": "code",
   "execution_count": 75,
   "id": "9e3d10ca",
   "metadata": {},
   "outputs": [
    {
     "name": "stdout",
     "output_type": "stream",
     "text": [
      "My Array\n"
     ]
    }
   ],
   "source": [
    "class NamedArray(np.ndarray):\n",
    "    def __new__(cls, array, name=\"No Name\"):\n",
    "        obj = np.asarray(array).view(cls)\n",
    "        obj.name = name\n",
    "        return obj\n",
    "\n",
    "    def __array_finalize__(self, obj):\n",
    "        if obj is None:\n",
    "            return\n",
    "        self.name = getattr(obj, 'name', 'No Name')\n",
    "\n",
    "array = NamedArray(np.arange(10), \"My Array\")\n",
    "print(array.name)"
   ]
  },
  {
   "cell_type": "markdown",
   "id": "d5716ee9",
   "metadata": {},
   "source": [
    "#### 64. Consider a given vector, how to add 1 to each element indexed by a second vector (be careful with repeated indices)? (★★★)"
   ]
  },
  {
   "cell_type": "code",
   "execution_count": 76,
   "id": "f260f9e7",
   "metadata": {},
   "outputs": [
    {
     "name": "stdout",
     "output_type": "stream",
     "text": [
      "[6. 3. 4. 4. 4. 1. 4. 1. 1. 2.]\n"
     ]
    }
   ],
   "source": [
    "vector = np.ones(10)\n",
    "indices = np.random.randint(0, len(vector), 20)\n",
    "np.add.at(vector, indices, 1)\n",
    "print(vector)"
   ]
  },
  {
   "cell_type": "markdown",
   "id": "b786dda3",
   "metadata": {},
   "source": [
    "#### 65. How to accumulate elements of a vector (X) to an array (F) based on an index list (I)? (★★★)"
   ]
  },
  {
   "cell_type": "code",
   "execution_count": 77,
   "id": "633a999d",
   "metadata": {},
   "outputs": [
    {
     "name": "stdout",
     "output_type": "stream",
     "text": [
      "[0. 7. 0. 6. 5. 0. 0. 0. 0. 3.]\n"
     ]
    }
   ],
   "source": [
    "X = np.array([1, 2, 3, 4, 5, 6])\n",
    "I = np.array([1, 3, 9, 3, 4, 1])\n",
    "F = np.bincount(I, X)\n",
    "print(F)"
   ]
  },
  {
   "cell_type": "markdown",
   "id": "ac48589b",
   "metadata": {},
   "source": [
    "#### 66. Considering a (w,h,3) image of (dtype=ubyte), compute the number of unique colors (★★☆)"
   ]
  },
  {
   "cell_type": "code",
   "execution_count": 78,
   "id": "674b1ad0",
   "metadata": {},
   "outputs": [
    {
     "name": "stdout",
     "output_type": "stream",
     "text": [
      "256\n"
     ]
    }
   ],
   "source": [
    "w, h = 16, 16\n",
    "image = np.random.randint(0, 256, (w, h, 3), dtype=np.uint8)\n",
    "unique_colors = len(np.unique(image.reshape(-1, 3), axis=0))\n",
    "print(unique_colors)"
   ]
  },
  {
   "cell_type": "markdown",
   "id": "97a0706a",
   "metadata": {},
   "source": [
    "#### 67. Considering a four dimensions array, how to get sum over the last two axis at once? (★★★)"
   ]
  },
  {
   "cell_type": "code",
   "execution_count": 79,
   "id": "90fd5208",
   "metadata": {},
   "outputs": [
    {
     "name": "stdout",
     "output_type": "stream",
     "text": [
      "[[16 12 29 28]\n",
      " [22 20 28 13]\n",
      " [17 19 25 27]]\n"
     ]
    }
   ],
   "source": [
    "array = np.random.randint(0, 10, (3, 4, 2, 2))\n",
    "sum_last_two_axes = array.sum(axis=(-2, -1))\n",
    "print(sum_last_two_axes)"
   ]
  },
  {
   "cell_type": "markdown",
   "id": "5a6390a7",
   "metadata": {},
   "source": [
    "#### 68. Considering a one-dimensional vector D, how to compute means of subsets of D using a vector S of same size describing subset  indices? (★★★)"
   ]
  },
  {
   "cell_type": "code",
   "execution_count": 80,
   "id": "8b09c0cf",
   "metadata": {},
   "outputs": [
    {
     "name": "stdout",
     "output_type": "stream",
     "text": [
      "[1.5 3.5 5.5 7.5]\n"
     ]
    }
   ],
   "source": [
    "D = np.array([1, 2, 3, 4, 5, 6, 7, 8])\n",
    "S = np.array([0, 0, 1, 1, 2, 2, 3, 3])\n",
    "means = np.bincount(S, weights=D) / np.bincount(S)\n",
    "print(means)"
   ]
  },
  {
   "cell_type": "markdown",
   "id": "0e62603a",
   "metadata": {},
   "source": [
    "#### 69. How to get the diagonal of a dot product? (★★★)"
   ]
  },
  {
   "cell_type": "code",
   "execution_count": 81,
   "id": "f8aa1fd7",
   "metadata": {},
   "outputs": [
    {
     "name": "stdout",
     "output_type": "stream",
     "text": [
      "[108  60  54]\n"
     ]
    }
   ],
   "source": [
    "A = np.random.randint(0, 10, (3, 3))\n",
    "B = np.random.randint(0, 10, (3, 3))\n",
    "dot_product = np.dot(A, B)\n",
    "diagonal = np.diag(dot_product)\n",
    "print(diagonal)"
   ]
  },
  {
   "cell_type": "markdown",
   "id": "9e6172bc",
   "metadata": {},
   "source": [
    "#### 70. Consider the vector [1, 2, 3, 4, 5], how to build a new vector with 3 consecutive zeros interleaved between each value? (★★★)"
   ]
  },
  {
   "cell_type": "code",
   "execution_count": 82,
   "id": "f62cf127",
   "metadata": {},
   "outputs": [
    {
     "name": "stdout",
     "output_type": "stream",
     "text": [
      "[1. 0. 0. 0. 2. 0. 0. 0. 3. 0. 0. 0. 4. 0. 0. 0. 5.]\n"
     ]
    }
   ],
   "source": [
    "vector = np.array([1, 2, 3, 4, 5])\n",
    "new_vector = np.zeros(len(vector) + (len(vector) - 1) * 3)\n",
    "new_vector[::4] = vector\n",
    "print(new_vector)"
   ]
  },
  {
   "cell_type": "markdown",
   "id": "bf18a209",
   "metadata": {},
   "source": [
    "#### 71. Consider an array of dimension (5,5,3), how to mulitply it by an array with dimensions (5,5)? (★★★)"
   ]
  },
  {
   "cell_type": "code",
   "execution_count": 83,
   "id": "2136455a",
   "metadata": {},
   "outputs": [
    {
     "name": "stdout",
     "output_type": "stream",
     "text": [
      "[[[4.66827044e-01 1.55993525e-01 1.94667971e-01]\n",
      "  [2.42212597e-03 3.37297197e-01 3.02609413e-01]\n",
      "  [8.55116314e-02 1.13265813e-01 1.68477135e-01]\n",
      "  [5.20349027e-01 6.81561213e-01 1.20981907e-01]\n",
      "  [8.76032638e-02 1.33932409e-02 1.00012674e-01]]\n",
      "\n",
      " [[5.30491228e-02 1.97049944e-02 4.23196477e-03]\n",
      "  [6.08523887e-01 4.44635788e-01 4.63243244e-01]\n",
      "  [6.47572408e-01 4.86221589e-01 2.19993608e-01]\n",
      "  [3.07715680e-03 7.45567548e-04 2.83510713e-03]\n",
      "  [1.32824017e-01 1.53546594e-01 8.72172345e-02]]\n",
      "\n",
      " [[2.84454558e-04 3.44563939e-02 3.54098210e-03]\n",
      "  [2.82114641e-02 6.27464193e-01 3.24764560e-01]\n",
      "  [1.44557562e-01 1.20589334e-01 4.19182248e-01]\n",
      "  [1.03066716e-01 7.60331412e-02 1.24555227e-01]\n",
      "  [1.16700557e-01 5.18534567e-03 1.27272321e-01]]\n",
      "\n",
      " [[1.94604598e-01 1.95900908e-01 4.32519706e-01]\n",
      "  [6.37326775e-02 6.31111267e-02 1.30094087e-01]\n",
      "  [1.56244586e-02 4.79950957e-03 5.56277432e-02]\n",
      "  [7.25326808e-01 3.22433070e-01 7.00624473e-01]\n",
      "  [4.67689612e-02 1.40763024e-02 9.91588078e-03]]\n",
      "\n",
      " [[1.66807544e-01 3.11381460e-01 1.02536666e-01]\n",
      "  [6.28971893e-01 2.61857393e-02 2.42383679e-01]\n",
      "  [6.44299690e-01 1.24949816e-01 6.10818304e-01]\n",
      "  [7.08486586e-02 6.64131588e-01 3.25921324e-01]\n",
      "  [3.10013000e-02 7.91093199e-02 4.87964711e-01]]]\n"
     ]
    }
   ],
   "source": [
    "array1 = np.random.random((5, 5, 3))\n",
    "array2 = np.random.random((5, 5))\n",
    "result = array1 * array2[:, :, np.newaxis]\n",
    "print(result)"
   ]
  },
  {
   "cell_type": "markdown",
   "id": "406ce5bd",
   "metadata": {},
   "source": [
    "#### 72. How to swap two rows of an array? (★★★)"
   ]
  },
  {
   "cell_type": "code",
   "execution_count": 84,
   "id": "e5f1a9b3",
   "metadata": {},
   "outputs": [
    {
     "name": "stdout",
     "output_type": "stream",
     "text": [
      "[[1 5 2 3 6]\n",
      " [6 4 3 3 9]\n",
      " [9 9 4 1 3]\n",
      " [4 4 3 0 9]\n",
      " [9 1 9 1 6]]\n"
     ]
    }
   ],
   "source": [
    "matrix = np.random.randint(0, 10, (5, 5))\n",
    "matrix[[0, 1]] = matrix[[1, 0]]\n",
    "print(matrix)"
   ]
  },
  {
   "cell_type": "markdown",
   "id": "95a7c25c",
   "metadata": {},
   "source": [
    "#### 73. Consider a set of 10 triplets describing 10 triangles (with shared vertices), find the set of unique line segments composing all the  triangles (★★★)"
   ]
  },
  {
   "cell_type": "code",
   "execution_count": 85,
   "id": "b1f9743c",
   "metadata": {},
   "outputs": [
    {
     "name": "stdout",
     "output_type": "stream",
     "text": [
      "[[0 2]\n",
      " [0 3]\n",
      " [0 4]\n",
      " [1 2]\n",
      " [1 3]\n",
      " [1 5]\n",
      " [1 6]\n",
      " [1 8]\n",
      " [1 9]\n",
      " [2 3]\n",
      " [2 4]\n",
      " [2 5]\n",
      " [2 6]\n",
      " [2 8]\n",
      " [3 4]\n",
      " [3 6]\n",
      " [3 8]\n",
      " [4 8]\n",
      " [5 8]\n",
      " [5 9]\n",
      " [6 8]\n",
      " [8 9]]\n"
     ]
    }
   ],
   "source": [
    "triangles = np.random.randint(0, 10, (10, 3))\n",
    "edges = np.roll(triangles.repeat(2, axis=1), -1, axis=1)\n",
    "edges = edges.reshape(len(edges) * 3, 2)\n",
    "sorted_edges = np.sort(edges, axis=1)\n",
    "unique_edges = np.unique(sorted_edges, axis=0)\n",
    "print(unique_edges)\n"
   ]
  },
  {
   "cell_type": "markdown",
   "id": "66efbe2a",
   "metadata": {},
   "source": [
    "#### 74. Given a sorted array C that corresponds to a bincount, how to produce an array A such that np.bincount(A) == C? (★★★)"
   ]
  },
  {
   "cell_type": "code",
   "execution_count": 86,
   "id": "ee44e38a",
   "metadata": {},
   "outputs": [
    {
     "name": "stdout",
     "output_type": "stream",
     "text": [
      "[1 1 2 3 4 4 6]\n"
     ]
    }
   ],
   "source": [
    "C = np.bincount([1, 1, 2, 3, 4, 4, 6])\n",
    "A = np.repeat(np.arange(len(C)), C)\n",
    "print(A)"
   ]
  },
  {
   "cell_type": "markdown",
   "id": "35beae72",
   "metadata": {},
   "source": [
    "#### 75. How to compute averages using a sliding window over an array? (★★★)"
   ]
  },
  {
   "cell_type": "code",
   "execution_count": 87,
   "id": "4763807d",
   "metadata": {},
   "outputs": [
    {
     "name": "stdout",
     "output_type": "stream",
     "text": [
      "[ 1.5  2.5  3.5  4.5  5.5  6.5  7.5  8.5  9.5 10.5 11.5 12.5 13.5 14.5\n",
      " 15.5 16.5 17.5]\n"
     ]
    }
   ],
   "source": [
    "def moving_average(arr, window):\n",
    "    return np.convolve(arr, np.ones(window), mode='valid') / window\n",
    "\n",
    "array = np.arange(20)\n",
    "window = 4\n",
    "averages = moving_average(array, window)\n",
    "print(averages)"
   ]
  },
  {
   "cell_type": "markdown",
   "id": "c410bb6f",
   "metadata": {},
   "source": [
    "#### 76. Consider a one-dimensional array Z, build a two-dimensional array whose first row is (Z[0],Z[1],Z[2]) and each subsequent row is  shifted by 1 (last row should be (Z[-3],Z[-2],Z[-1]) (★★★)"
   ]
  },
  {
   "cell_type": "code",
   "execution_count": 89,
   "id": "8ac3c1e6",
   "metadata": {},
   "outputs": [
    {
     "name": "stdout",
     "output_type": "stream",
     "text": [
      "[[0 1 2]\n",
      " [1 2 3]\n",
      " [2 3 4]\n",
      " [3 4 5]\n",
      " [4 5 6]\n",
      " [5 6 7]\n",
      " [6 7 8]\n",
      " [7 8 9]]\n"
     ]
    }
   ],
   "source": [
    "Z = np.arange(10)\n",
    "stride = 3\n",
    "result = []\n",
    "\n",
    "for i in range(len(Z) - stride + 1):\n",
    "    result.append(Z[i:i+stride])\n",
    "\n",
    "strided_array = np.array(result)\n",
    "print(strided_array)"
   ]
  },
  {
   "cell_type": "markdown",
   "id": "0018e0a8",
   "metadata": {},
   "source": [
    "#### 77. How to negate a boolean, or to change the sign of a float inplace? (★★★)"
   ]
  },
  {
   "cell_type": "code",
   "execution_count": 90,
   "id": "21144dd1",
   "metadata": {},
   "outputs": [
    {
     "name": "stdout",
     "output_type": "stream",
     "text": [
      "[False  True False]\n",
      "[ 1.5 -2.   3.5]\n"
     ]
    }
   ],
   "source": [
    "boolean_array = np.array([True, False, True])\n",
    "negated_boolean_array = np.logical_not(boolean_array)\n",
    "print(negated_boolean_array)\n",
    "\n",
    "float_array = np.array([-1.5, 2.0, -3.5])\n",
    "np.negative(float_array, out=float_array)\n",
    "print(float_array)"
   ]
  },
  {
   "cell_type": "markdown",
   "id": "5daf3c84",
   "metadata": {},
   "source": [
    "#### 78. Consider 2 sets of points P0,P1 describing lines (2d) and a point p, how to compute distance from p to each line i (P0[i],P1[i])? (★★★)"
   ]
  },
  {
   "cell_type": "code",
   "execution_count": 91,
   "id": "6ce89ee2",
   "metadata": {},
   "outputs": [
    {
     "name": "stdout",
     "output_type": "stream",
     "text": [
      "[0.12063175 0.44586687 0.19971671 0.22093434 0.30031015]\n"
     ]
    }
   ],
   "source": [
    "P0 = np.random.random((5, 2))\n",
    "P1 = np.random.random((5, 2))\n",
    "p = np.random.random(2)\n",
    "\n",
    "def distance_to_line(P0, P1, p):\n",
    "    return np.abs(np.cross(P1 - P0, p - P0) / np.linalg.norm(P1 - P0))\n",
    "\n",
    "distances = distance_to_line(P0, P1, p)\n",
    "print(distances)"
   ]
  },
  {
   "cell_type": "markdown",
   "id": "fb343907",
   "metadata": {},
   "source": [
    "#### 79. Consider 2 sets of points P0,P1 describing lines (2d) and a set of points P, how to compute distance from each point j (P[j]) to each line i (P0[i],P1[i])? (★★★)"
   ]
  },
  {
   "cell_type": "code",
   "execution_count": 93,
   "id": "88437571",
   "metadata": {},
   "outputs": [
    {
     "name": "stdout",
     "output_type": "stream",
     "text": [
      "[[0.2590594  0.382097   0.00926625 0.19870821 0.45085572 0.57784825\n",
      "  0.47534374 0.60800425 0.1846944  0.30423706]\n",
      " [0.08946716 0.4072326  0.42842571 0.04126055 0.09225342 0.1200352\n",
      "  0.04723616 0.25674788 0.21648949 0.40903067]\n",
      " [0.26793516 0.29142244 0.09199655 0.15870358 0.45189769 0.54757103\n",
      "  0.42702993 0.61752402 0.06809525 0.37039932]\n",
      " [0.42335263 0.73405366 0.48447414 0.07917285 0.55509397 0.12091889\n",
      "  0.10368865 0.0434549  0.09585408 0.27104791]\n",
      " [0.29713531 0.08598872 0.13776067 0.09875587 0.39535968 0.1685401\n",
      "  0.05158866 0.3029824  0.32974563 0.27571354]]\n"
     ]
    }
   ],
   "source": [
    "\n",
    "\n",
    "P0 = np.random.random((5, 2))\n",
    "P1 = np.random.random((5, 2))\n",
    "P = np.random.random((10, 2))\n",
    "\n",
    "def distance_to_lines(P0, P1, P):\n",
    "    num_lines = len(P0)\n",
    "    num_points = len(P)\n",
    "    distances = np.zeros((num_lines, num_points))\n",
    "    \n",
    "    for i in range(num_lines):\n",
    "        line_start = P0[i]\n",
    "        line_end = P1[i]\n",
    "        \n",
    "        for j in range(num_points):\n",
    "            point = P[j]\n",
    "            \n",
    "            numerator = np.abs(np.cross(line_end - line_start, point - line_start))\n",
    "            denominator = np.linalg.norm(line_end - line_start)\n",
    "            \n",
    "            distances[i, j] = numerator / denominator\n",
    "    \n",
    "    return distances\n",
    "\n",
    "distances = distance_to_lines(P0, P1, P)\n",
    "print(distances)\n"
   ]
  },
  {
   "cell_type": "markdown",
   "id": "db4b5dfd",
   "metadata": {},
   "source": [
    "#### 80. Consider an arbitrary array, write a function that extract a subpart with a fixed shape and centered on a given element (pad with a `fill` value when necessary) (★★★)"
   ]
  },
  {
   "cell_type": "code",
   "execution_count": 96,
   "id": "d47f765d",
   "metadata": {},
   "outputs": [
    {
     "name": "stdout",
     "output_type": "stream",
     "text": [
      "[[0.3377822  0.94849785 0.7268433 ]\n",
      " [0.09533329 0.13912996 0.38738404]\n",
      " [0.60593407 0.66546898 0.392864  ]]\n"
     ]
    }
   ],
   "source": [
    "def extract_subpart(array, shape, center):\n",
    "    pad_x, pad_y = [(s - 1) // 2 for s in shape]\n",
    "    x, y = center\n",
    "    subpart = array[x - pad_x : x + pad_x + 1, y - pad_y : y + pad_y + 1]\n",
    "    return subpart\n",
    "\n",
    "array = np.random.random((8, 8))\n",
    "shape = (3, 3)\n",
    "center = (4, 4)\n",
    "subpart = extract_subpart(array, shape, center)\n",
    "print(subpart)"
   ]
  },
  {
   "cell_type": "markdown",
   "id": "c1167c24",
   "metadata": {},
   "source": [
    "#### 81. Consider an array Z = [1,2,3,4,5,6,7,8,9,10,11,12,13,14], how to generate an array R = [[1,2,3,4], [2,3,4,5], [3,4,5,6], ..., [11,12,13,14]]? (★★★)"
   ]
  },
  {
   "cell_type": "code",
   "execution_count": 97,
   "id": "e9683d7c",
   "metadata": {},
   "outputs": [
    {
     "name": "stdout",
     "output_type": "stream",
     "text": [
      "[[ 1  2  3  4]\n",
      " [ 2  3  4  5]\n",
      " [ 3  4  5  6]\n",
      " [ 4  5  6  7]\n",
      " [ 5  6  7  8]\n",
      " [ 6  7  8  9]\n",
      " [ 7  8  9 10]\n",
      " [ 8  9 10 11]\n",
      " [ 9 10 11 12]\n",
      " [10 11 12 13]\n",
      " [11 12 13 14]]\n"
     ]
    }
   ],
   "source": [
    "Z = np.arange(1, 15)\n",
    "window = 4\n",
    "R = np.lib.stride_tricks.sliding_window_view(Z, window)\n",
    "print(R)"
   ]
  },
  {
   "cell_type": "markdown",
   "id": "aec56eee",
   "metadata": {},
   "source": [
    "#### 82. Compute a matrix rank (★★★)"
   ]
  },
  {
   "cell_type": "code",
   "execution_count": 98,
   "id": "070e7603",
   "metadata": {},
   "outputs": [
    {
     "name": "stdout",
     "output_type": "stream",
     "text": [
      "3\n"
     ]
    }
   ],
   "source": [
    "matrix = np.random.randint(0, 2, (4, 4))\n",
    "rank = np.linalg.matrix_rank(matrix)\n",
    "print(rank)"
   ]
  },
  {
   "cell_type": "markdown",
   "id": "c7e611bf",
   "metadata": {},
   "source": [
    "#### 83. How to find the most frequent value in an array?"
   ]
  },
  {
   "cell_type": "code",
   "execution_count": 99,
   "id": "07a248d8",
   "metadata": {},
   "outputs": [
    {
     "name": "stdout",
     "output_type": "stream",
     "text": [
      "4\n"
     ]
    }
   ],
   "source": [
    "array = np.array([1, 2, 2, 3, 3, 3, 4, 4, 4, 4])\n",
    "most_frequent_value = np.bincount(array).argmax()\n",
    "print(most_frequent_value)"
   ]
  },
  {
   "cell_type": "markdown",
   "id": "af6f64df",
   "metadata": {},
   "source": [
    "#### 84. Extract all the contiguous 3x3 blocks from a random 10x10 matrix (★★★)"
   ]
  },
  {
   "cell_type": "code",
   "execution_count": 100,
   "id": "bcba4c31",
   "metadata": {},
   "outputs": [
    {
     "name": "stdout",
     "output_type": "stream",
     "text": [
      "[[[[6 0 8]\n",
      "   [4 5 5]\n",
      "   [2 0 8]]\n",
      "\n",
      "  [[0 8 2]\n",
      "   [5 5 1]\n",
      "   [0 8 7]]\n",
      "\n",
      "  [[8 2 1]\n",
      "   [5 1 7]\n",
      "   [8 7 9]]\n",
      "\n",
      "  [[2 1 7]\n",
      "   [1 7 7]\n",
      "   [7 9 0]]\n",
      "\n",
      "  [[1 7 1]\n",
      "   [7 7 1]\n",
      "   [9 0 9]]\n",
      "\n",
      "  [[7 1 5]\n",
      "   [7 1 8]\n",
      "   [0 9 9]]\n",
      "\n",
      "  [[1 5 4]\n",
      "   [1 8 5]\n",
      "   [9 9 6]]\n",
      "\n",
      "  [[5 4 2]\n",
      "   [8 5 8]\n",
      "   [9 6 2]]]\n",
      "\n",
      "\n",
      " [[[4 5 5]\n",
      "   [2 0 8]\n",
      "   [5 9 4]]\n",
      "\n",
      "  [[5 5 1]\n",
      "   [0 8 7]\n",
      "   [9 4 6]]\n",
      "\n",
      "  [[5 1 7]\n",
      "   [8 7 9]\n",
      "   [4 6 1]]\n",
      "\n",
      "  [[1 7 7]\n",
      "   [7 9 0]\n",
      "   [6 1 4]]\n",
      "\n",
      "  [[7 7 1]\n",
      "   [9 0 9]\n",
      "   [1 4 0]]\n",
      "\n",
      "  [[7 1 8]\n",
      "   [0 9 9]\n",
      "   [4 0 3]]\n",
      "\n",
      "  [[1 8 5]\n",
      "   [9 9 6]\n",
      "   [0 3 6]]\n",
      "\n",
      "  [[8 5 8]\n",
      "   [9 6 2]\n",
      "   [3 6 4]]]\n",
      "\n",
      "\n",
      " [[[2 0 8]\n",
      "   [5 9 4]\n",
      "   [5 0 3]]\n",
      "\n",
      "  [[0 8 7]\n",
      "   [9 4 6]\n",
      "   [0 3 4]]\n",
      "\n",
      "  [[8 7 9]\n",
      "   [4 6 1]\n",
      "   [3 4 2]]\n",
      "\n",
      "  [[7 9 0]\n",
      "   [6 1 4]\n",
      "   [4 2 2]]\n",
      "\n",
      "  [[9 0 9]\n",
      "   [1 4 0]\n",
      "   [2 2 3]]\n",
      "\n",
      "  [[0 9 9]\n",
      "   [4 0 3]\n",
      "   [2 3 0]]\n",
      "\n",
      "  [[9 9 6]\n",
      "   [0 3 6]\n",
      "   [3 0 5]]\n",
      "\n",
      "  [[9 6 2]\n",
      "   [3 6 4]\n",
      "   [0 5 4]]]\n",
      "\n",
      "\n",
      " [[[5 9 4]\n",
      "   [5 0 3]\n",
      "   [0 8 2]]\n",
      "\n",
      "  [[9 4 6]\n",
      "   [0 3 4]\n",
      "   [8 2 9]]\n",
      "\n",
      "  [[4 6 1]\n",
      "   [3 4 2]\n",
      "   [2 9 7]]\n",
      "\n",
      "  [[6 1 4]\n",
      "   [4 2 2]\n",
      "   [9 7 5]]\n",
      "\n",
      "  [[1 4 0]\n",
      "   [2 2 3]\n",
      "   [7 5 3]]\n",
      "\n",
      "  [[4 0 3]\n",
      "   [2 3 0]\n",
      "   [5 3 2]]\n",
      "\n",
      "  [[0 3 6]\n",
      "   [3 0 5]\n",
      "   [3 2 0]]\n",
      "\n",
      "  [[3 6 4]\n",
      "   [0 5 4]\n",
      "   [2 0 2]]]\n",
      "\n",
      "\n",
      " [[[5 0 3]\n",
      "   [0 8 2]\n",
      "   [4 1 2]]\n",
      "\n",
      "  [[0 3 4]\n",
      "   [8 2 9]\n",
      "   [1 2 7]]\n",
      "\n",
      "  [[3 4 2]\n",
      "   [2 9 7]\n",
      "   [2 7 7]]\n",
      "\n",
      "  [[4 2 2]\n",
      "   [9 7 5]\n",
      "   [7 7 7]]\n",
      "\n",
      "  [[2 2 3]\n",
      "   [7 5 3]\n",
      "   [7 7 6]]\n",
      "\n",
      "  [[2 3 0]\n",
      "   [5 3 2]\n",
      "   [7 6 8]]\n",
      "\n",
      "  [[3 0 5]\n",
      "   [3 2 0]\n",
      "   [6 8 7]]\n",
      "\n",
      "  [[0 5 4]\n",
      "   [2 0 2]\n",
      "   [8 7 0]]]\n",
      "\n",
      "\n",
      " [[[0 8 2]\n",
      "   [4 1 2]\n",
      "   [2 6 2]]\n",
      "\n",
      "  [[8 2 9]\n",
      "   [1 2 7]\n",
      "   [6 2 6]]\n",
      "\n",
      "  [[2 9 7]\n",
      "   [2 7 7]\n",
      "   [2 6 1]]\n",
      "\n",
      "  [[9 7 5]\n",
      "   [7 7 7]\n",
      "   [6 1 8]]\n",
      "\n",
      "  [[7 5 3]\n",
      "   [7 7 6]\n",
      "   [1 8 5]]\n",
      "\n",
      "  [[5 3 2]\n",
      "   [7 6 8]\n",
      "   [8 5 0]]\n",
      "\n",
      "  [[3 2 0]\n",
      "   [6 8 7]\n",
      "   [5 0 2]]\n",
      "\n",
      "  [[2 0 2]\n",
      "   [8 7 0]\n",
      "   [0 2 3]]]\n",
      "\n",
      "\n",
      " [[[4 1 2]\n",
      "   [2 6 2]\n",
      "   [4 8 6]]\n",
      "\n",
      "  [[1 2 7]\n",
      "   [6 2 6]\n",
      "   [8 6 3]]\n",
      "\n",
      "  [[2 7 7]\n",
      "   [2 6 1]\n",
      "   [6 3 7]]\n",
      "\n",
      "  [[7 7 7]\n",
      "   [6 1 8]\n",
      "   [3 7 5]]\n",
      "\n",
      "  [[7 7 6]\n",
      "   [1 8 5]\n",
      "   [7 5 2]]\n",
      "\n",
      "  [[7 6 8]\n",
      "   [8 5 0]\n",
      "   [5 2 3]]\n",
      "\n",
      "  [[6 8 7]\n",
      "   [5 0 2]\n",
      "   [2 3 8]]\n",
      "\n",
      "  [[8 7 0]\n",
      "   [0 2 3]\n",
      "   [3 8 6]]]\n",
      "\n",
      "\n",
      " [[[2 6 2]\n",
      "   [4 8 6]\n",
      "   [4 7 0]]\n",
      "\n",
      "  [[6 2 6]\n",
      "   [8 6 3]\n",
      "   [7 0 8]]\n",
      "\n",
      "  [[2 6 1]\n",
      "   [6 3 7]\n",
      "   [0 8 4]]\n",
      "\n",
      "  [[6 1 8]\n",
      "   [3 7 5]\n",
      "   [8 4 6]]\n",
      "\n",
      "  [[1 8 5]\n",
      "   [7 5 2]\n",
      "   [4 6 7]]\n",
      "\n",
      "  [[8 5 0]\n",
      "   [5 2 3]\n",
      "   [6 7 8]]\n",
      "\n",
      "  [[5 0 2]\n",
      "   [2 3 8]\n",
      "   [7 8 8]]\n",
      "\n",
      "  [[0 2 3]\n",
      "   [3 8 6]\n",
      "   [8 8 0]]]]\n"
     ]
    }
   ],
   "source": [
    "matrix = np.random.randint(0, 10, (10, 10))\n",
    "block_size = 3\n",
    "blocks = np.lib.stride_tricks.sliding_window_view(matrix, (block_size, block_size))\n",
    "print(blocks)"
   ]
  },
  {
   "cell_type": "markdown",
   "id": "017aeda1",
   "metadata": {},
   "source": [
    "#### 85. Create a 2D array subclass such that Z[i,j] == Z[j,i] (★★★)"
   ]
  },
  {
   "cell_type": "code",
   "execution_count": 101,
   "id": "14c85e42",
   "metadata": {},
   "outputs": [
    {
     "name": "stdout",
     "output_type": "stream",
     "text": [
      "[[ 0.  0.  0.  0.]\n",
      " [ 0.  0. 42.  0.]\n",
      " [ 0. 42.  0.  0.]\n",
      " [ 0.  0.  0.  0.]]\n",
      "42.0\n"
     ]
    }
   ],
   "source": [
    "class SymmetricArray(np.ndarray):\n",
    "    def __setitem__(self, key, value):\n",
    "        i, j = key\n",
    "        super(SymmetricArray, self).__setitem__((i, j), value)\n",
    "        super(SymmetricArray, self).__setitem__((j, i), value)\n",
    "\n",
    "shape = (4, 4)\n",
    "symmetric_array = np.zeros(shape).view(SymmetricArray)\n",
    "symmetric_array[1, 2] = 42\n",
    "print(symmetric_array)\n",
    "print(symmetric_array[2, 1])"
   ]
  },
  {
   "cell_type": "markdown",
   "id": "c811c4d4",
   "metadata": {},
   "source": [
    "#### 86. Consider a set of p matrices wich shape (n,n) and a set of p vectors with shape (n,1). How to compute the sum of of the p matrix products at once? (result has shape (n,1)) (★★★)"
   ]
  },
  {
   "cell_type": "code",
   "execution_count": 102,
   "id": "7906b957",
   "metadata": {},
   "outputs": [
    {
     "name": "stdout",
     "output_type": "stream",
     "text": [
      "[[3.87782766]\n",
      " [4.40422662]\n",
      " [5.07178281]]\n"
     ]
    }
   ],
   "source": [
    "p = 5\n",
    "n = 3\n",
    "matrices = np.random.random((p, n, n))\n",
    "vectors = np.random.random((p, n, 1))\n",
    "result = np.sum(matrices @ vectors, axis=0)\n",
    "print(result)"
   ]
  },
  {
   "cell_type": "markdown",
   "id": "6d2e3bb3",
   "metadata": {},
   "source": [
    "#### 87. Consider a 16x16 array, how to get the block-sum (block size is 4x4)? (★★★)"
   ]
  },
  {
   "cell_type": "code",
   "execution_count": 103,
   "id": "53729a59",
   "metadata": {},
   "outputs": [
    {
     "name": "stdout",
     "output_type": "stream",
     "text": [
      "[[89 72 79 58]\n",
      " [63 74 72 62]\n",
      " [85 77 74 69]\n",
      " [70 80 68 80]]\n"
     ]
    }
   ],
   "source": [
    "array = np.random.randint(0, 10, (16, 16))\n",
    "block_size = (4, 4)\n",
    "block_sum = np.add.reduceat(np.add.reduceat(array, np.arange(0, array.shape[0], block_size[0]), axis=0), np.arange(0, array.shape[1], block_size[1]), axis=1)\n",
    "print(block_sum)"
   ]
  },
  {
   "cell_type": "markdown",
   "id": "53c37605",
   "metadata": {},
   "source": [
    "#### 88. How to implement the Game of Life using numpy arrays? (★★★)"
   ]
  },
  {
   "cell_type": "code",
   "execution_count": 104,
   "id": "15c356df",
   "metadata": {},
   "outputs": [
    {
     "name": "stdout",
     "output_type": "stream",
     "text": [
      "[[0 1 0 0 0 0 1 1 1 0]\n",
      " [1 0 0 0 1 1 0 1 0 1]\n",
      " [0 0 0 0 1 1 0 0 0 1]\n",
      " [1 0 0 0 1 1 1 0 0 1]\n",
      " [0 1 0 0 0 0 0 0 0 1]\n",
      " [1 0 1 0 0 0 0 0 0 1]\n",
      " [0 0 1 1 1 0 0 0 0 0]\n",
      " [0 0 1 1 0 0 0 0 0 0]\n",
      " [0 0 1 0 0 0 0 0 1 0]\n",
      " [1 0 0 1 1 0 0 0 0 1]]\n"
     ]
    }
   ],
   "source": [
    "def game_of_life(grid, iterations):\n",
    "    def count_neighbors(arr, i, j):\n",
    "        neighbors = arr[i-1:i+2, j-1:j+2]\n",
    "        neighbors_sum = np.sum(neighbors) - arr[i, j]\n",
    "        return neighbors_sum\n",
    "\n",
    "    for _ in range(iterations):\n",
    "        new_grid = grid.copy()\n",
    "        for i in range(1, grid.shape[0]-1):\n",
    "            for j in range(1, grid.shape[1]-1):\n",
    "                neighbors_count = count_neighbors(grid, i, j)\n",
    "                if grid[i, j] == 1:\n",
    "                    if neighbors_count < 2 or neighbors_count > 3:\n",
    "                        new_grid[i, j] = 0\n",
    "                else:\n",
    "                    if neighbors_count == 3:\n",
    "                        new_grid[i, j] = 1\n",
    "        grid = new_grid\n",
    "    return grid\n",
    "\n",
    "initial_state = np.random.choice([0, 1], size=(10, 10))\n",
    "final_state = game_of_life(initial_state, iterations=5)\n",
    "print(final_state)"
   ]
  },
  {
   "cell_type": "markdown",
   "id": "9a9e6012",
   "metadata": {},
   "source": [
    "#### 89. How to get the n largest values of an array (★★★)"
   ]
  },
  {
   "cell_type": "code",
   "execution_count": 105,
   "id": "81db0da4",
   "metadata": {},
   "outputs": [
    {
     "name": "stdout",
     "output_type": "stream",
     "text": [
      "[7 8 9]\n"
     ]
    }
   ],
   "source": [
    "array = np.array([1, 3, 5, 7, 9, 2, 4, 6, 8])\n",
    "n_largest = array[np.argsort(array)[-3:]]\n",
    "print(n_largest)\n"
   ]
  },
  {
   "cell_type": "markdown",
   "id": "cc919c21",
   "metadata": {},
   "source": [
    "#### 90. Given an arbitrary number of vectors, build the cartesian product (every combinations of every item) (★★★)"
   ]
  },
  {
   "cell_type": "code",
   "execution_count": 106,
   "id": "988a3bb5",
   "metadata": {},
   "outputs": [
    {
     "name": "stdout",
     "output_type": "stream",
     "text": [
      "[[1 4 6]\n",
      " [1 5 6]\n",
      " [2 4 6]\n",
      " [2 5 6]\n",
      " [3 4 6]\n",
      " [3 5 6]\n",
      " [1 4 7]\n",
      " [1 5 7]\n",
      " [2 4 7]\n",
      " [2 5 7]\n",
      " [3 4 7]\n",
      " [3 5 7]]\n"
     ]
    }
   ],
   "source": [
    "vectors = [np.array([1, 2, 3]), np.array([4, 5]), np.array([6, 7])]\n",
    "cartesian_product = np.array(np.meshgrid(*vectors)).T.reshape(-1, len(vectors))\n",
    "print(cartesian_product)"
   ]
  },
  {
   "cell_type": "markdown",
   "id": "00d71f11",
   "metadata": {},
   "source": [
    "#### 91. How to create a record array from a regular array? (★★★)"
   ]
  },
  {
   "cell_type": "code",
   "execution_count": 107,
   "id": "f12bb1c9",
   "metadata": {},
   "outputs": [
    {
     "name": "stdout",
     "output_type": "stream",
     "text": [
      "[('Alice', 25, 1.75) ('Bob', 30, 1.8 ) ('Charlie', 35, 1.9 )]\n"
     ]
    }
   ],
   "source": [
    "array = np.array([(\"Alice\", 25, 1.75), (\"Bob\", 30, 1.80), (\"Charlie\", 35, 1.90)], dtype=[(\"name\", 'U10'), (\"age\", int), (\"height\", float)])\n",
    "record_array = np.rec.array(array)\n",
    "print(record_array)"
   ]
  },
  {
   "cell_type": "markdown",
   "id": "64ebf4fd",
   "metadata": {},
   "source": [
    "#### 92. Consider a large vector Z, compute Z to the power of 3 using 3 different methods (★★★)"
   ]
  },
  {
   "cell_type": "code",
   "execution_count": 111,
   "id": "b5cd89d8",
   "metadata": {},
   "outputs": [
    {
     "name": "stdout",
     "output_type": "stream",
     "text": [
      "True\n",
      "True\n"
     ]
    }
   ],
   "source": [
    "Z = np.random.random(1000000)\n",
    "method1 = Z * Z * Z\n",
    "method2 = np.power(Z, 3)\n",
    "method3 = np.einsum('i,i,i->i', Z, Z, Z)\n",
    "print(np.allclose(method1, method2))\n",
    "print(np.allclose(method1, method3))"
   ]
  },
  {
   "cell_type": "markdown",
   "id": "38136543",
   "metadata": {},
   "source": [
    "#### 93. Consider two arrays A and B of shape (8,3) and (2,2). How to find rows of A that contain elements of each row of B regardless of the order of the elements in B? (★★★)"
   ]
  },
  {
   "cell_type": "code",
   "execution_count": 123,
   "id": "1b3340ef",
   "metadata": {},
   "outputs": [
    {
     "name": "stdout",
     "output_type": "stream",
     "text": [
      "[[1 2 3]\n",
      " [2 3 4]\n",
      " [4 5 6]\n",
      " [5 6 7]]\n"
     ]
    }
   ],
   "source": [
    "\n",
    "A = np.array([[1, 2, 3],\n",
    "              [2, 3, 4],\n",
    "              [3, 4, 5],\n",
    "              [4, 5, 6],\n",
    "              [5, 6, 7],\n",
    "              [6, 7, 8],\n",
    "              [7, 8, 9],\n",
    "              [8, 9, 10]])\n",
    "\n",
    "B = np.array([[3, 2],\n",
    "              [5, 6]])\n",
    "\n",
    "sorted_unique_B = np.vstack([tuple(sorted(row)) for row in B])\n",
    "\n",
    "mask = np.zeros(A.shape[0], dtype=bool)\n",
    "\n",
    "\n",
    "for i, row in enumerate(A):\n",
    "    for b_row in sorted_unique_B:\n",
    "        if set(b_row).issubset(row):\n",
    "            mask[i] = True\n",
    "            break  \n",
    "result = A[mask]\n",
    "\n",
    "print(result)\n"
   ]
  },
  {
   "cell_type": "markdown",
   "id": "b4921d06",
   "metadata": {},
   "source": [
    "#### 94. Considering a 10x3 matrix, extract rows with unequal values (e.g. [2,2,3]) (★★★)"
   ]
  },
  {
   "cell_type": "code",
   "execution_count": 114,
   "id": "0bfff857",
   "metadata": {},
   "outputs": [
    {
     "name": "stdout",
     "output_type": "stream",
     "text": [
      "[[3 0 3]\n",
      " [0 1 3]\n",
      " [4 0 1]\n",
      " [4 4 0]\n",
      " [0 4 1]\n",
      " [1 3 0]\n",
      " [3 0 2]\n",
      " [0 0 2]\n",
      " [4 1 4]\n",
      " [3 0 0]]\n"
     ]
    }
   ],
   "source": [
    "matrix = np.random.randint(0, 5, (10, 3))\n",
    "unequal_rows = matrix[~np.all(matrix[:, 1:] == matrix[:, :-1], axis=1)]\n",
    "print(unequal_rows)"
   ]
  },
  {
   "cell_type": "markdown",
   "id": "ec7f96ae",
   "metadata": {},
   "source": [
    "#### 95. Convert a vector of ints into a matrix binary representation (★★★)"
   ]
  },
  {
   "cell_type": "code",
   "execution_count": 115,
   "id": "a6b67da4",
   "metadata": {},
   "outputs": [
    {
     "name": "stdout",
     "output_type": "stream",
     "text": [
      "[[0 0 0 0 0 0 0 0]\n",
      " [0 0 0 0 0 0 0 1]\n",
      " [0 0 0 0 0 0 1 0]\n",
      " [0 0 0 0 0 0 1 1]\n",
      " [0 0 0 0 0 1 0 0]\n",
      " [0 0 0 0 0 1 0 1]\n",
      " [0 0 0 0 0 1 1 0]\n",
      " [0 0 0 0 0 1 1 1]\n",
      " [0 0 0 0 1 0 0 0]\n",
      " [0 0 0 0 1 0 0 1]]\n"
     ]
    }
   ],
   "source": [
    "vector = np.array([0, 1, 2, 3, 4, 5, 6, 7, 8, 9], dtype=np.uint8)\n",
    "matrix = np.unpackbits(vector[:, np.newaxis], axis=1)\n",
    "print(matrix)"
   ]
  },
  {
   "cell_type": "markdown",
   "id": "36372a4c",
   "metadata": {},
   "source": [
    "#### 96. Given a two dimensional array, how to extract unique rows? (★★★)"
   ]
  },
  {
   "cell_type": "code",
   "execution_count": 116,
   "id": "ce55a93c",
   "metadata": {},
   "outputs": [
    {
     "name": "stdout",
     "output_type": "stream",
     "text": [
      "[[1 2 3]\n",
      " [4 5 6]\n",
      " [7 8 9]]\n"
     ]
    }
   ],
   "source": [
    "array = np.array([[1, 2, 3], [4, 5, 6], [1, 2, 3], [7, 8, 9], [4, 5, 6]])\n",
    "unique_rows = np.unique(array, axis=0)\n",
    "print(unique_rows)"
   ]
  },
  {
   "cell_type": "markdown",
   "id": "60f005c4",
   "metadata": {},
   "source": [
    "#### 97. Considering 2 vectors A & B, write the einsum equivalent of inner, outer, sum, and mul function (★★★)"
   ]
  },
  {
   "cell_type": "code",
   "execution_count": 117,
   "id": "8d803978",
   "metadata": {},
   "outputs": [
    {
     "name": "stdout",
     "output_type": "stream",
     "text": [
      "Inner Product: 32\n",
      "Outer Product:\n",
      " [[ 4  5  6]\n",
      " [ 8 10 12]\n",
      " [12 15 18]]\n",
      "Sum: 6\n",
      "Elementwise Product: [ 4 10 18]\n"
     ]
    }
   ],
   "source": [
    "A = np.array([1, 2, 3])\n",
    "B = np.array([4, 5, 6])\n",
    "inner_product = np.einsum(\"i,i->\", A, B)\n",
    "outer_product = np.einsum(\"i,j->ij\", A, B)\n",
    "sum_product = np.einsum(\"i->\", A)\n",
    "elementwise_product = np.einsum(\"i,i->i\", A, B)\n",
    "print(\"Inner Product:\", inner_product)\n",
    "print(\"Outer Product:\\n\", outer_product)\n",
    "print(\"Sum:\", sum_product)\n",
    "print(\"Elementwise Product:\", elementwise_product)"
   ]
  },
  {
   "cell_type": "markdown",
   "id": "462c0886",
   "metadata": {},
   "source": [
    "#### 98. Considering a path described by two vectors (X,Y), how to sample it using equidistant samples (★★★)?"
   ]
  },
  {
   "cell_type": "code",
   "execution_count": 118,
   "id": "e147e53d",
   "metadata": {},
   "outputs": [
    {
     "name": "stdout",
     "output_type": "stream",
     "text": [
      "(array([1, 1, 1, 2, 2, 3, 3, 4, 4, 5]), array([ 2,  2,  2,  3,  3,  5,  5,  7,  7, 11]))\n"
     ]
    }
   ],
   "source": [
    "X = np.array([1, 2, 3, 4, 5])\n",
    "Y = np.array([2, 3, 5, 7, 11])\n",
    "num_samples = 10\n",
    "sampled_indices = np.linspace(0, len(X) - 1, num_samples, dtype=int)\n",
    "sampled_path = (X[sampled_indices], Y[sampled_indices])\n",
    "print(sampled_path)"
   ]
  },
  {
   "cell_type": "markdown",
   "id": "04521d50",
   "metadata": {},
   "source": [
    "#### 99. Given an integer n and a 2D array X, select from X the rows which can be interpreted as draws from a multinomial distribution with n degrees, i.e., the rows which only contain integers and which sum to n. (★★★)"
   ]
  },
  {
   "cell_type": "code",
   "execution_count": 131,
   "id": "c0449f4f",
   "metadata": {},
   "outputs": [
    {
     "name": "stdout",
     "output_type": "stream",
     "text": [
      "[[1 2 3]\n",
      " [4 1 1]\n",
      " [2 2 2]\n",
      " [0 3 3]\n",
      " [6 0 0]]\n"
     ]
    }
   ],
   "source": [
    "\n",
    "n = 6\n",
    "X = np.array([[1, 2, 3], [4, 1, 1], [2, 2, 2], [0, 3, 3], [6, 0, 0]])\n",
    "\n",
    "rows_meeting_criteria = X[(np.all(X % 1 == 0, axis=1)) & (np.sum(X, axis=1) == n)]\n",
    "\n",
    "print(rows_meeting_criteria)\n"
   ]
  },
  {
   "cell_type": "markdown",
   "id": "ca425314",
   "metadata": {},
   "source": [
    "#### 100. Compute bootstrapped 95% confidence intervals for the mean of a 1D array X (i.e., resample the elements of an array with replacement N times, compute the mean of each sample, and then compute percentiles over the means). (★★★)"
   ]
  },
  {
   "cell_type": "code",
   "execution_count": 120,
   "id": "02d99973",
   "metadata": {},
   "outputs": [
    {
     "name": "stdout",
     "output_type": "stream",
     "text": [
      "95% Confidence Interval for Mean: [-0.07555291  0.05241579]\n"
     ]
    }
   ],
   "source": [
    "X = np.random.randn(1000)  # Example data\n",
    "N = 10000  \n",
    "bootstrap_samples = np.random.choice(X, (N, len(X)), replace=True)\n",
    "bootstrap_means = bootstrap_samples.mean(axis=1)\n",
    "confidence_interval = np.percentile(bootstrap_means, [2.5, 97.5])\n",
    "print(\"95% Confidence Interval for Mean:\", confidence_interval)"
   ]
  },
  {
   "cell_type": "code",
   "execution_count": null,
   "id": "6fba333e",
   "metadata": {},
   "outputs": [],
   "source": []
  }
 ],
 "metadata": {
  "kernelspec": {
   "display_name": "Python 3 (ipykernel)",
   "language": "python",
   "name": "python3"
  },
  "language_info": {
   "codemirror_mode": {
    "name": "ipython",
    "version": 3
   },
   "file_extension": ".py",
   "mimetype": "text/x-python",
   "name": "python",
   "nbconvert_exporter": "python",
   "pygments_lexer": "ipython3",
   "version": "3.11.4"
  }
 },
 "nbformat": 4,
 "nbformat_minor": 5
}
